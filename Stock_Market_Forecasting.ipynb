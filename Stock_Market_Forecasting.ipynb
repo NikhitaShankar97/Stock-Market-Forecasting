{
  "cells": [
    {
      "cell_type": "markdown",
      "metadata": {
        "id": "view-in-github",
        "colab_type": "text"
      },
      "source": [
        "<a href=\"https://colab.research.google.com/github/NikhitaShankar97/Stock-Market-Forecasting/blob/main/Stock_Market_Forecasting.ipynb\" target=\"_parent\"><img src=\"https://colab.research.google.com/assets/colab-badge.svg\" alt=\"Open In Colab\"/></a>"
      ]
    },
    {
      "cell_type": "markdown",
      "metadata": {
        "id": "gnBmEKf28ntE"
      },
      "source": [
        "# **Interactive Stock Price Prediction App Using Multiple Machine Learning Models**\n",
        "\n",
        "\n",
        "---\n",
        "\n"
      ]
    },
    {
      "cell_type": "markdown",
      "metadata": {
        "id": "FDMK1KapLbCc"
      },
      "source": [
        "### This code uses the yfinance library to download historical stock data for a specified list of stock symbols (e.g., AAPL, MSFT, GOOG) over a given date range (January 1, 2010, to December 31, 2024). It then prints the retrieved data.\n"
      ]
    },
    {
      "cell_type": "code",
      "execution_count": null,
      "metadata": {
        "colab": {
          "base_uri": "https://localhost:8080/"
        },
        "id": "U3oa4XDFGDQY",
        "outputId": "1136e383-bf14-42cc-86e9-218201eb7add"
      },
      "outputs": [
        {
          "name": "stderr",
          "output_type": "stream",
          "text": [
            "[*********************100%***********************]  3 of 3 completed"
          ]
        },
        {
          "name": "stdout",
          "output_type": "stream",
          "text": [
            "Price        Adj Close                               Close              \\\n",
            "Ticker            AAPL        GOOG        MSFT        AAPL        GOOG   \n",
            "Date                                                                     \n",
            "2010-01-04    6.447411   15.571998   23.300680    7.643214   15.610239   \n",
            "2010-01-05    6.458559   15.503423   23.308208    7.656429   15.541497   \n",
            "2010-01-06    6.355827   15.112601   23.165163    7.534643   15.149715   \n",
            "2010-01-07    6.344077   14.760787   22.924252    7.520714   14.797037   \n",
            "2010-01-08    6.386256   14.957565   23.082359    7.570714   14.994298   \n",
            "...                ...         ...         ...         ...         ...   \n",
            "2024-12-03  242.649994  173.020004  431.200012  242.649994  173.020004   \n",
            "2024-12-04  243.009995  176.089996  437.420013  243.009995  176.089996   \n",
            "2024-12-05  243.039993  174.309998  442.619995  243.039993  174.309998   \n",
            "2024-12-06  242.839996  176.490005  443.570007  242.839996  176.490005   \n",
            "2024-12-09  246.750000  177.100006  446.019989  246.750000  177.100006   \n",
            "\n",
            "Price                         High                                 Low  \\\n",
            "Ticker            MSFT        AAPL        GOOG        MSFT        AAPL   \n",
            "Date                                                                     \n",
            "2010-01-04   30.950001    7.660714   15.678981   31.100000    7.585000   \n",
            "2010-01-05   30.959999    7.699643   15.637387   31.100000    7.616071   \n",
            "2010-01-06   30.770000    7.686786   15.588072   31.080000    7.526786   \n",
            "2010-01-07   30.450001    7.571429   15.193053   30.700001    7.466071   \n",
            "2010-01-08   30.660000    7.571429   15.024933   30.879999    7.466429   \n",
            "...                ...         ...         ...         ...         ...   \n",
            "2024-12-03  431.200012  242.759995  174.320007  432.470001  238.899994   \n",
            "2024-12-04  437.420013  244.110001  176.429993  439.670013  241.250000   \n",
            "2024-12-05  442.619995  244.539993  177.710007  444.660004  242.130005   \n",
            "2024-12-06  443.570007  244.630005  176.839005  446.100006  242.080002   \n",
            "2024-12-09  446.019989  247.240005  178.039993  448.320007  241.759995   \n",
            "\n",
            "Price                                     Open                          \\\n",
            "Ticker            GOOG        MSFT        AAPL        GOOG        MSFT   \n",
            "Date                                                                     \n",
            "2010-01-04   15.547723   30.590000    7.622500   15.615220   30.620001   \n",
            "2010-01-05   15.480475   30.639999    7.664286   15.620949   30.850000   \n",
            "2010-01-06   15.102393   30.520000    7.656429   15.588072   30.879999   \n",
            "2010-01-07   14.760922   30.190001    7.562500   15.178109   30.629999   \n",
            "2010-01-08   14.672753   30.240000    7.510714   14.744733   30.280001   \n",
            "...                ...         ...         ...         ...         ...   \n",
            "2024-12-03  172.509995  427.739990  239.809998  173.119995  429.839996   \n",
            "2024-12-04  172.750000  432.630005  242.869995  172.779999  433.029999   \n",
            "2024-12-05  174.009995  436.170013  243.990005  177.320007  437.920013   \n",
            "2024-12-06  173.550003  441.769989  242.910004  173.880005  442.299988   \n",
            "2024-12-09  175.399994  440.500000  241.830002  175.714996  443.000000   \n",
            "\n",
            "Price          Volume                       \n",
            "Ticker           AAPL       GOOG      MSFT  \n",
            "Date                                        \n",
            "2010-01-04  493729600   78541293  38409100  \n",
            "2010-01-05  601904800  120638494  49749600  \n",
            "2010-01-06  552160000  159744526  58182400  \n",
            "2010-01-07  477131200  257533695  50559700  \n",
            "2010-01-08  447610800  189680313  51197400  \n",
            "...               ...        ...       ...  \n",
            "2024-12-03   38861000   15721500  18302000  \n",
            "2024-12-04   44383900   18239800  26009400  \n",
            "2024-12-05   40033900   16145500  21697800  \n",
            "2024-12-06   36852100   13305200  18814400  \n",
            "2024-12-09   43606216   19056340  18892889  \n",
            "\n",
            "[3759 rows x 18 columns]\n"
          ]
        },
        {
          "name": "stderr",
          "output_type": "stream",
          "text": [
            "\n"
          ]
        }
      ],
      "source": [
        "import yfinance as yf\n",
        "# Fetch all stocks in a specific industry\n",
        "stock_symbols = [\"AAPL\", \"MSFT\", \"GOOG\"]  # Add more tickers\n",
        "data = yf.download(stock_symbols, start=\"2010-01-01\", end=\"2024-12-31\")\n",
        "print(data)\n"
      ]
    },
    {
      "cell_type": "markdown",
      "metadata": {
        "id": "uEPcEQkw-a3f"
      },
      "source": [
        "### **Fetching and Visualizing Stock Data by Industry**"
      ]
    },
    {
      "cell_type": "markdown",
      "metadata": {
        "id": "t8Wcj0GyLbCd"
      },
      "source": [
        "### This code downloads and organizes stock data by industry (Tech, Automobile, Retail, Healthcare, and Energy) and visualizes the closing prices for Tech stocks.\n",
        "### How it builds on: it multiple industries, handling errors, and plotting data for a specific sector."
      ]
    },
    {
      "cell_type": "code",
      "execution_count": null,
      "metadata": {
        "colab": {
          "base_uri": "https://localhost:8080/",
          "height": 1000
        },
        "id": "NA2qK-PrnPGu",
        "outputId": "a0f9dff4-85a4-4f23-b02c-f5b8ad00d507"
      },
      "outputs": [
        {
          "name": "stdout",
          "output_type": "stream",
          "text": [
            "Downloading data for Tech...\n"
          ]
        },
        {
          "name": "stderr",
          "output_type": "stream",
          "text": [
            "[*********************100%***********************]  5 of 5 completed\n"
          ]
        },
        {
          "name": "stdout",
          "output_type": "stream",
          "text": [
            "Downloading data for Automobile...\n"
          ]
        },
        {
          "name": "stderr",
          "output_type": "stream",
          "text": [
            "[*********************100%***********************]  5 of 5 completed\n"
          ]
        },
        {
          "name": "stdout",
          "output_type": "stream",
          "text": [
            "Downloading data for Retail...\n"
          ]
        },
        {
          "name": "stderr",
          "output_type": "stream",
          "text": [
            "[*********************100%***********************]  4 of 4 completed\n"
          ]
        },
        {
          "name": "stdout",
          "output_type": "stream",
          "text": [
            "Downloading data for Healthcare...\n"
          ]
        },
        {
          "name": "stderr",
          "output_type": "stream",
          "text": [
            "[*********************100%***********************]  5 of 5 completed\n"
          ]
        },
        {
          "name": "stdout",
          "output_type": "stream",
          "text": [
            "Downloading data for Energy...\n"
          ]
        },
        {
          "name": "stderr",
          "output_type": "stream",
          "text": [
            "[*********************100%***********************]  4 of 4 completed\n"
          ]
        },
        {
          "name": "stdout",
          "output_type": "stream",
          "text": [
            "MultiIndex([('NVDA',      'Open'),\n",
            "            ('NVDA',      'High'),\n",
            "            ('NVDA',       'Low'),\n",
            "            ('NVDA',     'Close'),\n",
            "            ('NVDA', 'Adj Close'),\n",
            "            ('NVDA',    'Volume'),\n",
            "            ('META',      'Open'),\n",
            "            ('META',      'High'),\n",
            "            ('META',       'Low'),\n",
            "            ('META',     'Close'),\n",
            "            ('META', 'Adj Close'),\n",
            "            ('META',    'Volume'),\n",
            "            ('GOOG',      'Open'),\n",
            "            ('GOOG',      'High'),\n",
            "            ('GOOG',       'Low'),\n",
            "            ('GOOG',     'Close'),\n",
            "            ('GOOG', 'Adj Close'),\n",
            "            ('GOOG',    'Volume'),\n",
            "            ('AAPL',      'Open'),\n",
            "            ('AAPL',      'High'),\n",
            "            ('AAPL',       'Low'),\n",
            "            ('AAPL',     'Close'),\n",
            "            ('AAPL', 'Adj Close'),\n",
            "            ('AAPL',    'Volume'),\n",
            "            ('MSFT',      'Open'),\n",
            "            ('MSFT',      'High'),\n",
            "            ('MSFT',       'Low'),\n",
            "            ('MSFT',     'Close'),\n",
            "            ('MSFT', 'Adj Close'),\n",
            "            ('MSFT',    'Volume')],\n",
            "           names=['Ticker', 'Price'])\n"
          ]
        },
        {
          "data": {
            "image/png": "[encoded data removed]",
            "text/plain": [
              "<Figure size 1000x600 with 1 Axes>"
            ]
          },
          "metadata": {},
          "output_type": "display_data"
        }
      ],
      "source": [
        "import yfinance as yf\n",
        "import matplotlib.pyplot as plt\n",
        "\n",
        "# Define stocks by industries\n",
        "industries = {\n",
        "    \"Tech\": [\"AAPL\", \"MSFT\", \"GOOG\", \"NVDA\", \"META\"],  # Add more tech tickers\n",
        "    \"Automobile\": [\"TSLA\", \"F\", \"GM\", \"TM\", \"HMC\"],   # Add auto tickers\n",
        "    \"Retail\": [\"WMT\", \"TGT\", \"COST\", \"AMZN\"],          # Add retail tickers\n",
        "    \"Healthcare\": [\"JNJ\", \"PFE\", \"MRK\", \"ABBV\", \"UNH\"], # Add healthcare tickers\n",
        "    \"Energy\": [\"XOM\", \"CVX\", \"BP\", \"SLB\"],            # Removed TOT due to error\n",
        "}\n",
        "\n",
        "# Initialize dictionary to hold stock data\n",
        "industry_data = {}\n",
        "\n",
        "# Fetch data for each industry\n",
        "for industry, tickers in industries.items():\n",
        "    print(f\"Downloading data for {industry}...\")\n",
        "    try:\n",
        "        industry_data[industry] = yf.download(\n",
        "            tickers,\n",
        "            start=\"2010-01-01\",\n",
        "            end=\"2024-12-31\",\n",
        "            group_by=\"ticker\"  # Ensures individual data for each ticker\n",
        "        )\n",
        "    except Exception as e:\n",
        "        print(f\"Error downloading data for {industry}: {e}\")\n",
        "\n",
        "# Example to check data for one industry\n",
        "print(industry_data[\"Tech\"].keys())  # Print column names for Tech industry\n",
        "\n",
        "# Visualization example: Closing prices for Tech\n",
        "plt.figure(figsize=(10, 6))\n",
        "for ticker in industries[\"Tech\"]:\n",
        "    if ticker in industry_data[\"Tech\"]:  # Avoid errors for missing tickers\n",
        "        plt.plot(\n",
        "            industry_data[\"Tech\"][ticker][\"Close\"],\n",
        "            label=ticker\n",
        "        )\n",
        "\n",
        "plt.title(\"Tech Industry Stock Prices (Close)\")\n",
        "plt.xlabel(\"Date\")\n",
        "plt.ylabel(\"Price (USD)\")\n",
        "plt.legend()\n",
        "plt.show()\n"
      ]
    },
    {
      "cell_type": "markdown",
      "metadata": {
        "id": "54gJlhKK_DTD"
      },
      "source": [
        "### **Interactive Stock Data Fetcher with Widgets**"
      ]
    },
    {
      "cell_type": "markdown",
      "metadata": {
        "id": "UTZuzugLLbCe"
      },
      "source": [
        "### This code adds interactive widgets to allow users to select an industry, choose stocks, and set a date range to fetch and plot stock data.\n",
        "### How it builds on: it incorporates widgets for user input and displaying the results dynamically based on selected options."
      ]
    },
    {
      "cell_type": "code",
      "execution_count": null,
      "metadata": {
        "colab": {
          "base_uri": "https://localhost:8080/",
          "height": 825,
          "referenced_widgets": [
            "89ecca6707824e418d52b4d891674d02",
            "b72b59b6b3574130825e100a077502a5",
            "0f4c8e145800411385eebc99d33ec1f1",
            "24dd9e52096e4c328285e8f311f0b71d",
            "eb71f3a122574e46a5107b08188bfb59",
            "574f4dacac5547cbb33f5017ead58953",
            "b7a6a5faf98146b5adc56ca9dc9c0f72",
            "2b246a8ef5cf4fe2a9d04e92926df024",
            "0324e932f88841849f55dd6341e25184",
            "41bc41824c514e5c874f73589d4a5ac5",
            "c769307ca4814b7c8afbf04192c2b46e",
            "27ee3df047e342d8ab6caf2df45ab73b",
            "5775be096f4c4e3ba7a4fa9ec41f34b5",
            "e76e74770d1740f6bed2be28176625ef",
            "a061c788da564b758bf9735b4035a9a5",
            "48e7cb95e9494cc68b2b50ecaf50feba",
            "ff6df8877a554da2ba2451dae47f0475",
            "e7beec9e052f4189a4700a8ccc41c14f",
            "71aca2b6b88a46bf8393542656268639",
            "b06aa478809c489c96b30fe0b1473f42",
            "4874ba5263984d93bf3fcc0090ea420a"
          ]
        },
        "id": "J5B53cgWxPCn",
        "outputId": "ae1add54-342a-4307-b745-689e71513a24"
      },
      "outputs": [
        {
          "data": {
            "application/vnd.jupyter.widget-view+json": {
              "model_id": "89ecca6707824e418d52b4d891674d02",
              "version_major": 2,
              "version_minor": 0
            },
            "text/plain": [
              "VBox(children=(Dropdown(description='Industry:', options=('Tech', 'Automobile', 'Retail', 'Healthcare', 'Energ…"
            ]
          },
          "metadata": {},
          "output_type": "display_data"
        }
      ],
      "source": [
        "# Install necessary libraries\n",
        "!pip install yfinance matplotlib ipywidgets --quiet\n",
        "\n",
        "import yfinance as yf\n",
        "import matplotlib.pyplot as plt\n",
        "import pandas as pd\n",
        "from IPython.display import display\n",
        "import ipywidgets as widgets\n",
        "\n",
        "# Define industries and stock tickers\n",
        "industries = {\n",
        "    \"Tech\": [\"AAPL\", \"MSFT\", \"GOOG\", \"NVDA\", \"META\"],\n",
        "    \"Automobile\": [\"TSLA\", \"F\", \"GM\", \"TM\", \"HMC\"],\n",
        "    \"Retail\": [\"WMT\", \"TGT\", \"COST\", \"AMZN\"],\n",
        "    \"Healthcare\": [\"JNJ\", \"PFE\", \"MRK\", \"ABBV\", \"UNH\"],\n",
        "    \"Energy\": [\"XOM\", \"CVX\", \"BP\", \"SLB\"],\n",
        "}\n",
        "\n",
        "# Widgets for interaction\n",
        "industry_dropdown = widgets.Dropdown(\n",
        "    options=industries.keys(),\n",
        "    value=\"Tech\",\n",
        "    description=\"Industry:\",\n",
        "    style={\"description_width\": \"initial\"}\n",
        ")\n",
        "\n",
        "stock_multi_select = widgets.SelectMultiple(\n",
        "    options=industries[\"Tech\"],\n",
        "    value=[\"AAPL\", \"MSFT\"],\n",
        "    description=\"Stocks:\",\n",
        "    style={\"description_width\": \"initial\"}\n",
        ")\n",
        "\n",
        "start_date_picker = widgets.DatePicker(\n",
        "    description=\"Start Date:\",\n",
        "    value=pd.to_datetime(\"2020-01-01\").date(),\n",
        "    style={\"description_width\": \"initial\"}\n",
        ")\n",
        "\n",
        "end_date_picker = widgets.DatePicker(\n",
        "    description=\"End Date:\",\n",
        "    value=pd.to_datetime(\"2024-12-31\").date(),\n",
        "    style={\"description_width\": \"initial\"}\n",
        ")\n",
        "\n",
        "output = widgets.Output()\n",
        "\n",
        "# Update stocks based on selected industry\n",
        "def update_stocks(*args):\n",
        "    stock_multi_select.options = industries[industry_dropdown.value]\n",
        "    stock_multi_select.value = industries[industry_dropdown.value][:2]  # Default to first two stocks\n",
        "\n",
        "industry_dropdown.observe(update_stocks, names=\"value\")\n",
        "\n",
        "# Fetch and display data\n",
        "def fetch_and_plot_data(change):\n",
        "    with output:\n",
        "        output.clear_output()\n",
        "        selected_stocks = list(stock_multi_select.value)\n",
        "        if not selected_stocks:\n",
        "            print(\"Please select at least one stock.\")\n",
        "            return\n",
        "\n",
        "        print(f\"Fetching data for: {', '.join(selected_stocks)}\")\n",
        "        try:\n",
        "            # Download data\n",
        "            data = yf.download(\n",
        "                selected_stocks,\n",
        "                start=start_date_picker.value,\n",
        "                end=end_date_picker.value,\n",
        "                group_by=\"ticker\"\n",
        "            )\n",
        "\n",
        "            # Plot closing prices\n",
        "            plt.figure(figsize=(12, 6))\n",
        "            for stock in selected_stocks:\n",
        "                plt.plot(data[stock][\"Close\"], label=stock)\n",
        "            plt.title(f\"Closing Prices for Selected Stocks\")\n",
        "            plt.xlabel(\"Date\")\n",
        "            plt.ylabel(\"Price (USD)\")\n",
        "            plt.legend()\n",
        "            plt.grid()\n",
        "            plt.show()\n",
        "\n",
        "        except Exception as e:\n",
        "            print(f\"Error: {e}\")\n",
        "\n",
        "# Button to trigger data fetch\n",
        "fetch_button = widgets.Button(description=\"Fetch Data\")\n",
        "fetch_button.on_click(fetch_and_plot_data)\n",
        "\n",
        "# Layout\n",
        "display(\n",
        "    widgets.VBox([\n",
        "        industry_dropdown,\n",
        "        stock_multi_select,\n",
        "        widgets.HBox([start_date_picker, end_date_picker]),\n",
        "        fetch_button,\n",
        "        output\n",
        "    ])\n",
        ")\n"
      ]
    },
    {
      "cell_type": "markdown",
      "metadata": {
        "id": "_LeN8gJkU7Ij"
      },
      "source": [
        "### **Stock Price Forecasting with Linear Regression**"
      ]
    },
    {
      "cell_type": "markdown",
      "metadata": {
        "id": "QMgkviXgLbCf"
      },
      "source": [
        "### This code allows users to select a stock, set a date range, and forecast its future prices using linear regression.\n",
        "### How it builds on: it adds machine learning functionality to predict stock prices based on historical data and displaying a forecast with model evaluation (MSE)."
      ]
    },
    {
      "cell_type": "code",
      "execution_count": null,
      "metadata": {
        "colab": {
          "base_uri": "https://localhost:8080/",
          "height": 795,
          "referenced_widgets": [
            "db02e23cc6844479abe281cb002014e8",
            "59bb22b1522d495897f351fd1a1e742c",
            "bca190cb6ff6420c8501fe302e51687e",
            "c3e636b40cd9458a89db77b315154336",
            "bedbf6c3602d48179681bfc1e3c0768a",
            "eefb41a7f4744afc88dafacc8289b954",
            "2c89361397e6481084e57e1cb2175b47",
            "53502c2e19884f6a8d017ba10cc3085f",
            "80f2294be1b04a6cac235bc79c3c94c2",
            "77f1d66c391d4401b2bee79fe023336a",
            "82aeb45a46e74d8b8354fbcbc51aa4bb",
            "04660921b2594be8a1b80855236b7341",
            "b8463db73e2646a8b9150261a099ef23",
            "343f9e85349644d78aaf36701a597d84",
            "75093dee665146419382155f407a063e",
            "9003c1811ec44578b9bbf469de60a12d",
            "a994d635b38a4f05b645fad5a46779ff",
            "da4187f6838b471e9ca5d5bfd8e53926",
            "90d37ea0682b42ccab57bd76c721b1a2",
            "9f00736366b34115a95316e8fdba43f8",
            "24882038b85840029c74e7fe4768eb8d",
            "c96bfec5546e444683489c8373cc3182",
            "bde9b83f11f94535848582de9200e991",
            "e32b8735c9894d199109ec24b22ecf77"
          ]
        },
        "id": "diAlcba51z4P",
        "outputId": "c0a6e121-f02b-4c74-b29c-0be24a83b922"
      },
      "outputs": [
        {
          "data": {
            "application/vnd.jupyter.widget-view+json": {
              "model_id": "db02e23cc6844479abe281cb002014e8",
              "version_major": 2,
              "version_minor": 0
            },
            "text/plain": [
              "VBox(children=(Dropdown(description='Industry:', options=('Tech', 'Automobile', 'Retail', 'Healthcare', 'Energ…"
            ]
          },
          "metadata": {},
          "output_type": "display_data"
        }
      ],
      "source": [
        "# Install necessary libraries\n",
        "!pip install yfinance matplotlib ipywidgets scikit-learn --quiet\n",
        "\n",
        "import yfinance as yf\n",
        "import matplotlib.pyplot as plt\n",
        "import pandas as pd\n",
        "import numpy as np\n",
        "from sklearn.model_selection import train_test_split\n",
        "from sklearn.linear_model import LinearRegression\n",
        "from sklearn.metrics import mean_squared_error\n",
        "from datetime import datetime\n",
        "from IPython.display import display\n",
        "import ipywidgets as widgets\n",
        "\n",
        "# Define industries and stock tickers\n",
        "industries = {\n",
        "    \"Tech\": [\"AAPL\", \"MSFT\", \"GOOG\", \"NVDA\", \"META\"],\n",
        "    \"Automobile\": [\"TSLA\", \"F\", \"GM\", \"TM\", \"HMC\"],\n",
        "    \"Retail\": [\"WMT\", \"TGT\", \"COST\", \"AMZN\"],\n",
        "    \"Healthcare\": [\"JNJ\", \"PFE\", \"MRK\", \"ABBV\", \"UNH\"],\n",
        "    \"Energy\": [\"XOM\", \"CVX\", \"BP\", \"SLB\"],\n",
        "}\n",
        "\n",
        "# Widgets for interaction\n",
        "industry_dropdown = widgets.Dropdown(\n",
        "    options=industries.keys(),\n",
        "    value=\"Tech\",\n",
        "    description=\"Industry:\",\n",
        "    style={\"description_width\": \"initial\"}\n",
        ")\n",
        "\n",
        "stock_dropdown = widgets.Dropdown(\n",
        "    options=industries[\"Tech\"],\n",
        "    value=\"AAPL\",\n",
        "    description=\"Stock:\",\n",
        "    style={\"description_width\": \"initial\"}\n",
        ")\n",
        "\n",
        "start_date_picker = widgets.DatePicker(\n",
        "    description=\"Start Date:\",\n",
        "    value=pd.to_datetime(\"2015-01-01\").date(),\n",
        "    style={\"description_width\": \"initial\"}\n",
        ")\n",
        "\n",
        "end_date_picker = widgets.DatePicker(\n",
        "    description=\"End Date:\",\n",
        "    value=datetime.today().date(),  # Set the end date to today's date\n",
        "    style={\"description_width\": \"initial\"}\n",
        ")\n",
        "\n",
        "forecast_days_slider = widgets.IntSlider(\n",
        "    value=30,\n",
        "    min=1,\n",
        "    max=365,\n",
        "    step=1,\n",
        "    description=\"Forecast Days:\",\n",
        "    style={\"description_width\": \"initial\"}\n",
        ")\n",
        "\n",
        "output = widgets.Output()\n",
        "\n",
        "# Update stocks based on selected industry\n",
        "def update_stocks(*args):\n",
        "    stock_dropdown.options = industries[industry_dropdown.value]\n",
        "    stock_dropdown.value = industries[industry_dropdown.value][0]\n",
        "\n",
        "industry_dropdown.observe(update_stocks, names=\"value\")\n",
        "\n",
        "# Fetch and forecast data\n",
        "def fetch_and_forecast(change):\n",
        "    with output:\n",
        "        output.clear_output()\n",
        "        selected_stock = stock_dropdown.value\n",
        "        forecast_days = forecast_days_slider.value\n",
        "\n",
        "        print(f\"Fetching data for: {selected_stock}\")\n",
        "        try:\n",
        "            # Download stock data\n",
        "            data = yf.download(\n",
        "                selected_stock,\n",
        "                start=start_date_picker.value,\n",
        "                end=min(end_date_picker.value, datetime.today().date())  # Ensure end date is not in the future\n",
        "            )\n",
        "            if data.empty:\n",
        "                print(\"No data found for the selected stock. Check the date range and stock symbol.\")\n",
        "                return\n",
        "\n",
        "            # Prepare data for machine learning\n",
        "            data['Date'] = data.index\n",
        "            data['Days'] = (data['Date'] - data['Date'].min()).dt.days  # Convert dates to numerical format\n",
        "\n",
        "            X = data[['Days']]\n",
        "            y = data['Close']\n",
        "\n",
        "            # Split data into training and testing sets\n",
        "            X_train, X_test, y_train, y_test = train_test_split(X, y, test_size=0.2, random_state=42)\n",
        "\n",
        "            # Train the model\n",
        "            model = LinearRegression()\n",
        "            model.fit(X_train, y_train)\n",
        "\n",
        "            # Predict future values\n",
        "            future_days = np.arange(X['Days'].max() + 1, X['Days'].max() + 1 + forecast_days).reshape(-1, 1)\n",
        "            future_prices = model.predict(future_days)\n",
        "\n",
        "            # Plot actual and predicted prices\n",
        "            plt.figure(figsize=(12, 6))\n",
        "            plt.plot(data['Date'], data['Close'], label=\"Actual Prices\")\n",
        "            plt.plot(\n",
        "                [data['Date'].iloc[-1] + pd.Timedelta(days=i) for i in range(1, forecast_days + 1)],\n",
        "                future_prices,\n",
        "                label=\"Forecasted Prices\",\n",
        "                linestyle=\"dashed\"\n",
        "            )\n",
        "            plt.title(f\"Stock Price Forecast for {selected_stock}\")\n",
        "            plt.xlabel(\"Date\")\n",
        "            plt.ylabel(\"Price (USD)\")\n",
        "            plt.legend()\n",
        "            plt.grid()\n",
        "            plt.show()\n",
        "\n",
        "            # Evaluate the model\n",
        "            predictions = model.predict(X_test)\n",
        "            mse = mean_squared_error(y_test, predictions)\n",
        "            print(f\"Model Mean Squared Error (MSE): {mse:.2f}\")\n",
        "\n",
        "        except Exception as e:\n",
        "            print(f\"Error: {e}\")\n",
        "\n",
        "# Button to trigger data fetch and forecasting\n",
        "forecast_button = widgets.Button(description=\"Fetch & Forecast\")\n",
        "forecast_button.on_click(fetch_and_forecast)\n",
        "\n",
        "# Layout\n",
        "display(\n",
        "    widgets.VBox([\n",
        "        industry_dropdown,\n",
        "        stock_dropdown,\n",
        "        widgets.HBox([start_date_picker, end_date_picker]),\n",
        "        forecast_days_slider,\n",
        "        forecast_button,\n",
        "        output\n",
        "    ])\n",
        ")"
      ]
    },
    {
      "cell_type": "markdown",
      "metadata": {
        "id": "ugtkAXcBVBn7"
      },
      "source": [
        " ### **Stock Price Forecasting with ARIMA - Autoregressive Integrated Moving Average**"
      ]
    },
    {
      "cell_type": "code",
      "execution_count": null,
      "metadata": {
        "colab": {
          "base_uri": "https://localhost:8080/"
        },
        "id": "AIjmypJjYNEC",
        "outputId": "80e8a00b-4063-43c7-f31d-ff5c5f0bcbdd"
      },
      "outputs": [
        {
          "output_type": "stream",
          "name": "stdout",
          "text": [
            "Collecting pmdarima\n",
            "  Downloading pmdarima-2.0.4-cp310-cp310-manylinux_2_17_x86_64.manylinux2014_x86_64.manylinux_2_28_x86_64.whl.metadata (7.8 kB)\n",
            "Requirement already satisfied: joblib>=0.11 in /usr/local/lib/python3.10/dist-packages (from pmdarima) (1.4.2)\n",
            "Requirement already satisfied: Cython!=0.29.18,!=0.29.31,>=0.29 in /usr/local/lib/python3.10/dist-packages (from pmdarima) (3.0.11)\n",
            "Requirement already satisfied: numpy>=1.21.2 in /usr/local/lib/python3.10/dist-packages (from pmdarima) (1.26.4)\n",
            "Requirement already satisfied: pandas>=0.19 in /usr/local/lib/python3.10/dist-packages (from pmdarima) (2.2.2)\n",
            "Requirement already satisfied: scikit-learn>=0.22 in /usr/local/lib/python3.10/dist-packages (from pmdarima) (1.5.2)\n",
            "Requirement already satisfied: scipy>=1.3.2 in /usr/local/lib/python3.10/dist-packages (from pmdarima) (1.13.1)\n",
            "Requirement already satisfied: statsmodels>=0.13.2 in /usr/local/lib/python3.10/dist-packages (from pmdarima) (0.14.4)\n",
            "Requirement already satisfied: urllib3 in /usr/local/lib/python3.10/dist-packages (from pmdarima) (2.2.3)\n",
            "Requirement already satisfied: setuptools!=50.0.0,>=38.6.0 in /usr/local/lib/python3.10/dist-packages (from pmdarima) (75.1.0)\n",
            "Requirement already satisfied: packaging>=17.1 in /usr/local/lib/python3.10/dist-packages (from pmdarima) (24.2)\n",
            "Requirement already satisfied: python-dateutil>=2.8.2 in /usr/local/lib/python3.10/dist-packages (from pandas>=0.19->pmdarima) (2.8.2)\n",
            "Requirement already satisfied: pytz>=2020.1 in /usr/local/lib/python3.10/dist-packages (from pandas>=0.19->pmdarima) (2024.2)\n",
            "Requirement already satisfied: tzdata>=2022.7 in /usr/local/lib/python3.10/dist-packages (from pandas>=0.19->pmdarima) (2024.2)\n",
            "Requirement already satisfied: threadpoolctl>=3.1.0 in /usr/local/lib/python3.10/dist-packages (from scikit-learn>=0.22->pmdarima) (3.5.0)\n",
            "Requirement already satisfied: patsy>=0.5.6 in /usr/local/lib/python3.10/dist-packages (from statsmodels>=0.13.2->pmdarima) (1.0.1)\n",
            "Requirement already satisfied: six>=1.5 in /usr/local/lib/python3.10/dist-packages (from python-dateutil>=2.8.2->pandas>=0.19->pmdarima) (1.16.0)\n",
            "Downloading pmdarima-2.0.4-cp310-cp310-manylinux_2_17_x86_64.manylinux2014_x86_64.manylinux_2_28_x86_64.whl (2.1 MB)\n",
            "\u001b[2K   \u001b[90m━━━━━━━━━━━━━━━━━━━━━━━━━━━━━━━━━━━━━━━━\u001b[0m \u001b[32m2.1/2.1 MB\u001b[0m \u001b[31m21.9 MB/s\u001b[0m eta \u001b[36m0:00:00\u001b[0m\n",
            "\u001b[?25hInstalling collected packages: pmdarima\n",
            "Successfully installed pmdarima-2.0.4\n"
          ]
        }
      ],
      "source": [
        "pip install pmdarima"
      ]
    },
    {
      "cell_type": "markdown",
      "metadata": {
        "id": "QA6b_t88LbCh"
      },
      "source": [
        "### This code uses ARIMA from pmdarima to forecast stock prices, allowing users to select a stock, date range, and forecast period. It evaluates the model's performance with metrics like MSE and RMSE, and visualizes both the actual vs. forecasted prices and residuals.\n",
        "### How it builds on: it adds ARIMA forecasting and model evaluation."
      ]
    },
    {
      "cell_type": "code",
      "execution_count": null,
      "metadata": {
        "colab": {
          "base_uri": "https://localhost:8080/",
          "height": 1000,
          "referenced_widgets": [
            "8324fd057e294d64ad733a1da063e18c",
            "86c716c0e1854868820e56ce6d2bf815",
            "56d928382cba404c9126e5be99ed44b6",
            "ce5d510ea4ff475cbc16c513ff8e1937",
            "93f4f71baffe425683a0f69d65c0e7e9",
            "739e9b099a8d47e2bb9d3e8574a83dc5",
            "d753ccb2606c45bbb7acc939d74c53c3",
            "7b3ac507b2f64566a15a4d4e5783b0f7",
            "b4f86a5ef14d48fe8a937d809f67cfd5",
            "1303165568af42448e83b0f47f10271d",
            "a5758fcb92e34fe5a2afb0581d8032df",
            "fb599f4793ed473aaabbbf492feb0690",
            "52dde60f80344c76b1e3d88113f2f807",
            "45401764615844719947db1a7c8dd07c",
            "200960febea94338af9aa82da6e08b74",
            "fc1831eaee4b47038e9e1a8c53964e75",
            "798dedca5a86446f81b94ba2489c9f66",
            "60c31a49d4b844b284ccc9c4c18b1aea",
            "deb05666221d409ea038000fc38e082a",
            "3dae33e71d4049b9b7e11a63b8569d8c",
            "f75791f44fcd495aa9fcfaed14141a46",
            "4dff10568b3745bcba01bf13358e0605",
            "b71666b5d3ed496fb6e0f4597fc59499",
            "b5f87560b884474f87751cf3d0f70907"
          ]
        },
        "id": "AgMdtPdLZy4M",
        "outputId": "7b672cfd-0844-4da1-df3e-bf94ec63bc08"
      },
      "outputs": [
        {
          "output_type": "display_data",
          "data": {
            "text/plain": [
              "VBox(children=(Dropdown(description='Industry:', options=('Tech', 'Automobile', 'Retail', 'Healthcare', 'Energ…"
            ],
            "application/vnd.jupyter.widget-view+json": {
              "version_major": 2,
              "version_minor": 0,
              "model_id": "8324fd057e294d64ad733a1da063e18c"
            }
          },
          "metadata": {}
        }
      ],
      "source": [
        "import yfinance as yf\n",
        "import matplotlib.pyplot as plt\n",
        "import pandas as pd\n",
        "import numpy as np\n",
        "from pmdarima import auto_arima\n",
        "from datetime import datetime\n",
        "from IPython.display import display\n",
        "import ipywidgets as widgets\n",
        "from statsmodels.graphics.tsaplots import plot_acf, plot_pacf\n",
        "from sklearn.metrics import mean_squared_error\n",
        "\n",
        "# Define industries and stock tickers\n",
        "industries = {\n",
        "    \"Tech\": [\"AAPL\", \"MSFT\", \"GOOG\", \"NVDA\", \"META\"],\n",
        "    \"Automobile\": [\"TSLA\", \"F\", \"GM\", \"TM\", \"HMC\"],\n",
        "    \"Retail\": [\"WMT\", \"TGT\", \"COST\", \"AMZN\"],\n",
        "    \"Healthcare\": [\"JNJ\", \"PFE\", \"MRK\", \"ABBV\", \"UNH\"],\n",
        "    \"Energy\": [\"XOM\", \"CVX\", \"BP\", \"SLB\"],\n",
        "}\n",
        "\n",
        "# Widgets for interaction\n",
        "industry_dropdown = widgets.Dropdown(options=industries.keys(), value=\"Tech\", description=\"Industry:\")\n",
        "stock_dropdown = widgets.Dropdown(options=industries[\"Tech\"], value=\"AAPL\", description=\"Stock:\")\n",
        "start_date_picker = widgets.DatePicker(description=\"Start Date:\", value=pd.to_datetime(\"2015-01-01\").date())\n",
        "end_date_picker = widgets.DatePicker(description=\"End Date:\", value=datetime.today().date())\n",
        "forecast_days_slider = widgets.IntSlider(value=90, min=1, max=365, step=1, description=\"Forecast Days:\")\n",
        "output = widgets.Output()\n",
        "\n",
        "def update_stocks(*args):\n",
        "    stock_dropdown.options = industries[industry_dropdown.value]\n",
        "    stock_dropdown.value = industries[industry_dropdown.value][0]\n",
        "\n",
        "industry_dropdown.observe(update_stocks, names=\"value\")\n",
        "\n",
        "def fetch_and_forecast(change):\n",
        "    with output:\n",
        "        output.clear_output()\n",
        "        selected_stock = stock_dropdown.value\n",
        "        forecast_days = forecast_days_slider.value\n",
        "\n",
        "        print(f\"Fetching data for: {selected_stock}\")\n",
        "        try:\n",
        "            data = yf.download(selected_stock, start=start_date_picker.value,\n",
        "                               end=min(end_date_picker.value, datetime.today().date()))\n",
        "            if data.empty:\n",
        "                print(\"No data found for the selected stock. Check the date range and stock symbol.\")\n",
        "                return\n",
        "\n",
        "            close_prices = np.log(data[\"Close\"].dropna())\n",
        "\n",
        "            model = auto_arima(close_prices, start_p=1, start_q=1, test='adf', max_p=5, max_q=5, m=1,\n",
        "                               d=None, seasonal=False, start_P=0, D=0, trace=True,\n",
        "                               error_action='ignore', suppress_warnings=True, stepwise=True)\n",
        "\n",
        "            # Calculate in-sample predictions and MSE\n",
        "            in_sample_predictions = model.predict_in_sample()\n",
        "            mse = mean_squared_error(close_prices, in_sample_predictions)\n",
        "            rmse = np.sqrt(mse)\n",
        "            mape = np.mean(np.abs((close_prices - in_sample_predictions) / close_prices)) * 100\n",
        "\n",
        "            print(f\"Mean Squared Error (MSE): {mse:.6f}\")\n",
        "            print(f\"Root Mean Squared Error (RMSE): {rmse:.6f}\")\n",
        "            print(f\"Mean Absolute Percentage Error (MAPE): {mape:.2f}%\")\n",
        "\n",
        "            forecast = model.predict(n_periods=forecast_days)\n",
        "            forecast_index = pd.date_range(start=close_prices.index[-1], periods=forecast_days + 1, freq='D')[1:]\n",
        "\n",
        "            plt.figure(figsize=(12, 6))\n",
        "            plt.plot(close_prices.index, np.exp(close_prices), label=\"Actual Prices\")\n",
        "            plt.plot(forecast_index, np.exp(forecast), label=\"Forecasted Prices\", linestyle=\"dashed\")\n",
        "            plt.title(f\"ARIMA Forecast for {selected_stock}\")\n",
        "            plt.xlabel(\"Date\")\n",
        "            plt.ylabel(\"Price (USD)\")\n",
        "            plt.legend()\n",
        "            plt.grid()\n",
        "            plt.show()\n",
        "\n",
        "            print(model.summary())\n",
        "\n",
        "            residuals = model.resid()\n",
        "            fig, (ax1, ax2, ax3) = plt.subplots(3, 1, figsize=(12, 12))\n",
        "            plot_acf(residuals, ax=ax1)\n",
        "            ax1.set_title('Autocorrelation Function (ACF)')\n",
        "            plot_pacf(residuals, ax=ax2)\n",
        "            ax2.set_title('Partial Autocorrelation Function (PACF)')\n",
        "            ax3.hist(residuals, bins=50, edgecolor='black')\n",
        "            ax3.set_title('Histogram of Residuals')\n",
        "            ax3.set_xlabel('Residual Value')\n",
        "            ax3.set_ylabel('Frequency')\n",
        "            plt.tight_layout()\n",
        "            plt.show()\n",
        "\n",
        "        except Exception as e:\n",
        "            print(f\"Error: {e}\")\n",
        "\n",
        "forecast_button = widgets.Button(description=\"Fetch & Forecast\")\n",
        "forecast_button.on_click(fetch_and_forecast)\n",
        "\n",
        "display(widgets.VBox([industry_dropdown, stock_dropdown,\n",
        "                      widgets.HBox([start_date_picker, end_date_picker]),\n",
        "                      forecast_days_slider, forecast_button, output]))\n"
      ]
    },
    {
      "cell_type": "markdown",
      "metadata": {
        "id": "GqSVw8F5VEEy"
      },
      "source": [
        "### **Stock Price Prediction with LSTM - Long Short Term Memory**"
      ]
    },
    {
      "cell_type": "markdown",
      "metadata": {
        "id": "N0T_90GQLbCh"
      },
      "source": [
        "### This script extends the previous code by using an LSTM model to predict stock prices. It allows users to select a stock, date range, and forecast period.\n",
        "### The model trains on historical data, predicts future prices, and displays metrics like MSE and MAE, along with a plot of actual, predicted, and forecasted prices."
      ]
    },
    {
      "cell_type": "code",
      "execution_count": null,
      "metadata": {
        "colab": {
          "base_uri": "https://localhost:8080/",
          "height": 1000,
          "referenced_widgets": [
            "ee0317628e7943feae2bd5927f11b506",
            "5bb90b3f662642f4bfba06635c3287d9",
            "123734f2af344b99b34042cd817ad4af",
            "677888b6ac71462f9edf084fcadae4de",
            "b82c4b06390a4ae1b50dee205796cf9b",
            "d2a9cef4b3f64be1a210ec2a50bec73d",
            "63b6963798c74352b8cb56bbddd7bb53",
            "11853a42ff5542f89ba39d5eef8d431e",
            "9b14f542cbbc49efbd0cc1e1b7dc9ad2",
            "482e212844274a0aa84dca1e5628e4f9",
            "7058895f0531436180c58b0d69c01cd4",
            "0b0e1a77cf94464da705f81d7b11a6a1",
            "1b7f8dd55e6540cf87f6b08e806159cd",
            "c9206b77d69842d485472e6a0a3a5421",
            "be32088eae7f457da4bbed0104c63d13",
            "1b0ae70e4c674779b27f826754dbae96",
            "60c3238701ee45f1a9e4738399142a80",
            "b8d426e01db84a5e842b6fbc0af591b7",
            "031535ec81eb4863b6d0d4a2c00a0431",
            "530e4106e7684e479c4496e5d0e87f01",
            "4040a47e923f4ffa820dd5cccd0ff24b",
            "1e797a088dd94618860a7902f09b933d",
            "edc61d74f3804143b1e72556468f2446",
            "837870bd3fc549ae8ef528a64778ce57",
            "7fa2a809707144b4bfca9b99b6003e29",
            "21a403381911437aa6bfdb22c58b4424",
            "a1df7ecde9534c39a1c12fbe8170a0eb",
            "499ac2f2b872449ca925ced333280cf3",
            "a0a897c233e44b538e496b811819e8b4",
            "2d0ed5fb9c1c4ae19c9f63cabb61d74a",
            "ea8f37d2adc34b27b37a140c8797d084",
            "81a7e351ed6946bc8c8e7c0b4bf30814",
            "4554f4e7d4f24dd18d61b2e8443ba934",
            "10ab201bf96f4ef89bd079eadf9781a8",
            "d013c6b99f1c42fda9e2a6281c2eaeb9",
            "97665c6c137d41a7adcb0aee5f0dfd10",
            "793fc605e34d426daff92fae0f6ea7f6",
            "f1fd622597cc45c392d60213082ea879",
            "d99f06f8cdc441e2bf337d054bf188ee"
          ]
        },
        "id": "XYDUg_PliGnj",
        "outputId": "51e775ec-835d-4271-e310-95f38b024901"
      },
      "outputs": [
        {
          "data": {
            "application/vnd.jupyter.widget-view+json": {
              "model_id": "ee0317628e7943feae2bd5927f11b506",
              "version_major": 2,
              "version_minor": 0
            },
            "text/plain": [
              "VBox(children=(HBox(children=(Text(value='AAPL', description='Stock Ticker:'), DatePicker(value=datetime.date(…"
            ]
          },
          "metadata": {},
          "output_type": "display_data"
        }
      ],
      "source": [
        "# Install required libraries\n",
        "!pip install yfinance tensorflow matplotlib ipywidgets --quiet\n",
        "\n",
        "import yfinance as yf\n",
        "import pandas as pd\n",
        "import numpy as np\n",
        "import matplotlib.pyplot as plt\n",
        "from sklearn.preprocessing import MinMaxScaler\n",
        "from sklearn.metrics import mean_squared_error, mean_absolute_error\n",
        "from tensorflow.keras.models import Sequential\n",
        "from tensorflow.keras.layers import Dense, LSTM\n",
        "from tensorflow.keras.optimizers import Adam\n",
        "from IPython.display import display, clear_output\n",
        "import ipywidgets as widgets\n",
        "\n",
        "# Prepare Data for LSTM\n",
        "def prepare_data(data, feature='Close', window_size=60):\n",
        "    if len(data) < window_size:\n",
        "        raise ValueError(f\"Insufficient data. The dataset must have more than {window_size} rows.\")\n",
        "\n",
        "    scaler = MinMaxScaler(feature_range=(0, 1))\n",
        "    scaled_data = scaler.fit_transform(data[feature].values.reshape(-1, 1))\n",
        "\n",
        "    X, y = [], []\n",
        "    for i in range(window_size, len(scaled_data)):\n",
        "        X.append(scaled_data[i-window_size:i, 0])\n",
        "        y.append(scaled_data[i, 0])\n",
        "\n",
        "    X, y = np.array(X), np.array(y)\n",
        "    X = np.reshape(X, (X.shape[0], X.shape[1], 1))  # Reshape for LSTM\n",
        "    return X, y, scaler\n",
        "\n",
        "# Build the LSTM Model\n",
        "def build_lstm_model(input_shape):\n",
        "    model = Sequential()\n",
        "    model.add(LSTM(units=50, return_sequences=True, input_shape=(input_shape[1], 1)))\n",
        "    model.add(LSTM(units=50, return_sequences=False))\n",
        "    model.add(Dense(units=25))\n",
        "    model.add(Dense(units=1))\n",
        "    model.compile(optimizer=Adam(learning_rate=0.001), loss='mean_squared_error')\n",
        "    return model\n",
        "\n",
        "# Predict Future Stock Prices\n",
        "def predict_future(model, last_data, window_size, future_days, scaler):\n",
        "    predictions = []\n",
        "    input_data = last_data.copy()\n",
        "\n",
        "    for _ in range(future_days):\n",
        "        input_data = input_data.reshape(1, window_size, 1)  # Reshape for LSTM input\n",
        "        next_price = model.predict(input_data)[0, 0]\n",
        "        predictions.append(next_price)\n",
        "        input_data = np.append(input_data[:, 1:, :], [[[next_price]]], axis=1)\n",
        "\n",
        "    predictions = scaler.inverse_transform(np.array(predictions).reshape(-1, 1))\n",
        "    return predictions\n",
        "\n",
        "# Interactive Function\n",
        "def run_lstm(stock_ticker, start_date, end_date, forecast_days):\n",
        "    try:\n",
        "        data = yf.download(stock_ticker, start=start_date, end=end_date)\n",
        "        if data.empty:\n",
        "            display(widgets.HTML(\"<b style='color:red;'>No data available for the selected stock and dates.</b>\"))\n",
        "            return\n",
        "\n",
        "        window_size = 60\n",
        "        if len(data) < window_size:\n",
        "            display(widgets.HTML(\"<b style='color:red;'>Insufficient data: The dataset must have more than 60 rows.</b>\"))\n",
        "            return\n",
        "\n",
        "        train_size = int(len(data) * 0.8)\n",
        "        train_data = data[:train_size]\n",
        "        test_data = data[train_size:]\n",
        "\n",
        "        # Prepare data\n",
        "        X_train, y_train, scaler = prepare_data(train_data, 'Close', window_size)\n",
        "        X_test, y_test, _ = prepare_data(test_data, 'Close', window_size)\n",
        "\n",
        "        # Build and train the model\n",
        "        model = build_lstm_model(X_train.shape)\n",
        "        model.fit(X_train, y_train, batch_size=32, epochs=10, verbose=0)\n",
        "\n",
        "        # Predict prices\n",
        "        predictions = model.predict(X_test)\n",
        "        predictions = scaler.inverse_transform(predictions)\n",
        "        y_test = scaler.inverse_transform(y_test.reshape(-1, 1))\n",
        "\n",
        "        # Calculate MSE and MAE\n",
        "        mse = mean_squared_error(test_data['Close'][:len(predictions)], predictions)\n",
        "        mae = mean_absolute_error(test_data['Close'][:len(predictions)], predictions)\n",
        "\n",
        "        # Forecast future prices\n",
        "        last_data = scaler.transform(data['Close'].values[-window_size:].reshape(-1, 1))\n",
        "        forecast_dates = pd.date_range(start=data.index[-1], periods=forecast_days + 1, freq='B')[1:]\n",
        "        forecast = predict_future(model, last_data, window_size, forecast_days, scaler)\n",
        "\n",
        "        # Display Metrics\n",
        "        display(widgets.HTML(f\"<b>Mean Squared Error (MSE): {mse:.2f}</b>\"))\n",
        "        display(widgets.HTML(f\"<b>Mean Absolute Error (MAE): {mae:.2f}</b>\"))\n",
        "\n",
        "        # Plot results\n",
        "        plt.figure(figsize=(12, 6))\n",
        "        plt.plot(data.index, data['Close'], label=\"Actual Prices\", color=\"blue\")\n",
        "        plt.plot(data[:train_size].index, train_data['Close'], label=\"Train Prices\", color=\"green\")\n",
        "        plt.plot(data[train_size:].index[:len(predictions)], predictions, label=\"Predicted Prices\", color=\"red\")\n",
        "        plt.plot(forecast_dates, forecast, label=\"Forecasted Prices\", color=\"purple\", linestyle=\"dashed\")\n",
        "        plt.title(f\"LSTM Prediction for {stock_ticker}\")\n",
        "        plt.xlabel(\"Date\")\n",
        "        plt.ylabel(\"Price (USD)\")\n",
        "        plt.legend()\n",
        "        plt.grid()\n",
        "        plt.show()\n",
        "\n",
        "    except ValueError as ve:\n",
        "        display(widgets.HTML(f\"<b style='color:red;'>Error: {ve}</b>\"))\n",
        "\n",
        "# Create Widgets\n",
        "stock_input = widgets.Text(value=\"AAPL\", description=\"Stock Ticker:\")\n",
        "start_date_picker = widgets.DatePicker(value=pd.to_datetime(\"2015-01-01\").date(), description=\"Start Date:\")\n",
        "end_date_picker = widgets.DatePicker(value=pd.to_datetime(\"today\").date(), description=\"End Date:\")\n",
        "forecast_slider = widgets.IntSlider(value=30, min=1, max=365, step=1, description=\"Forecast Days:\")\n",
        "run_button = widgets.Button(description=\"Run LSTM\", button_style='success')\n",
        "output = widgets.Output()\n",
        "\n",
        "# Button Click Event\n",
        "def on_run_button_click(b):\n",
        "    with output:\n",
        "        clear_output()\n",
        "        run_lstm(\n",
        "            stock_ticker=stock_input.value,\n",
        "            start_date=start_date_picker.value,\n",
        "            end_date=end_date_picker.value,\n",
        "            forecast_days=forecast_slider.value\n",
        "        )\n",
        "\n",
        "run_button.on_click(on_run_button_click)\n",
        "\n",
        "# Display Widgets\n",
        "widgets.VBox([\n",
        "    widgets.HBox([stock_input, start_date_picker, end_date_picker]),\n",
        "    forecast_slider,\n",
        "    run_button,\n",
        "    output\n",
        "])\n"
      ]
    },
    {
      "cell_type": "markdown",
      "metadata": {
        "id": "IhxbTa-q2Jld"
      },
      "source": [
        "### **Stock Price Prediction with XGBoost**"
      ]
    },
    {
      "cell_type": "markdown",
      "metadata": {
        "id": "TPfxe5QULbCi"
      },
      "source": [
        "### This script predicts stock prices using XGBoost. Users select a stock, date range, and forecast period.\n",
        "### It fetches data, creates features, trains the model, evaluates it, and plots actual, predicted, and forecasted prices."
      ]
    },
    {
      "cell_type": "code",
      "source": [
        "import yfinance as yf\n",
        "import pandas as pd\n",
        "import numpy as np\n",
        "import matplotlib.pyplot as plt\n",
        "from sklearn.model_selection import train_test_split\n",
        "from sklearn.metrics import mean_squared_error, mean_absolute_error\n",
        "import xgboost as xgb\n",
        "from IPython.display import display, clear_output\n",
        "import ipywidgets as widgets\n",
        "from datetime import datetime, timedelta\n",
        "\n",
        "# Define industries and stock tickers\n",
        "industries = {\n",
        "    \"Tech\": [\"AAPL\", \"MSFT\", \"GOOG\", \"NVDA\", \"META\"],\n",
        "    \"Automobile\": [\"TSLA\", \"F\", \"GM\", \"TM\", \"HMC\"],\n",
        "    \"Retail\": [\"WMT\", \"TGT\", \"COST\", \"AMZN\"],\n",
        "    \"Healthcare\": [\"JNJ\", \"PFE\", \"MRK\", \"ABBV\", \"UNH\"],\n",
        "    \"Energy\": [\"XOM\", \"CVX\", \"BP\", \"SLB\"],\n",
        "}\n",
        "\n",
        "def fetch_stock_data(ticker, start_date, end_date):\n",
        "    data = yf.download(ticker, start=start_date, end=end_date)\n",
        "    if data.empty:\n",
        "        raise ValueError(\"No data available for the given stock and date range.\")\n",
        "    return data\n",
        "\n",
        "def feature_engineering(data):\n",
        "    data['MA50'] = data['Close'].rolling(window=50).mean()\n",
        "    data['MA200'] = data['Close'].rolling(window=200).mean()\n",
        "    data['Daily_Return'] = data['Close'].pct_change()\n",
        "    data.dropna(inplace=True)\n",
        "    return data\n",
        "\n",
        "def train_xgboost(X_train, y_train):\n",
        "    model = xgb.XGBRegressor(n_estimators=100, max_depth=5, learning_rate=0.1, objective=\"reg:squarederror\", seed=42)\n",
        "    model.fit(X_train, y_train)\n",
        "    return model\n",
        "\n",
        "def evaluate_model(model, X_test, y_test):\n",
        "    predictions = model.predict(X_test)\n",
        "    mse = mean_squared_error(y_test, predictions)\n",
        "    mae = mean_absolute_error(y_test, predictions)\n",
        "    rmse = np.sqrt(mse)  # Calculate RMSE\n",
        "    return mse, mae, rmse, predictions\n",
        "\n",
        "def plot_results_with_forecast(data, train_size, predictions, ticker, forecast_days):\n",
        "    plt.figure(figsize=(12, 6))\n",
        "    plt.plot(data.index, data['Close'], label=\"Actual Prices\", color=\"blue\")\n",
        "\n",
        "    # Plot actual prices for the test period\n",
        "    plt.plot(data[train_size:].index, data[train_size:]['Close'], label=\"Actual Test Prices\", color=\"orange\")\n",
        "\n",
        "    # Add a forecasting line based on the forecast_days slider\n",
        "    last_date = data.index[-1]\n",
        "    forecast_dates = pd.date_range(start=last_date + timedelta(days=1), periods=forecast_days)\n",
        "    forecast_values = np.linspace(data['Close'].iloc[-1], predictions[-1], num=forecast_days)\n",
        "    plt.plot(forecast_dates, forecast_values, label=\"Forecast Line\", color=\"green\", linestyle=\"--\")\n",
        "\n",
        "    plt.title(f\"XGBoost Forecast for {ticker} Stock Prices\")\n",
        "    plt.xlabel(\"Date\")\n",
        "    plt.ylabel(\"Price (USD)\")\n",
        "    plt.legend()\n",
        "    plt.grid()\n",
        "    plt.show()\n",
        "\n",
        "def run_xgboost_with_forecast(stock_ticker, start_date, end_date, forecast_days):\n",
        "    try:\n",
        "        print(\"Fetching stock data...\")\n",
        "        data = fetch_stock_data(stock_ticker, start_date, end_date)\n",
        "        data = feature_engineering(data)\n",
        "\n",
        "        print(\"Preparing data...\")\n",
        "        features = ['MA50', 'MA200', 'Volume', 'Daily_Return']\n",
        "        X = data[features]\n",
        "        y = data['Close']\n",
        "\n",
        "        # Split the data into train and test sets (e.g., 80% train, 20% test)\n",
        "        train_size = int(len(X) * 0.8)\n",
        "        X_train, X_test = X[:train_size], X[train_size:]\n",
        "        y_train, y_test = y[:train_size], y[train_size:]\n",
        "\n",
        "        print(\"Training XGBoost model...\")\n",
        "        model = train_xgboost(X_train, y_train)\n",
        "\n",
        "        print(\"Evaluating model...\")\n",
        "        mse, mae, rmse, predictions = evaluate_model(model, X_test, y_test)\n",
        "\n",
        "        display(widgets.HTML(f\"<b>Mean Squared Error (MSE): {mse:.2f}</b>\"))\n",
        "        display(widgets.HTML(f\"<b>Mean Absolute Error (MAE): {mae:.2f}</b>\"))\n",
        "        display(widgets.HTML(f\"<b>Root Mean Squared Error (RMSE): {rmse:.2f} USD</b>\"))\n",
        "\n",
        "        print(\"Plotting results...\")\n",
        "        plot_results_with_forecast(data, train_size, predictions, stock_ticker, forecast_days)\n",
        "\n",
        "    except ValueError as ve:\n",
        "        display(widgets.HTML(f\"<b style='color:red;'>Error: {ve}</b>\"))\n",
        "\n",
        "# Create Widgets\n",
        "industry_dropdown = widgets.Dropdown(\n",
        "    options=industries.keys(),\n",
        "    value=\"Tech\",\n",
        "    description=\"Industry:\",\n",
        "    style={\"description_width\": \"initial\"}\n",
        ")\n",
        "\n",
        "stock_dropdown = widgets.Dropdown(\n",
        "    options=industries[\"Tech\"],\n",
        "    value=\"AAPL\",\n",
        "    description=\"Stock:\",\n",
        "    style={\"description_width\": \"initial\"}\n",
        ")\n",
        "\n",
        "start_date_picker = widgets.DatePicker(\n",
        "    description=\"Start Date:\",\n",
        "    value=pd.to_datetime(\"2015-01-01\").date(),\n",
        "    style={\"description_width\": \"initial\"}\n",
        ")\n",
        "\n",
        "end_date_picker = widgets.DatePicker(\n",
        "    description=\"End Date:\",\n",
        "    value=datetime.today().date(),\n",
        "    style={\"description_width\": \"initial\"}\n",
        ")\n",
        "\n",
        "forecast_days_slider = widgets.IntSlider(\n",
        "    value=30,\n",
        "    min=1,\n",
        "    max=365,\n",
        "    step=1,\n",
        "    description=\"Forecast Days:\",\n",
        "    style={\"description_width\": \"initial\"}\n",
        ")\n",
        "\n",
        "output = widgets.Output()\n",
        "\n",
        "def update_stocks(*args):\n",
        "    stock_dropdown.options = industries[industry_dropdown.value]\n",
        "    stock_dropdown.value = industries[industry_dropdown.value][0]\n",
        "\n",
        "industry_dropdown.observe(update_stocks, names=\"value\")\n",
        "\n",
        "def on_run_button_click(b):\n",
        "    with output:\n",
        "        clear_output()\n",
        "        run_xgboost_with_forecast(\n",
        "            stock_ticker=stock_dropdown.value,\n",
        "            start_date=start_date_picker.value,\n",
        "            end_date=end_date_picker.value,\n",
        "            forecast_days=forecast_days_slider.value\n",
        "        )\n",
        "\n",
        "run_button = widgets.Button(description=\"Run XGBoost\", button_style='success')\n",
        "run_button.on_click(on_run_button_click)\n",
        "\n",
        "# Display Widgets\n",
        "display(widgets.VBox([\n",
        "    industry_dropdown,\n",
        "    stock_dropdown,\n",
        "    widgets.HBox([start_date_picker, end_date_picker]),\n",
        "    forecast_days_slider,\n",
        "    run_button,\n",
        "    output\n",
        "]))"
      ],
      "metadata": {
        "colab": {
          "base_uri": "https://localhost:8080/",
          "height": 177,
          "referenced_widgets": [
            "9fcd14d858db4cc6b1181e2421bc0abe",
            "325972ebe06c42748d26522c35049136",
            "01e8052c002640e8b3fe3ad3d94adbd2",
            "eec0588265b3420d860727a7fb0ae681",
            "0cc7550fc2294bb49ee6e87bce847c22",
            "eae37e27d833445ebf60882c91ef44b6",
            "85b3fcec8a2942a29c6cc4b4a8c648f8",
            "40780906ef9949c4acea92dd0246d4e8",
            "916bc37337b14ec2adbfae5510a5161f",
            "e8c08f838a3e4be29d645834d86d8b30",
            "aefd1d0a58374e70b646f4d358426a19",
            "aa3bfb6db06f4090b81920bfd122dde8",
            "7df097d31deb446c8ed0fcbc16aeee4b",
            "6f6d7e8bb8e8445c8740a0bfd102b623",
            "a10a85c06dd840a39a5d3c1c25a62ebd",
            "39eb4213b0a24692aa30cf8342b2890e",
            "6dfe49375d0443fbb29b08021b1a0dc7",
            "a038809b66fc4076b0a3f603fa12b57d",
            "f87a5930b1454d509f65c9c394f11092",
            "d8c93a0e8df14ce78077f5088b871493",
            "fcbcadeb5138477fa04a0cf56dea4ad3",
            "4f3fadcdf5784e3abce70a7a1747f648",
            "e932ed7b93864a79869ad918ba939fab",
            "bbe1d4bb15ad4cf6a918f174bd02f30b"
          ]
        },
        "id": "AH-xm2hnDZVe",
        "outputId": "7726106a-4dcb-41e5-8cfa-fe8b8d6f7545"
      },
      "execution_count": null,
      "outputs": [
        {
          "output_type": "display_data",
          "data": {
            "text/plain": [
              "VBox(children=(Dropdown(description='Industry:', options=('Tech', 'Automobile', 'Retail', 'Healthcare', 'Energ…"
            ],
            "application/vnd.jupyter.widget-view+json": {
              "version_major": 2,
              "version_minor": 0,
              "model_id": "9fcd14d858db4cc6b1181e2421bc0abe"
            }
          },
          "metadata": {}
        }
      ]
    }
  ],
  "metadata": {
    "colab": {
      "provenance": [],
      "include_colab_link": true
    },
    "kernelspec": {
      "display_name": "Python 3",
      "name": "python3"
    },
    "language_info": {
      "name": "python"
    },
    "widgets": {
      "application/vnd.jupyter.widget-state+json": {
        "031535ec81eb4863b6d0d4a2c00a0431": {
          "model_module": "@jupyter-widgets/base",
          "model_module_version": "1.2.0",
          "model_name": "LayoutModel",
          "state": {
            "_model_module": "@jupyter-widgets/base",
            "_model_module_version": "1.2.0",
            "_model_name": "LayoutModel",
            "_view_count": null,
            "_view_module": "@jupyter-widgets/base",
            "_view_module_version": "1.2.0",
            "_view_name": "LayoutView",
            "align_content": null,
            "align_items": null,
            "align_self": null,
            "border": null,
            "bottom": null,
            "display": null,
            "flex": null,
            "flex_flow": null,
            "grid_area": null,
            "grid_auto_columns": null,
            "grid_auto_flow": null,
            "grid_auto_rows": null,
            "grid_column": null,
            "grid_gap": null,
            "grid_row": null,
            "grid_template_areas": null,
            "grid_template_columns": null,
            "grid_template_rows": null,
            "height": null,
            "justify_content": null,
            "justify_items": null,
            "left": null,
            "margin": null,
            "max_height": null,
            "max_width": null,
            "min_height": null,
            "min_width": null,
            "object_fit": null,
            "object_position": null,
            "order": null,
            "overflow": null,
            "overflow_x": null,
            "overflow_y": null,
            "padding": null,
            "right": null,
            "top": null,
            "visibility": null,
            "width": null
          }
        },
        "0324e932f88841849f55dd6341e25184": {
          "model_module": "@jupyter-widgets/controls",
          "model_module_version": "1.5.0",
          "model_name": "DescriptionStyleModel",
          "state": {
            "_model_module": "@jupyter-widgets/controls",
            "_model_module_version": "1.5.0",
            "_model_name": "DescriptionStyleModel",
            "_view_count": null,
            "_view_module": "@jupyter-widgets/base",
            "_view_module_version": "1.2.0",
            "_view_name": "StyleView",
            "description_width": "initial"
          }
        },
        "04660921b2594be8a1b80855236b7341": {
          "model_module": "@jupyter-widgets/controls",
          "model_module_version": "1.5.0",
          "model_name": "DescriptionStyleModel",
          "state": {
            "_model_module": "@jupyter-widgets/controls",
            "_model_module_version": "1.5.0",
            "_model_name": "DescriptionStyleModel",
            "_view_count": null,
            "_view_module": "@jupyter-widgets/base",
            "_view_module_version": "1.2.0",
            "_view_name": "StyleView",
            "description_width": "initial"
          }
        },
        "0b0e1a77cf94464da705f81d7b11a6a1": {
          "model_module": "@jupyter-widgets/controls",
          "model_module_version": "1.5.0",
          "model_name": "SliderStyleModel",
          "state": {
            "_model_module": "@jupyter-widgets/controls",
            "_model_module_version": "1.5.0",
            "_model_name": "SliderStyleModel",
            "_view_count": null,
            "_view_module": "@jupyter-widgets/base",
            "_view_module_version": "1.2.0",
            "_view_name": "StyleView",
            "description_width": "",
            "handle_color": null
          }
        },
        "0f4c8e145800411385eebc99d33ec1f1": {
          "model_module": "@jupyter-widgets/controls",
          "model_module_version": "1.5.0",
          "model_name": "SelectMultipleModel",
          "state": {
            "_dom_classes": [],
            "_model_module": "@jupyter-widgets/controls",
            "_model_module_version": "1.5.0",
            "_model_name": "SelectMultipleModel",
            "_options_labels": [
              "AAPL",
              "MSFT",
              "GOOG",
              "NVDA",
              "META"
            ],
            "_view_count": null,
            "_view_module": "@jupyter-widgets/controls",
            "_view_module_version": "1.5.0",
            "_view_name": "SelectMultipleView",
            "description": "Stocks:",
            "description_tooltip": null,
            "disabled": false,
            "index": [
              0,
              1
            ],
            "layout": "IPY_MODEL_41bc41824c514e5c874f73589d4a5ac5",
            "rows": 5,
            "style": "IPY_MODEL_c769307ca4814b7c8afbf04192c2b46e"
          }
        },
        "10ab201bf96f4ef89bd079eadf9781a8": {
          "model_module": "@jupyter-widgets/controls",
          "model_module_version": "1.5.0",
          "model_name": "HTMLModel",
          "state": {
            "_dom_classes": [],
            "_model_module": "@jupyter-widgets/controls",
            "_model_module_version": "1.5.0",
            "_model_name": "HTMLModel",
            "_view_count": null,
            "_view_module": "@jupyter-widgets/controls",
            "_view_module_version": "1.5.0",
            "_view_name": "HTMLView",
            "description": "",
            "description_tooltip": null,
            "layout": "IPY_MODEL_d013c6b99f1c42fda9e2a6281c2eaeb9",
            "placeholder": "​",
            "style": "IPY_MODEL_97665c6c137d41a7adcb0aee5f0dfd10",
            "value": "<b>Mean Squared Error (MSE): 5198.34</b>"
          }
        },
        "11853a42ff5542f89ba39d5eef8d431e": {
          "model_module": "@jupyter-widgets/controls",
          "model_module_version": "1.5.0",
          "model_name": "DatePickerModel",
          "state": {
            "_dom_classes": [],
            "_model_module": "@jupyter-widgets/controls",
            "_model_module_version": "1.5.0",
            "_model_name": "DatePickerModel",
            "_view_count": null,
            "_view_module": "@jupyter-widgets/controls",
            "_view_module_version": "1.5.0",
            "_view_name": "DatePickerView",
            "description": "Start Date:",
            "description_tooltip": null,
            "disabled": false,
            "layout": "IPY_MODEL_60c3238701ee45f1a9e4738399142a80",
            "style": "IPY_MODEL_b8d426e01db84a5e842b6fbc0af591b7",
            "value": {
              "date": 1,
              "month": 0,
              "year": 2015
            }
          }
        },
        "123734f2af344b99b34042cd817ad4af": {
          "model_module": "@jupyter-widgets/controls",
          "model_module_version": "1.5.0",
          "model_name": "IntSliderModel",
          "state": {
            "_dom_classes": [],
            "_model_module": "@jupyter-widgets/controls",
            "_model_module_version": "1.5.0",
            "_model_name": "IntSliderModel",
            "_view_count": null,
            "_view_module": "@jupyter-widgets/controls",
            "_view_module_version": "1.5.0",
            "_view_name": "IntSliderView",
            "continuous_update": true,
            "description": "Forecast Days:",
            "description_tooltip": null,
            "disabled": false,
            "layout": "IPY_MODEL_7058895f0531436180c58b0d69c01cd4",
            "max": 365,
            "min": 1,
            "orientation": "horizontal",
            "readout": true,
            "readout_format": "d",
            "step": 1,
            "style": "IPY_MODEL_0b0e1a77cf94464da705f81d7b11a6a1",
            "value": 30
          }
        },
        "1b0ae70e4c674779b27f826754dbae96": {
          "model_module": "@jupyter-widgets/controls",
          "model_module_version": "1.5.0",
          "model_name": "DescriptionStyleModel",
          "state": {
            "_model_module": "@jupyter-widgets/controls",
            "_model_module_version": "1.5.0",
            "_model_name": "DescriptionStyleModel",
            "_view_count": null,
            "_view_module": "@jupyter-widgets/base",
            "_view_module_version": "1.2.0",
            "_view_name": "StyleView",
            "description_width": ""
          }
        },
        "1b7f8dd55e6540cf87f6b08e806159cd": {
          "model_module": "@jupyter-widgets/base",
          "model_module_version": "1.2.0",
          "model_name": "LayoutModel",
          "state": {
            "_model_module": "@jupyter-widgets/base",
            "_model_module_version": "1.2.0",
            "_model_name": "LayoutModel",
            "_view_count": null,
            "_view_module": "@jupyter-widgets/base",
            "_view_module_version": "1.2.0",
            "_view_name": "LayoutView",
            "align_content": null,
            "align_items": null,
            "align_self": null,
            "border": null,
            "bottom": null,
            "display": null,
            "flex": null,
            "flex_flow": null,
            "grid_area": null,
            "grid_auto_columns": null,
            "grid_auto_flow": null,
            "grid_auto_rows": null,
            "grid_column": null,
            "grid_gap": null,
            "grid_row": null,
            "grid_template_areas": null,
            "grid_template_columns": null,
            "grid_template_rows": null,
            "height": null,
            "justify_content": null,
            "justify_items": null,
            "left": null,
            "margin": null,
            "max_height": null,
            "max_width": null,
            "min_height": null,
            "min_width": null,
            "object_fit": null,
            "object_position": null,
            "order": null,
            "overflow": null,
            "overflow_x": null,
            "overflow_y": null,
            "padding": null,
            "right": null,
            "top": null,
            "visibility": null,
            "width": null
          }
        },
        "1e797a088dd94618860a7902f09b933d": {
          "model_module": "@jupyter-widgets/controls",
          "model_module_version": "1.5.0",
          "model_name": "HTMLModel",
          "state": {
            "_dom_classes": [],
            "_model_module": "@jupyter-widgets/controls",
            "_model_module_version": "1.5.0",
            "_model_name": "HTMLModel",
            "_view_count": null,
            "_view_module": "@jupyter-widgets/controls",
            "_view_module_version": "1.5.0",
            "_view_name": "HTMLView",
            "description": "",
            "description_tooltip": null,
            "layout": "IPY_MODEL_edc61d74f3804143b1e72556468f2446",
            "placeholder": "​",
            "style": "IPY_MODEL_837870bd3fc549ae8ef528a64778ce57",
            "value": "<b>Mean Squared Error (MSE): 5614.53</b>"
          }
        },
        "21a403381911437aa6bfdb22c58b4424": {
          "model_module": "@jupyter-widgets/base",
          "model_module_version": "1.2.0",
          "model_name": "LayoutModel",
          "state": {
            "_model_module": "@jupyter-widgets/base",
            "_model_module_version": "1.2.0",
            "_model_name": "LayoutModel",
            "_view_count": null,
            "_view_module": "@jupyter-widgets/base",
            "_view_module_version": "1.2.0",
            "_view_name": "LayoutView",
            "align_content": null,
            "align_items": null,
            "align_self": null,
            "border": null,
            "bottom": null,
            "display": null,
            "flex": null,
            "flex_flow": null,
            "grid_area": null,
            "grid_auto_columns": null,
            "grid_auto_flow": null,
            "grid_auto_rows": null,
            "grid_column": null,
            "grid_gap": null,
            "grid_row": null,
            "grid_template_areas": null,
            "grid_template_columns": null,
            "grid_template_rows": null,
            "height": null,
            "justify_content": null,
            "justify_items": null,
            "left": null,
            "margin": null,
            "max_height": null,
            "max_width": null,
            "min_height": null,
            "min_width": null,
            "object_fit": null,
            "object_position": null,
            "order": null,
            "overflow": null,
            "overflow_x": null,
            "overflow_y": null,
            "padding": null,
            "right": null,
            "top": null,
            "visibility": null,
            "width": null
          }
        },
        "24882038b85840029c74e7fe4768eb8d": {
          "model_module": "@jupyter-widgets/controls",
          "model_module_version": "1.5.0",
          "model_name": "DescriptionStyleModel",
          "state": {
            "_model_module": "@jupyter-widgets/controls",
            "_model_module_version": "1.5.0",
            "_model_name": "DescriptionStyleModel",
            "_view_count": null,
            "_view_module": "@jupyter-widgets/base",
            "_view_module_version": "1.2.0",
            "_view_name": "StyleView",
            "description_width": "initial"
          }
        },
        "24dd9e52096e4c328285e8f311f0b71d": {
          "model_module": "@jupyter-widgets/controls",
          "model_module_version": "1.5.0",
          "model_name": "HBoxModel",
          "state": {
            "_dom_classes": [],
            "_model_module": "@jupyter-widgets/controls",
            "_model_module_version": "1.5.0",
            "_model_name": "HBoxModel",
            "_view_count": null,
            "_view_module": "@jupyter-widgets/controls",
            "_view_module_version": "1.5.0",
            "_view_name": "HBoxView",
            "box_style": "",
            "children": [
              "IPY_MODEL_27ee3df047e342d8ab6caf2df45ab73b",
              "IPY_MODEL_5775be096f4c4e3ba7a4fa9ec41f34b5"
            ],
            "layout": "IPY_MODEL_e76e74770d1740f6bed2be28176625ef"
          }
        },
        "27ee3df047e342d8ab6caf2df45ab73b": {
          "model_module": "@jupyter-widgets/controls",
          "model_module_version": "1.5.0",
          "model_name": "DatePickerModel",
          "state": {
            "_dom_classes": [],
            "_model_module": "@jupyter-widgets/controls",
            "_model_module_version": "1.5.0",
            "_model_name": "DatePickerModel",
            "_view_count": null,
            "_view_module": "@jupyter-widgets/controls",
            "_view_module_version": "1.5.0",
            "_view_name": "DatePickerView",
            "description": "Start Date:",
            "description_tooltip": null,
            "disabled": false,
            "layout": "IPY_MODEL_ff6df8877a554da2ba2451dae47f0475",
            "style": "IPY_MODEL_e7beec9e052f4189a4700a8ccc41c14f",
            "value": {
              "date": 1,
              "month": 0,
              "year": 2020
            }
          }
        },
        "2b246a8ef5cf4fe2a9d04e92926df024": {
          "model_module": "@jupyter-widgets/base",
          "model_module_version": "1.2.0",
          "model_name": "LayoutModel",
          "state": {
            "_model_module": "@jupyter-widgets/base",
            "_model_module_version": "1.2.0",
            "_model_name": "LayoutModel",
            "_view_count": null,
            "_view_module": "@jupyter-widgets/base",
            "_view_module_version": "1.2.0",
            "_view_name": "LayoutView",
            "align_content": null,
            "align_items": null,
            "align_self": null,
            "border": null,
            "bottom": null,
            "display": null,
            "flex": null,
            "flex_flow": null,
            "grid_area": null,
            "grid_auto_columns": null,
            "grid_auto_flow": null,
            "grid_auto_rows": null,
            "grid_column": null,
            "grid_gap": null,
            "grid_row": null,
            "grid_template_areas": null,
            "grid_template_columns": null,
            "grid_template_rows": null,
            "height": null,
            "justify_content": null,
            "justify_items": null,
            "left": null,
            "margin": null,
            "max_height": null,
            "max_width": null,
            "min_height": null,
            "min_width": null,
            "object_fit": null,
            "object_position": null,
            "order": null,
            "overflow": null,
            "overflow_x": null,
            "overflow_y": null,
            "padding": null,
            "right": null,
            "top": null,
            "visibility": null,
            "width": null
          }
        },
        "2c89361397e6481084e57e1cb2175b47": {
          "model_module": "@jupyter-widgets/output",
          "model_module_version": "1.0.0",
          "model_name": "OutputModel",
          "state": {
            "_dom_classes": [],
            "_model_module": "@jupyter-widgets/output",
            "_model_module_version": "1.0.0",
            "_model_name": "OutputModel",
            "_view_count": null,
            "_view_module": "@jupyter-widgets/output",
            "_view_module_version": "1.0.0",
            "_view_name": "OutputView",
            "layout": "IPY_MODEL_e32b8735c9894d199109ec24b22ecf77",
            "msg_id": "",
            "outputs": [
              {
                "name": "stderr",
                "output_type": "stream",
                "text": [
                  "\r[*********************100%***********************]  1 of 1 completed"
                ]
              },
              {
                "name": "stdout",
                "output_type": "stream",
                "text": [
                  "Fetching data for: GOOG\n"
                ]
              },
              {
                "name": "stderr",
                "output_type": "stream",
                "text": [
                  "\n"
                ]
              },
              {
                "data": {
                  "image/png": "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\n",
                  "text/plain": "<Figure size 1200x600 with 1 Axes>"
                },
                "metadata": {},
                "output_type": "display_data"
              },
              {
                "name": "stdout",
                "output_type": "stream",
                "text": [
                  "Model Mean Squared Error (MSE): 246.05\n"
                ]
              }
            ]
          }
        },
        "2d0ed5fb9c1c4ae19c9f63cabb61d74a": {
          "model_module": "@jupyter-widgets/controls",
          "model_module_version": "1.5.0",
          "model_name": "DescriptionStyleModel",
          "state": {
            "_model_module": "@jupyter-widgets/controls",
            "_model_module_version": "1.5.0",
            "_model_name": "DescriptionStyleModel",
            "_view_count": null,
            "_view_module": "@jupyter-widgets/base",
            "_view_module_version": "1.2.0",
            "_view_name": "StyleView",
            "description_width": ""
          }
        },
        "343f9e85349644d78aaf36701a597d84": {
          "model_module": "@jupyter-widgets/controls",
          "model_module_version": "1.5.0",
          "model_name": "DatePickerModel",
          "state": {
            "_dom_classes": [],
            "_model_module": "@jupyter-widgets/controls",
            "_model_module_version": "1.5.0",
            "_model_name": "DatePickerModel",
            "_view_count": null,
            "_view_module": "@jupyter-widgets/controls",
            "_view_module_version": "1.5.0",
            "_view_name": "DatePickerView",
            "description": "End Date:",
            "description_tooltip": null,
            "disabled": false,
            "layout": "IPY_MODEL_c96bfec5546e444683489c8373cc3182",
            "style": "IPY_MODEL_bde9b83f11f94535848582de9200e991",
            "value": {
              "date": 10,
              "month": 11,
              "year": 2024
            }
          }
        },
        "4040a47e923f4ffa820dd5cccd0ff24b": {
          "model_module": "@jupyter-widgets/base",
          "model_module_version": "1.2.0",
          "model_name": "LayoutModel",
          "state": {
            "_model_module": "@jupyter-widgets/base",
            "_model_module_version": "1.2.0",
            "_model_name": "LayoutModel",
            "_view_count": null,
            "_view_module": "@jupyter-widgets/base",
            "_view_module_version": "1.2.0",
            "_view_name": "LayoutView",
            "align_content": null,
            "align_items": null,
            "align_self": null,
            "border": null,
            "bottom": null,
            "display": null,
            "flex": null,
            "flex_flow": null,
            "grid_area": null,
            "grid_auto_columns": null,
            "grid_auto_flow": null,
            "grid_auto_rows": null,
            "grid_column": null,
            "grid_gap": null,
            "grid_row": null,
            "grid_template_areas": null,
            "grid_template_columns": null,
            "grid_template_rows": null,
            "height": null,
            "justify_content": null,
            "justify_items": null,
            "left": null,
            "margin": null,
            "max_height": null,
            "max_width": null,
            "min_height": null,
            "min_width": null,
            "object_fit": null,
            "object_position": null,
            "order": null,
            "overflow": null,
            "overflow_x": null,
            "overflow_y": null,
            "padding": null,
            "right": null,
            "top": null,
            "visibility": null,
            "width": null
          }
        },
        "41bc41824c514e5c874f73589d4a5ac5": {
          "model_module": "@jupyter-widgets/base",
          "model_module_version": "1.2.0",
          "model_name": "LayoutModel",
          "state": {
            "_model_module": "@jupyter-widgets/base",
            "_model_module_version": "1.2.0",
            "_model_name": "LayoutModel",
            "_view_count": null,
            "_view_module": "@jupyter-widgets/base",
            "_view_module_version": "1.2.0",
            "_view_name": "LayoutView",
            "align_content": null,
            "align_items": null,
            "align_self": null,
            "border": null,
            "bottom": null,
            "display": null,
            "flex": null,
            "flex_flow": null,
            "grid_area": null,
            "grid_auto_columns": null,
            "grid_auto_flow": null,
            "grid_auto_rows": null,
            "grid_column": null,
            "grid_gap": null,
            "grid_row": null,
            "grid_template_areas": null,
            "grid_template_columns": null,
            "grid_template_rows": null,
            "height": null,
            "justify_content": null,
            "justify_items": null,
            "left": null,
            "margin": null,
            "max_height": null,
            "max_width": null,
            "min_height": null,
            "min_width": null,
            "object_fit": null,
            "object_position": null,
            "order": null,
            "overflow": null,
            "overflow_x": null,
            "overflow_y": null,
            "padding": null,
            "right": null,
            "top": null,
            "visibility": null,
            "width": null
          }
        },
        "4554f4e7d4f24dd18d61b2e8443ba934": {
          "model_module": "@jupyter-widgets/controls",
          "model_module_version": "1.5.0",
          "model_name": "DescriptionStyleModel",
          "state": {
            "_model_module": "@jupyter-widgets/controls",
            "_model_module_version": "1.5.0",
            "_model_name": "DescriptionStyleModel",
            "_view_count": null,
            "_view_module": "@jupyter-widgets/base",
            "_view_module_version": "1.2.0",
            "_view_name": "StyleView",
            "description_width": ""
          }
        },
        "482e212844274a0aa84dca1e5628e4f9": {
          "model_module": "@jupyter-widgets/base",
          "model_module_version": "1.2.0",
          "model_name": "LayoutModel",
          "state": {
            "_model_module": "@jupyter-widgets/base",
            "_model_module_version": "1.2.0",
            "_model_name": "LayoutModel",
            "_view_count": null,
            "_view_module": "@jupyter-widgets/base",
            "_view_module_version": "1.2.0",
            "_view_name": "LayoutView",
            "align_content": null,
            "align_items": null,
            "align_self": null,
            "border": null,
            "bottom": null,
            "display": null,
            "flex": null,
            "flex_flow": null,
            "grid_area": null,
            "grid_auto_columns": null,
            "grid_auto_flow": null,
            "grid_auto_rows": null,
            "grid_column": null,
            "grid_gap": null,
            "grid_row": null,
            "grid_template_areas": null,
            "grid_template_columns": null,
            "grid_template_rows": null,
            "height": null,
            "justify_content": null,
            "justify_items": null,
            "left": null,
            "margin": null,
            "max_height": null,
            "max_width": null,
            "min_height": null,
            "min_width": null,
            "object_fit": null,
            "object_position": null,
            "order": null,
            "overflow": null,
            "overflow_x": null,
            "overflow_y": null,
            "padding": null,
            "right": null,
            "top": null,
            "visibility": null,
            "width": null
          }
        },
        "4874ba5263984d93bf3fcc0090ea420a": {
          "model_module": "@jupyter-widgets/base",
          "model_module_version": "1.2.0",
          "model_name": "LayoutModel",
          "state": {
            "_model_module": "@jupyter-widgets/base",
            "_model_module_version": "1.2.0",
            "_model_name": "LayoutModel",
            "_view_count": null,
            "_view_module": "@jupyter-widgets/base",
            "_view_module_version": "1.2.0",
            "_view_name": "LayoutView",
            "align_content": null,
            "align_items": null,
            "align_self": null,
            "border": null,
            "bottom": null,
            "display": null,
            "flex": null,
            "flex_flow": null,
            "grid_area": null,
            "grid_auto_columns": null,
            "grid_auto_flow": null,
            "grid_auto_rows": null,
            "grid_column": null,
            "grid_gap": null,
            "grid_row": null,
            "grid_template_areas": null,
            "grid_template_columns": null,
            "grid_template_rows": null,
            "height": null,
            "justify_content": null,
            "justify_items": null,
            "left": null,
            "margin": null,
            "max_height": null,
            "max_width": null,
            "min_height": null,
            "min_width": null,
            "object_fit": null,
            "object_position": null,
            "order": null,
            "overflow": null,
            "overflow_x": null,
            "overflow_y": null,
            "padding": null,
            "right": null,
            "top": null,
            "visibility": null,
            "width": null
          }
        },
        "48e7cb95e9494cc68b2b50ecaf50feba": {
          "model_module": "@jupyter-widgets/controls",
          "model_module_version": "1.5.0",
          "model_name": "ButtonStyleModel",
          "state": {
            "_model_module": "@jupyter-widgets/controls",
            "_model_module_version": "1.5.0",
            "_model_name": "ButtonStyleModel",
            "_view_count": null,
            "_view_module": "@jupyter-widgets/base",
            "_view_module_version": "1.2.0",
            "_view_name": "StyleView",
            "button_color": null,
            "font_weight": ""
          }
        },
        "499ac2f2b872449ca925ced333280cf3": {
          "model_module": "@jupyter-widgets/controls",
          "model_module_version": "1.5.0",
          "model_name": "HTMLModel",
          "state": {
            "_dom_classes": [],
            "_model_module": "@jupyter-widgets/controls",
            "_model_module_version": "1.5.0",
            "_model_name": "HTMLModel",
            "_view_count": null,
            "_view_module": "@jupyter-widgets/controls",
            "_view_module_version": "1.5.0",
            "_view_name": "HTMLView",
            "description": "",
            "description_tooltip": null,
            "layout": "IPY_MODEL_a0a897c233e44b538e496b811819e8b4",
            "placeholder": "​",
            "style": "IPY_MODEL_2d0ed5fb9c1c4ae19c9f63cabb61d74a",
            "value": "<b>Mean Squared Error (MSE): 5115.47</b>"
          }
        },
        "530e4106e7684e479c4496e5d0e87f01": {
          "model_module": "@jupyter-widgets/controls",
          "model_module_version": "1.5.0",
          "model_name": "DescriptionStyleModel",
          "state": {
            "_model_module": "@jupyter-widgets/controls",
            "_model_module_version": "1.5.0",
            "_model_name": "DescriptionStyleModel",
            "_view_count": null,
            "_view_module": "@jupyter-widgets/base",
            "_view_module_version": "1.2.0",
            "_view_name": "StyleView",
            "description_width": ""
          }
        },
        "53502c2e19884f6a8d017ba10cc3085f": {
          "model_module": "@jupyter-widgets/base",
          "model_module_version": "1.2.0",
          "model_name": "LayoutModel",
          "state": {
            "_model_module": "@jupyter-widgets/base",
            "_model_module_version": "1.2.0",
            "_model_name": "LayoutModel",
            "_view_count": null,
            "_view_module": "@jupyter-widgets/base",
            "_view_module_version": "1.2.0",
            "_view_name": "LayoutView",
            "align_content": null,
            "align_items": null,
            "align_self": null,
            "border": null,
            "bottom": null,
            "display": null,
            "flex": null,
            "flex_flow": null,
            "grid_area": null,
            "grid_auto_columns": null,
            "grid_auto_flow": null,
            "grid_auto_rows": null,
            "grid_column": null,
            "grid_gap": null,
            "grid_row": null,
            "grid_template_areas": null,
            "grid_template_columns": null,
            "grid_template_rows": null,
            "height": null,
            "justify_content": null,
            "justify_items": null,
            "left": null,
            "margin": null,
            "max_height": null,
            "max_width": null,
            "min_height": null,
            "min_width": null,
            "object_fit": null,
            "object_position": null,
            "order": null,
            "overflow": null,
            "overflow_x": null,
            "overflow_y": null,
            "padding": null,
            "right": null,
            "top": null,
            "visibility": null,
            "width": null
          }
        },
        "574f4dacac5547cbb33f5017ead58953": {
          "model_module": "@jupyter-widgets/output",
          "model_module_version": "1.0.0",
          "model_name": "OutputModel",
          "state": {
            "_dom_classes": [],
            "_model_module": "@jupyter-widgets/output",
            "_model_module_version": "1.0.0",
            "_model_name": "OutputModel",
            "_view_count": null,
            "_view_module": "@jupyter-widgets/output",
            "_view_module_version": "1.0.0",
            "_view_name": "OutputView",
            "layout": "IPY_MODEL_4874ba5263984d93bf3fcc0090ea420a",
            "msg_id": "",
            "outputs": [
              {
                "name": "stdout",
                "output_type": "stream",
                "text": [
                  "Fetching data for: AAPL, MSFT\n"
                ]
              },
              {
                "name": "stderr",
                "output_type": "stream",
                "text": [
                  "\r[                       0%                       ]"
                ]
              },
              {
                "name": "stderr",
                "output_type": "stream",
                "text": [
                  "\r[*********************100%***********************]  2 of 2 completed"
                ]
              },
              {
                "name": "stderr",
                "output_type": "stream",
                "text": [
                  "\n"
                ]
              },
              {
                "data": {
                  "image/png": "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\n",
                  "text/plain": "<Figure size 1200x600 with 1 Axes>"
                },
                "metadata": {},
                "output_type": "display_data"
              }
            ]
          }
        },
        "5775be096f4c4e3ba7a4fa9ec41f34b5": {
          "model_module": "@jupyter-widgets/controls",
          "model_module_version": "1.5.0",
          "model_name": "DatePickerModel",
          "state": {
            "_dom_classes": [],
            "_model_module": "@jupyter-widgets/controls",
            "_model_module_version": "1.5.0",
            "_model_name": "DatePickerModel",
            "_view_count": null,
            "_view_module": "@jupyter-widgets/controls",
            "_view_module_version": "1.5.0",
            "_view_name": "DatePickerView",
            "description": "End Date:",
            "description_tooltip": null,
            "disabled": false,
            "layout": "IPY_MODEL_71aca2b6b88a46bf8393542656268639",
            "style": "IPY_MODEL_b06aa478809c489c96b30fe0b1473f42",
            "value": {
              "date": 31,
              "month": 11,
              "year": 2024
            }
          }
        },
        "59bb22b1522d495897f351fd1a1e742c": {
          "model_module": "@jupyter-widgets/controls",
          "model_module_version": "1.5.0",
          "model_name": "DropdownModel",
          "state": {
            "_dom_classes": [],
            "_model_module": "@jupyter-widgets/controls",
            "_model_module_version": "1.5.0",
            "_model_name": "DropdownModel",
            "_options_labels": [
              "Tech",
              "Automobile",
              "Retail",
              "Healthcare",
              "Energy"
            ],
            "_view_count": null,
            "_view_module": "@jupyter-widgets/controls",
            "_view_module_version": "1.5.0",
            "_view_name": "DropdownView",
            "description": "Industry:",
            "description_tooltip": null,
            "disabled": false,
            "index": 0,
            "layout": "IPY_MODEL_80f2294be1b04a6cac235bc79c3c94c2",
            "style": "IPY_MODEL_77f1d66c391d4401b2bee79fe023336a"
          }
        },
        "5bb90b3f662642f4bfba06635c3287d9": {
          "model_module": "@jupyter-widgets/controls",
          "model_module_version": "1.5.0",
          "model_name": "HBoxModel",
          "state": {
            "_dom_classes": [],
            "_model_module": "@jupyter-widgets/controls",
            "_model_module_version": "1.5.0",
            "_model_name": "HBoxModel",
            "_view_count": null,
            "_view_module": "@jupyter-widgets/controls",
            "_view_module_version": "1.5.0",
            "_view_name": "HBoxView",
            "box_style": "",
            "children": [
              "IPY_MODEL_63b6963798c74352b8cb56bbddd7bb53",
              "IPY_MODEL_11853a42ff5542f89ba39d5eef8d431e",
              "IPY_MODEL_9b14f542cbbc49efbd0cc1e1b7dc9ad2"
            ],
            "layout": "IPY_MODEL_482e212844274a0aa84dca1e5628e4f9"
          }
        },
        "60c3238701ee45f1a9e4738399142a80": {
          "model_module": "@jupyter-widgets/base",
          "model_module_version": "1.2.0",
          "model_name": "LayoutModel",
          "state": {
            "_model_module": "@jupyter-widgets/base",
            "_model_module_version": "1.2.0",
            "_model_name": "LayoutModel",
            "_view_count": null,
            "_view_module": "@jupyter-widgets/base",
            "_view_module_version": "1.2.0",
            "_view_name": "LayoutView",
            "align_content": null,
            "align_items": null,
            "align_self": null,
            "border": null,
            "bottom": null,
            "display": null,
            "flex": null,
            "flex_flow": null,
            "grid_area": null,
            "grid_auto_columns": null,
            "grid_auto_flow": null,
            "grid_auto_rows": null,
            "grid_column": null,
            "grid_gap": null,
            "grid_row": null,
            "grid_template_areas": null,
            "grid_template_columns": null,
            "grid_template_rows": null,
            "height": null,
            "justify_content": null,
            "justify_items": null,
            "left": null,
            "margin": null,
            "max_height": null,
            "max_width": null,
            "min_height": null,
            "min_width": null,
            "object_fit": null,
            "object_position": null,
            "order": null,
            "overflow": null,
            "overflow_x": null,
            "overflow_y": null,
            "padding": null,
            "right": null,
            "top": null,
            "visibility": null,
            "width": null
          }
        },
        "63b6963798c74352b8cb56bbddd7bb53": {
          "model_module": "@jupyter-widgets/controls",
          "model_module_version": "1.5.0",
          "model_name": "TextModel",
          "state": {
            "_dom_classes": [],
            "_model_module": "@jupyter-widgets/controls",
            "_model_module_version": "1.5.0",
            "_model_name": "TextModel",
            "_view_count": null,
            "_view_module": "@jupyter-widgets/controls",
            "_view_module_version": "1.5.0",
            "_view_name": "TextView",
            "continuous_update": true,
            "description": "Stock Ticker:",
            "description_tooltip": null,
            "disabled": false,
            "layout": "IPY_MODEL_be32088eae7f457da4bbed0104c63d13",
            "placeholder": "​",
            "style": "IPY_MODEL_1b0ae70e4c674779b27f826754dbae96",
            "value": "AAPL"
          }
        },
        "677888b6ac71462f9edf084fcadae4de": {
          "model_module": "@jupyter-widgets/controls",
          "model_module_version": "1.5.0",
          "model_name": "ButtonModel",
          "state": {
            "_dom_classes": [],
            "_model_module": "@jupyter-widgets/controls",
            "_model_module_version": "1.5.0",
            "_model_name": "ButtonModel",
            "_view_count": null,
            "_view_module": "@jupyter-widgets/controls",
            "_view_module_version": "1.5.0",
            "_view_name": "ButtonView",
            "button_style": "success",
            "description": "Run LSTM",
            "disabled": false,
            "icon": "",
            "layout": "IPY_MODEL_1b7f8dd55e6540cf87f6b08e806159cd",
            "style": "IPY_MODEL_c9206b77d69842d485472e6a0a3a5421",
            "tooltip": ""
          }
        },
        "7058895f0531436180c58b0d69c01cd4": {
          "model_module": "@jupyter-widgets/base",
          "model_module_version": "1.2.0",
          "model_name": "LayoutModel",
          "state": {
            "_model_module": "@jupyter-widgets/base",
            "_model_module_version": "1.2.0",
            "_model_name": "LayoutModel",
            "_view_count": null,
            "_view_module": "@jupyter-widgets/base",
            "_view_module_version": "1.2.0",
            "_view_name": "LayoutView",
            "align_content": null,
            "align_items": null,
            "align_self": null,
            "border": null,
            "bottom": null,
            "display": null,
            "flex": null,
            "flex_flow": null,
            "grid_area": null,
            "grid_auto_columns": null,
            "grid_auto_flow": null,
            "grid_auto_rows": null,
            "grid_column": null,
            "grid_gap": null,
            "grid_row": null,
            "grid_template_areas": null,
            "grid_template_columns": null,
            "grid_template_rows": null,
            "height": null,
            "justify_content": null,
            "justify_items": null,
            "left": null,
            "margin": null,
            "max_height": null,
            "max_width": null,
            "min_height": null,
            "min_width": null,
            "object_fit": null,
            "object_position": null,
            "order": null,
            "overflow": null,
            "overflow_x": null,
            "overflow_y": null,
            "padding": null,
            "right": null,
            "top": null,
            "visibility": null,
            "width": null
          }
        },
        "71aca2b6b88a46bf8393542656268639": {
          "model_module": "@jupyter-widgets/base",
          "model_module_version": "1.2.0",
          "model_name": "LayoutModel",
          "state": {
            "_model_module": "@jupyter-widgets/base",
            "_model_module_version": "1.2.0",
            "_model_name": "LayoutModel",
            "_view_count": null,
            "_view_module": "@jupyter-widgets/base",
            "_view_module_version": "1.2.0",
            "_view_name": "LayoutView",
            "align_content": null,
            "align_items": null,
            "align_self": null,
            "border": null,
            "bottom": null,
            "display": null,
            "flex": null,
            "flex_flow": null,
            "grid_area": null,
            "grid_auto_columns": null,
            "grid_auto_flow": null,
            "grid_auto_rows": null,
            "grid_column": null,
            "grid_gap": null,
            "grid_row": null,
            "grid_template_areas": null,
            "grid_template_columns": null,
            "grid_template_rows": null,
            "height": null,
            "justify_content": null,
            "justify_items": null,
            "left": null,
            "margin": null,
            "max_height": null,
            "max_width": null,
            "min_height": null,
            "min_width": null,
            "object_fit": null,
            "object_position": null,
            "order": null,
            "overflow": null,
            "overflow_x": null,
            "overflow_y": null,
            "padding": null,
            "right": null,
            "top": null,
            "visibility": null,
            "width": null
          }
        },
        "75093dee665146419382155f407a063e": {
          "model_module": "@jupyter-widgets/base",
          "model_module_version": "1.2.0",
          "model_name": "LayoutModel",
          "state": {
            "_model_module": "@jupyter-widgets/base",
            "_model_module_version": "1.2.0",
            "_model_name": "LayoutModel",
            "_view_count": null,
            "_view_module": "@jupyter-widgets/base",
            "_view_module_version": "1.2.0",
            "_view_name": "LayoutView",
            "align_content": null,
            "align_items": null,
            "align_self": null,
            "border": null,
            "bottom": null,
            "display": null,
            "flex": null,
            "flex_flow": null,
            "grid_area": null,
            "grid_auto_columns": null,
            "grid_auto_flow": null,
            "grid_auto_rows": null,
            "grid_column": null,
            "grid_gap": null,
            "grid_row": null,
            "grid_template_areas": null,
            "grid_template_columns": null,
            "grid_template_rows": null,
            "height": null,
            "justify_content": null,
            "justify_items": null,
            "left": null,
            "margin": null,
            "max_height": null,
            "max_width": null,
            "min_height": null,
            "min_width": null,
            "object_fit": null,
            "object_position": null,
            "order": null,
            "overflow": null,
            "overflow_x": null,
            "overflow_y": null,
            "padding": null,
            "right": null,
            "top": null,
            "visibility": null,
            "width": null
          }
        },
        "77f1d66c391d4401b2bee79fe023336a": {
          "model_module": "@jupyter-widgets/controls",
          "model_module_version": "1.5.0",
          "model_name": "DescriptionStyleModel",
          "state": {
            "_model_module": "@jupyter-widgets/controls",
            "_model_module_version": "1.5.0",
            "_model_name": "DescriptionStyleModel",
            "_view_count": null,
            "_view_module": "@jupyter-widgets/base",
            "_view_module_version": "1.2.0",
            "_view_name": "StyleView",
            "description_width": "initial"
          }
        },
        "793fc605e34d426daff92fae0f6ea7f6": {
          "model_module": "@jupyter-widgets/controls",
          "model_module_version": "1.5.0",
          "model_name": "HTMLModel",
          "state": {
            "_dom_classes": [],
            "_model_module": "@jupyter-widgets/controls",
            "_model_module_version": "1.5.0",
            "_model_name": "HTMLModel",
            "_view_count": null,
            "_view_module": "@jupyter-widgets/controls",
            "_view_module_version": "1.5.0",
            "_view_name": "HTMLView",
            "description": "",
            "description_tooltip": null,
            "layout": "IPY_MODEL_f1fd622597cc45c392d60213082ea879",
            "placeholder": "​",
            "style": "IPY_MODEL_d99f06f8cdc441e2bf337d054bf188ee",
            "value": "<b>Mean Absolute Error (MAE): 68.57</b>"
          }
        },
        "7fa2a809707144b4bfca9b99b6003e29": {
          "model_module": "@jupyter-widgets/controls",
          "model_module_version": "1.5.0",
          "model_name": "HTMLModel",
          "state": {
            "_dom_classes": [],
            "_model_module": "@jupyter-widgets/controls",
            "_model_module_version": "1.5.0",
            "_model_name": "HTMLModel",
            "_view_count": null,
            "_view_module": "@jupyter-widgets/controls",
            "_view_module_version": "1.5.0",
            "_view_name": "HTMLView",
            "description": "",
            "description_tooltip": null,
            "layout": "IPY_MODEL_21a403381911437aa6bfdb22c58b4424",
            "placeholder": "​",
            "style": "IPY_MODEL_a1df7ecde9534c39a1c12fbe8170a0eb",
            "value": "<b>Mean Absolute Error (MAE): 71.79</b>"
          }
        },
        "80f2294be1b04a6cac235bc79c3c94c2": {
          "model_module": "@jupyter-widgets/base",
          "model_module_version": "1.2.0",
          "model_name": "LayoutModel",
          "state": {
            "_model_module": "@jupyter-widgets/base",
            "_model_module_version": "1.2.0",
            "_model_name": "LayoutModel",
            "_view_count": null,
            "_view_module": "@jupyter-widgets/base",
            "_view_module_version": "1.2.0",
            "_view_name": "LayoutView",
            "align_content": null,
            "align_items": null,
            "align_self": null,
            "border": null,
            "bottom": null,
            "display": null,
            "flex": null,
            "flex_flow": null,
            "grid_area": null,
            "grid_auto_columns": null,
            "grid_auto_flow": null,
            "grid_auto_rows": null,
            "grid_column": null,
            "grid_gap": null,
            "grid_row": null,
            "grid_template_areas": null,
            "grid_template_columns": null,
            "grid_template_rows": null,
            "height": null,
            "justify_content": null,
            "justify_items": null,
            "left": null,
            "margin": null,
            "max_height": null,
            "max_width": null,
            "min_height": null,
            "min_width": null,
            "object_fit": null,
            "object_position": null,
            "order": null,
            "overflow": null,
            "overflow_x": null,
            "overflow_y": null,
            "padding": null,
            "right": null,
            "top": null,
            "visibility": null,
            "width": null
          }
        },
        "81a7e351ed6946bc8c8e7c0b4bf30814": {
          "model_module": "@jupyter-widgets/base",
          "model_module_version": "1.2.0",
          "model_name": "LayoutModel",
          "state": {
            "_model_module": "@jupyter-widgets/base",
            "_model_module_version": "1.2.0",
            "_model_name": "LayoutModel",
            "_view_count": null,
            "_view_module": "@jupyter-widgets/base",
            "_view_module_version": "1.2.0",
            "_view_name": "LayoutView",
            "align_content": null,
            "align_items": null,
            "align_self": null,
            "border": null,
            "bottom": null,
            "display": null,
            "flex": null,
            "flex_flow": null,
            "grid_area": null,
            "grid_auto_columns": null,
            "grid_auto_flow": null,
            "grid_auto_rows": null,
            "grid_column": null,
            "grid_gap": null,
            "grid_row": null,
            "grid_template_areas": null,
            "grid_template_columns": null,
            "grid_template_rows": null,
            "height": null,
            "justify_content": null,
            "justify_items": null,
            "left": null,
            "margin": null,
            "max_height": null,
            "max_width": null,
            "min_height": null,
            "min_width": null,
            "object_fit": null,
            "object_position": null,
            "order": null,
            "overflow": null,
            "overflow_x": null,
            "overflow_y": null,
            "padding": null,
            "right": null,
            "top": null,
            "visibility": null,
            "width": null
          }
        },
        "82aeb45a46e74d8b8354fbcbc51aa4bb": {
          "model_module": "@jupyter-widgets/base",
          "model_module_version": "1.2.0",
          "model_name": "LayoutModel",
          "state": {
            "_model_module": "@jupyter-widgets/base",
            "_model_module_version": "1.2.0",
            "_model_name": "LayoutModel",
            "_view_count": null,
            "_view_module": "@jupyter-widgets/base",
            "_view_module_version": "1.2.0",
            "_view_name": "LayoutView",
            "align_content": null,
            "align_items": null,
            "align_self": null,
            "border": null,
            "bottom": null,
            "display": null,
            "flex": null,
            "flex_flow": null,
            "grid_area": null,
            "grid_auto_columns": null,
            "grid_auto_flow": null,
            "grid_auto_rows": null,
            "grid_column": null,
            "grid_gap": null,
            "grid_row": null,
            "grid_template_areas": null,
            "grid_template_columns": null,
            "grid_template_rows": null,
            "height": null,
            "justify_content": null,
            "justify_items": null,
            "left": null,
            "margin": null,
            "max_height": null,
            "max_width": null,
            "min_height": null,
            "min_width": null,
            "object_fit": null,
            "object_position": null,
            "order": null,
            "overflow": null,
            "overflow_x": null,
            "overflow_y": null,
            "padding": null,
            "right": null,
            "top": null,
            "visibility": null,
            "width": null
          }
        },
        "837870bd3fc549ae8ef528a64778ce57": {
          "model_module": "@jupyter-widgets/controls",
          "model_module_version": "1.5.0",
          "model_name": "DescriptionStyleModel",
          "state": {
            "_model_module": "@jupyter-widgets/controls",
            "_model_module_version": "1.5.0",
            "_model_name": "DescriptionStyleModel",
            "_view_count": null,
            "_view_module": "@jupyter-widgets/base",
            "_view_module_version": "1.2.0",
            "_view_name": "StyleView",
            "description_width": ""
          }
        },
        "89ecca6707824e418d52b4d891674d02": {
          "model_module": "@jupyter-widgets/controls",
          "model_module_version": "1.5.0",
          "model_name": "VBoxModel",
          "state": {
            "_dom_classes": [],
            "_model_module": "@jupyter-widgets/controls",
            "_model_module_version": "1.5.0",
            "_model_name": "VBoxModel",
            "_view_count": null,
            "_view_module": "@jupyter-widgets/controls",
            "_view_module_version": "1.5.0",
            "_view_name": "VBoxView",
            "box_style": "",
            "children": [
              "IPY_MODEL_b72b59b6b3574130825e100a077502a5",
              "IPY_MODEL_0f4c8e145800411385eebc99d33ec1f1",
              "IPY_MODEL_24dd9e52096e4c328285e8f311f0b71d",
              "IPY_MODEL_eb71f3a122574e46a5107b08188bfb59",
              "IPY_MODEL_574f4dacac5547cbb33f5017ead58953"
            ],
            "layout": "IPY_MODEL_b7a6a5faf98146b5adc56ca9dc9c0f72"
          }
        },
        "9003c1811ec44578b9bbf469de60a12d": {
          "model_module": "@jupyter-widgets/base",
          "model_module_version": "1.2.0",
          "model_name": "LayoutModel",
          "state": {
            "_model_module": "@jupyter-widgets/base",
            "_model_module_version": "1.2.0",
            "_model_name": "LayoutModel",
            "_view_count": null,
            "_view_module": "@jupyter-widgets/base",
            "_view_module_version": "1.2.0",
            "_view_name": "LayoutView",
            "align_content": null,
            "align_items": null,
            "align_self": null,
            "border": null,
            "bottom": null,
            "display": null,
            "flex": null,
            "flex_flow": null,
            "grid_area": null,
            "grid_auto_columns": null,
            "grid_auto_flow": null,
            "grid_auto_rows": null,
            "grid_column": null,
            "grid_gap": null,
            "grid_row": null,
            "grid_template_areas": null,
            "grid_template_columns": null,
            "grid_template_rows": null,
            "height": null,
            "justify_content": null,
            "justify_items": null,
            "left": null,
            "margin": null,
            "max_height": null,
            "max_width": null,
            "min_height": null,
            "min_width": null,
            "object_fit": null,
            "object_position": null,
            "order": null,
            "overflow": null,
            "overflow_x": null,
            "overflow_y": null,
            "padding": null,
            "right": null,
            "top": null,
            "visibility": null,
            "width": null
          }
        },
        "90d37ea0682b42ccab57bd76c721b1a2": {
          "model_module": "@jupyter-widgets/controls",
          "model_module_version": "1.5.0",
          "model_name": "ButtonStyleModel",
          "state": {
            "_model_module": "@jupyter-widgets/controls",
            "_model_module_version": "1.5.0",
            "_model_name": "ButtonStyleModel",
            "_view_count": null,
            "_view_module": "@jupyter-widgets/base",
            "_view_module_version": "1.2.0",
            "_view_name": "StyleView",
            "button_color": null,
            "font_weight": ""
          }
        },
        "97665c6c137d41a7adcb0aee5f0dfd10": {
          "model_module": "@jupyter-widgets/controls",
          "model_module_version": "1.5.0",
          "model_name": "DescriptionStyleModel",
          "state": {
            "_model_module": "@jupyter-widgets/controls",
            "_model_module_version": "1.5.0",
            "_model_name": "DescriptionStyleModel",
            "_view_count": null,
            "_view_module": "@jupyter-widgets/base",
            "_view_module_version": "1.2.0",
            "_view_name": "StyleView",
            "description_width": ""
          }
        },
        "9b14f542cbbc49efbd0cc1e1b7dc9ad2": {
          "model_module": "@jupyter-widgets/controls",
          "model_module_version": "1.5.0",
          "model_name": "DatePickerModel",
          "state": {
            "_dom_classes": [],
            "_model_module": "@jupyter-widgets/controls",
            "_model_module_version": "1.5.0",
            "_model_name": "DatePickerModel",
            "_view_count": null,
            "_view_module": "@jupyter-widgets/controls",
            "_view_module_version": "1.5.0",
            "_view_name": "DatePickerView",
            "description": "End Date:",
            "description_tooltip": null,
            "disabled": false,
            "layout": "IPY_MODEL_031535ec81eb4863b6d0d4a2c00a0431",
            "style": "IPY_MODEL_530e4106e7684e479c4496e5d0e87f01",
            "value": {
              "date": 10,
              "month": 11,
              "year": 2024
            }
          }
        },
        "9f00736366b34115a95316e8fdba43f8": {
          "model_module": "@jupyter-widgets/base",
          "model_module_version": "1.2.0",
          "model_name": "LayoutModel",
          "state": {
            "_model_module": "@jupyter-widgets/base",
            "_model_module_version": "1.2.0",
            "_model_name": "LayoutModel",
            "_view_count": null,
            "_view_module": "@jupyter-widgets/base",
            "_view_module_version": "1.2.0",
            "_view_name": "LayoutView",
            "align_content": null,
            "align_items": null,
            "align_self": null,
            "border": null,
            "bottom": null,
            "display": null,
            "flex": null,
            "flex_flow": null,
            "grid_area": null,
            "grid_auto_columns": null,
            "grid_auto_flow": null,
            "grid_auto_rows": null,
            "grid_column": null,
            "grid_gap": null,
            "grid_row": null,
            "grid_template_areas": null,
            "grid_template_columns": null,
            "grid_template_rows": null,
            "height": null,
            "justify_content": null,
            "justify_items": null,
            "left": null,
            "margin": null,
            "max_height": null,
            "max_width": null,
            "min_height": null,
            "min_width": null,
            "object_fit": null,
            "object_position": null,
            "order": null,
            "overflow": null,
            "overflow_x": null,
            "overflow_y": null,
            "padding": null,
            "right": null,
            "top": null,
            "visibility": null,
            "width": null
          }
        },
        "a061c788da564b758bf9735b4035a9a5": {
          "model_module": "@jupyter-widgets/base",
          "model_module_version": "1.2.0",
          "model_name": "LayoutModel",
          "state": {
            "_model_module": "@jupyter-widgets/base",
            "_model_module_version": "1.2.0",
            "_model_name": "LayoutModel",
            "_view_count": null,
            "_view_module": "@jupyter-widgets/base",
            "_view_module_version": "1.2.0",
            "_view_name": "LayoutView",
            "align_content": null,
            "align_items": null,
            "align_self": null,
            "border": null,
            "bottom": null,
            "display": null,
            "flex": null,
            "flex_flow": null,
            "grid_area": null,
            "grid_auto_columns": null,
            "grid_auto_flow": null,
            "grid_auto_rows": null,
            "grid_column": null,
            "grid_gap": null,
            "grid_row": null,
            "grid_template_areas": null,
            "grid_template_columns": null,
            "grid_template_rows": null,
            "height": null,
            "justify_content": null,
            "justify_items": null,
            "left": null,
            "margin": null,
            "max_height": null,
            "max_width": null,
            "min_height": null,
            "min_width": null,
            "object_fit": null,
            "object_position": null,
            "order": null,
            "overflow": null,
            "overflow_x": null,
            "overflow_y": null,
            "padding": null,
            "right": null,
            "top": null,
            "visibility": null,
            "width": null
          }
        },
        "a0a897c233e44b538e496b811819e8b4": {
          "model_module": "@jupyter-widgets/base",
          "model_module_version": "1.2.0",
          "model_name": "LayoutModel",
          "state": {
            "_model_module": "@jupyter-widgets/base",
            "_model_module_version": "1.2.0",
            "_model_name": "LayoutModel",
            "_view_count": null,
            "_view_module": "@jupyter-widgets/base",
            "_view_module_version": "1.2.0",
            "_view_name": "LayoutView",
            "align_content": null,
            "align_items": null,
            "align_self": null,
            "border": null,
            "bottom": null,
            "display": null,
            "flex": null,
            "flex_flow": null,
            "grid_area": null,
            "grid_auto_columns": null,
            "grid_auto_flow": null,
            "grid_auto_rows": null,
            "grid_column": null,
            "grid_gap": null,
            "grid_row": null,
            "grid_template_areas": null,
            "grid_template_columns": null,
            "grid_template_rows": null,
            "height": null,
            "justify_content": null,
            "justify_items": null,
            "left": null,
            "margin": null,
            "max_height": null,
            "max_width": null,
            "min_height": null,
            "min_width": null,
            "object_fit": null,
            "object_position": null,
            "order": null,
            "overflow": null,
            "overflow_x": null,
            "overflow_y": null,
            "padding": null,
            "right": null,
            "top": null,
            "visibility": null,
            "width": null
          }
        },
        "a1df7ecde9534c39a1c12fbe8170a0eb": {
          "model_module": "@jupyter-widgets/controls",
          "model_module_version": "1.5.0",
          "model_name": "DescriptionStyleModel",
          "state": {
            "_model_module": "@jupyter-widgets/controls",
            "_model_module_version": "1.5.0",
            "_model_name": "DescriptionStyleModel",
            "_view_count": null,
            "_view_module": "@jupyter-widgets/base",
            "_view_module_version": "1.2.0",
            "_view_name": "StyleView",
            "description_width": ""
          }
        },
        "a994d635b38a4f05b645fad5a46779ff": {
          "model_module": "@jupyter-widgets/controls",
          "model_module_version": "1.5.0",
          "model_name": "SliderStyleModel",
          "state": {
            "_model_module": "@jupyter-widgets/controls",
            "_model_module_version": "1.5.0",
            "_model_name": "SliderStyleModel",
            "_view_count": null,
            "_view_module": "@jupyter-widgets/base",
            "_view_module_version": "1.2.0",
            "_view_name": "StyleView",
            "description_width": "initial",
            "handle_color": null
          }
        },
        "b06aa478809c489c96b30fe0b1473f42": {
          "model_module": "@jupyter-widgets/controls",
          "model_module_version": "1.5.0",
          "model_name": "DescriptionStyleModel",
          "state": {
            "_model_module": "@jupyter-widgets/controls",
            "_model_module_version": "1.5.0",
            "_model_name": "DescriptionStyleModel",
            "_view_count": null,
            "_view_module": "@jupyter-widgets/base",
            "_view_module_version": "1.2.0",
            "_view_name": "StyleView",
            "description_width": "initial"
          }
        },
        "b72b59b6b3574130825e100a077502a5": {
          "model_module": "@jupyter-widgets/controls",
          "model_module_version": "1.5.0",
          "model_name": "DropdownModel",
          "state": {
            "_dom_classes": [],
            "_model_module": "@jupyter-widgets/controls",
            "_model_module_version": "1.5.0",
            "_model_name": "DropdownModel",
            "_options_labels": [
              "Tech",
              "Automobile",
              "Retail",
              "Healthcare",
              "Energy"
            ],
            "_view_count": null,
            "_view_module": "@jupyter-widgets/controls",
            "_view_module_version": "1.5.0",
            "_view_name": "DropdownView",
            "description": "Industry:",
            "description_tooltip": null,
            "disabled": false,
            "index": 0,
            "layout": "IPY_MODEL_2b246a8ef5cf4fe2a9d04e92926df024",
            "style": "IPY_MODEL_0324e932f88841849f55dd6341e25184"
          }
        },
        "b7a6a5faf98146b5adc56ca9dc9c0f72": {
          "model_module": "@jupyter-widgets/base",
          "model_module_version": "1.2.0",
          "model_name": "LayoutModel",
          "state": {
            "_model_module": "@jupyter-widgets/base",
            "_model_module_version": "1.2.0",
            "_model_name": "LayoutModel",
            "_view_count": null,
            "_view_module": "@jupyter-widgets/base",
            "_view_module_version": "1.2.0",
            "_view_name": "LayoutView",
            "align_content": null,
            "align_items": null,
            "align_self": null,
            "border": null,
            "bottom": null,
            "display": null,
            "flex": null,
            "flex_flow": null,
            "grid_area": null,
            "grid_auto_columns": null,
            "grid_auto_flow": null,
            "grid_auto_rows": null,
            "grid_column": null,
            "grid_gap": null,
            "grid_row": null,
            "grid_template_areas": null,
            "grid_template_columns": null,
            "grid_template_rows": null,
            "height": null,
            "justify_content": null,
            "justify_items": null,
            "left": null,
            "margin": null,
            "max_height": null,
            "max_width": null,
            "min_height": null,
            "min_width": null,
            "object_fit": null,
            "object_position": null,
            "order": null,
            "overflow": null,
            "overflow_x": null,
            "overflow_y": null,
            "padding": null,
            "right": null,
            "top": null,
            "visibility": null,
            "width": null
          }
        },
        "b82c4b06390a4ae1b50dee205796cf9b": {
          "model_module": "@jupyter-widgets/output",
          "model_module_version": "1.0.0",
          "model_name": "OutputModel",
          "state": {
            "_dom_classes": [],
            "_model_module": "@jupyter-widgets/output",
            "_model_module_version": "1.0.0",
            "_model_name": "OutputModel",
            "_view_count": null,
            "_view_module": "@jupyter-widgets/output",
            "_view_module_version": "1.0.0",
            "_view_name": "OutputView",
            "layout": "IPY_MODEL_4040a47e923f4ffa820dd5cccd0ff24b",
            "msg_id": "",
            "outputs": [
              {
                "name": "stderr",
                "output_type": "stream",
                "text": [
                  "\r[*********************100%***********************]  1 of 1 completed"
                ]
              },
              {
                "name": "stderr",
                "output_type": "stream",
                "text": [
                  "\n",
                  "/usr/local/lib/python3.10/dist-packages/keras/src/layers/rnn/rnn.py:204: UserWarning: Do not pass an `input_shape`/`input_dim` argument to a layer. When using Sequential models, prefer using an `Input(shape)` object as the first layer in the model instead.\n",
                  "  super().__init__(**kwargs)\n"
                ]
              },
              {
                "name": "stdout",
                "output_type": "stream",
                "text": [
                  "\r\u001b[1m 1/14\u001b[0m \u001b[32m━\u001b[0m\u001b[37m━━━━━━━━━━━━━━━━━━━\u001b[0m \u001b[1m3s\u001b[0m 297ms/step"
                ]
              },
              {
                "name": "stdout",
                "output_type": "stream",
                "text": [
                  "\b\b\b\b\b\b\b\b\b\b\b\b\b\b\b\b\b\b\b\b\b\b\b\b\b\b\b\b\b\b\b\b\b\b\b\b\b\b\b\b\r\u001b[1m 5/14\u001b[0m \u001b[32m━━━━━━━\u001b[0m\u001b[37m━━━━━━━━━━━━━\u001b[0m \u001b[1m0s\u001b[0m 14ms/step "
                ]
              },
              {
                "name": "stdout",
                "output_type": "stream",
                "text": [
                  "\b\b\b\b\b\b\b\b\b\b\b\b\b\b\b\b\b\b\b\b\b\b\b\b\b\b\b\b\b\b\b\b\b\b\b\b\b\b\b\r\u001b[1m 9/14\u001b[0m \u001b[32m━━━━━━━━━━━━\u001b[0m\u001b[37m━━━━━━━━\u001b[0m \u001b[1m0s\u001b[0m 14ms/step"
                ]
              },
              {
                "name": "stdout",
                "output_type": "stream",
                "text": [
                  "\b\b\b\b\b\b\b\b\b\b\b\b\b\b\b\b\b\b\b\b\b\b\b\b\b\b\b\b\b\b\b\b\b\b\b\b\b\b\b\r\u001b[1m13/14\u001b[0m \u001b[32m━━━━━━━━━━━━━━━━━━\u001b[0m\u001b[37m━━\u001b[0m \u001b[1m0s\u001b[0m 14ms/step"
                ]
              },
              {
                "name": "stdout",
                "output_type": "stream",
                "text": [
                  "\b\b\b\b\b\b\b\b\b\b\b\b\b\b\b\b\b\b\b\b\b\b\b\b\b\b\b\b\b\b\b\b\b\b\b\b\b\b\b\r\u001b[1m14/14\u001b[0m \u001b[32m━━━━━━━━━━━━━━━━━━━━\u001b[0m\u001b[37m\u001b[0m \u001b[1m0s\u001b[0m 37ms/step"
                ]
              },
              {
                "name": "stdout",
                "output_type": "stream",
                "text": [
                  "\b\b\b\b\b\b\b\b\b\b\b\b\b\b\b\b\b\b\b\b\b\b\b\b\b\b\b\b\b\b\b\b\b\b\b\b\b\b\b\r\u001b[1m14/14\u001b[0m \u001b[32m━━━━━━━━━━━━━━━━━━━━\u001b[0m\u001b[37m\u001b[0m \u001b[1m1s\u001b[0m 37ms/step\n"
                ]
              },
              {
                "name": "stdout",
                "output_type": "stream",
                "text": [
                  "\r\u001b[1m1/1\u001b[0m \u001b[32m━━━━━━━━━━━━━━━━━━━━\u001b[0m\u001b[37m\u001b[0m \u001b[1m0s\u001b[0m 24ms/step"
                ]
              },
              {
                "name": "stdout",
                "output_type": "stream",
                "text": [
                  "\b\b\b\b\b\b\b\b\b\b\b\b\b\b\b\b\b\b\b\b\b\b\b\b\b\b\b\b\b\b\b\b\b\b\b\b\b\r\u001b[1m1/1\u001b[0m \u001b[32m━━━━━━━━━━━━━━━━━━━━\u001b[0m\u001b[37m\u001b[0m \u001b[1m0s\u001b[0m 25ms/step\n"
                ]
              },
              {
                "name": "stdout",
                "output_type": "stream",
                "text": [
                  "\r\u001b[1m1/1\u001b[0m \u001b[32m━━━━━━━━━━━━━━━━━━━━\u001b[0m\u001b[37m\u001b[0m \u001b[1m0s\u001b[0m 22ms/step"
                ]
              },
              {
                "name": "stdout",
                "output_type": "stream",
                "text": [
                  "\b\b\b\b\b\b\b\b\b\b\b\b\b\b\b\b\b\b\b\b\b\b\b\b\b\b\b\b\b\b\b\b\b\b\b\b\b\r\u001b[1m1/1\u001b[0m \u001b[32m━━━━━━━━━━━━━━━━━━━━\u001b[0m\u001b[37m\u001b[0m \u001b[1m0s\u001b[0m 24ms/step\n"
                ]
              },
              {
                "name": "stdout",
                "output_type": "stream",
                "text": [
                  "\r\u001b[1m1/1\u001b[0m \u001b[32m━━━━━━━━━━━━━━━━━━━━\u001b[0m\u001b[37m\u001b[0m \u001b[1m0s\u001b[0m 24ms/step"
                ]
              },
              {
                "name": "stdout",
                "output_type": "stream",
                "text": [
                  "\b\b\b\b\b\b\b\b\b\b\b\b\b\b\b\b\b\b\b\b\b\b\b\b\b\b\b\b\b\b\b\b\b\b\b\b\b\r\u001b[1m1/1\u001b[0m \u001b[32m━━━━━━━━━━━━━━━━━━━━\u001b[0m\u001b[37m\u001b[0m \u001b[1m0s\u001b[0m 25ms/step\n"
                ]
              },
              {
                "name": "stdout",
                "output_type": "stream",
                "text": [
                  "\r\u001b[1m1/1\u001b[0m \u001b[32m━━━━━━━━━━━━━━━━━━━━\u001b[0m\u001b[37m\u001b[0m \u001b[1m0s\u001b[0m 24ms/step"
                ]
              },
              {
                "name": "stdout",
                "output_type": "stream",
                "text": [
                  "\b\b\b\b\b\b\b\b\b\b\b\b\b\b\b\b\b\b\b\b\b\b\b\b\b\b\b\b\b\b\b\b\b\b\b\b\b\r\u001b[1m1/1\u001b[0m \u001b[32m━━━━━━━━━━━━━━━━━━━━\u001b[0m\u001b[37m\u001b[0m \u001b[1m0s\u001b[0m 26ms/step\n"
                ]
              },
              {
                "name": "stdout",
                "output_type": "stream",
                "text": [
                  "\r\u001b[1m1/1\u001b[0m \u001b[32m━━━━━━━━━━━━━━━━━━━━\u001b[0m\u001b[37m\u001b[0m \u001b[1m0s\u001b[0m 35ms/step"
                ]
              },
              {
                "name": "stdout",
                "output_type": "stream",
                "text": [
                  "\b\b\b\b\b\b\b\b\b\b\b\b\b\b\b\b\b\b\b\b\b\b\b\b\b\b\b\b\b\b\b\b\b\b\b\b\b\r\u001b[1m1/1\u001b[0m \u001b[32m━━━━━━━━━━━━━━━━━━━━\u001b[0m\u001b[37m\u001b[0m \u001b[1m0s\u001b[0m 37ms/step\n"
                ]
              },
              {
                "name": "stdout",
                "output_type": "stream",
                "text": [
                  "\r\u001b[1m1/1\u001b[0m \u001b[32m━━━━━━━━━━━━━━━━━━━━\u001b[0m\u001b[37m\u001b[0m \u001b[1m0s\u001b[0m 22ms/step"
                ]
              },
              {
                "name": "stdout",
                "output_type": "stream",
                "text": [
                  "\b\b\b\b\b\b\b\b\b\b\b\b\b\b\b\b\b\b\b\b\b\b\b\b\b\b\b\b\b\b\b\b\b\b\b\b\b\r\u001b[1m1/1\u001b[0m \u001b[32m━━━━━━━━━━━━━━━━━━━━\u001b[0m\u001b[37m\u001b[0m \u001b[1m0s\u001b[0m 23ms/step\n"
                ]
              },
              {
                "name": "stdout",
                "output_type": "stream",
                "text": [
                  "\r\u001b[1m1/1\u001b[0m \u001b[32m━━━━━━━━━━━━━━━━━━━━\u001b[0m\u001b[37m\u001b[0m \u001b[1m0s\u001b[0m 34ms/step"
                ]
              },
              {
                "name": "stdout",
                "output_type": "stream",
                "text": [
                  "\b\b\b\b\b\b\b\b\b\b\b\b\b\b\b\b\b\b\b\b\b\b\b\b\b\b\b\b\b\b\b\b\b\b\b\b\b\r\u001b[1m1/1\u001b[0m \u001b[32m━━━━━━━━━━━━━━━━━━━━\u001b[0m\u001b[37m\u001b[0m \u001b[1m0s\u001b[0m 36ms/step\n"
                ]
              },
              {
                "name": "stdout",
                "output_type": "stream",
                "text": [
                  "\r\u001b[1m1/1\u001b[0m \u001b[32m━━━━━━━━━━━━━━━━━━━━\u001b[0m\u001b[37m\u001b[0m \u001b[1m0s\u001b[0m 24ms/step"
                ]
              },
              {
                "name": "stdout",
                "output_type": "stream",
                "text": [
                  "\b\b\b\b\b\b\b\b\b\b\b\b\b\b\b\b\b\b\b\b\b\b\b\b\b\b\b\b\b\b\b\b\b\b\b\b\b\r\u001b[1m1/1\u001b[0m \u001b[32m━━━━━━━━━━━━━━━━━━━━\u001b[0m\u001b[37m\u001b[0m \u001b[1m0s\u001b[0m 26ms/step\n"
                ]
              },
              {
                "name": "stdout",
                "output_type": "stream",
                "text": [
                  "\r\u001b[1m1/1\u001b[0m \u001b[32m━━━━━━━━━━━━━━━━━━━━\u001b[0m\u001b[37m\u001b[0m \u001b[1m0s\u001b[0m 24ms/step"
                ]
              },
              {
                "name": "stdout",
                "output_type": "stream",
                "text": [
                  "\b\b\b\b\b\b\b\b\b\b\b\b\b\b\b\b\b\b\b\b\b\b\b\b\b\b\b\b\b\b\b\b\b\b\b\b\b\r\u001b[1m1/1\u001b[0m \u001b[32m━━━━━━━━━━━━━━━━━━━━\u001b[0m\u001b[37m\u001b[0m \u001b[1m0s\u001b[0m 25ms/step\n"
                ]
              },
              {
                "name": "stdout",
                "output_type": "stream",
                "text": [
                  "\r\u001b[1m1/1\u001b[0m \u001b[32m━━━━━━━━━━━━━━━━━━━━\u001b[0m\u001b[37m\u001b[0m \u001b[1m0s\u001b[0m 23ms/step"
                ]
              },
              {
                "name": "stdout",
                "output_type": "stream",
                "text": [
                  "\b\b\b\b\b\b\b\b\b\b\b\b\b\b\b\b\b\b\b\b\b\b\b\b\b\b\b\b\b\b\b\b\b\b\b\b\b\r\u001b[1m1/1\u001b[0m \u001b[32m━━━━━━━━━━━━━━━━━━━━\u001b[0m\u001b[37m\u001b[0m \u001b[1m0s\u001b[0m 24ms/step\n"
                ]
              },
              {
                "name": "stdout",
                "output_type": "stream",
                "text": [
                  "\r\u001b[1m1/1\u001b[0m \u001b[32m━━━━━━━━━━━━━━━━━━━━\u001b[0m\u001b[37m\u001b[0m \u001b[1m0s\u001b[0m 23ms/step"
                ]
              },
              {
                "name": "stdout",
                "output_type": "stream",
                "text": [
                  "\b\b\b\b\b\b\b\b\b\b\b\b\b\b\b\b\b\b\b\b\b\b\b\b\b\b\b\b\b\b\b\b\b\b\b\b\b\r\u001b[1m1/1\u001b[0m \u001b[32m━━━━━━━━━━━━━━━━━━━━\u001b[0m\u001b[37m\u001b[0m \u001b[1m0s\u001b[0m 26ms/step\n"
                ]
              },
              {
                "name": "stdout",
                "output_type": "stream",
                "text": [
                  "\r\u001b[1m1/1\u001b[0m \u001b[32m━━━━━━━━━━━━━━━━━━━━\u001b[0m\u001b[37m\u001b[0m \u001b[1m0s\u001b[0m 24ms/step"
                ]
              },
              {
                "name": "stdout",
                "output_type": "stream",
                "text": [
                  "\b\b\b\b\b\b\b\b\b\b\b\b\b\b\b\b\b\b\b\b\b\b\b\b\b\b\b\b\b\b\b\b\b\b\b\b\b\r\u001b[1m1/1\u001b[0m \u001b[32m━━━━━━━━━━━━━━━━━━━━\u001b[0m\u001b[37m\u001b[0m \u001b[1m0s\u001b[0m 25ms/step\n"
                ]
              },
              {
                "name": "stdout",
                "output_type": "stream",
                "text": [
                  "\r\u001b[1m1/1\u001b[0m \u001b[32m━━━━━━━━━━━━━━━━━━━━\u001b[0m\u001b[37m\u001b[0m \u001b[1m0s\u001b[0m 26ms/step"
                ]
              },
              {
                "name": "stdout",
                "output_type": "stream",
                "text": [
                  "\b\b\b\b\b\b\b\b\b\b\b\b\b\b\b\b\b\b\b\b\b\b\b\b\b\b\b\b\b\b\b\b\b\b\b\b\b\r\u001b[1m1/1\u001b[0m \u001b[32m━━━━━━━━━━━━━━━━━━━━\u001b[0m\u001b[37m\u001b[0m \u001b[1m0s\u001b[0m 28ms/step\n"
                ]
              },
              {
                "name": "stdout",
                "output_type": "stream",
                "text": [
                  "\r\u001b[1m1/1\u001b[0m \u001b[32m━━━━━━━━━━━━━━━━━━━━\u001b[0m\u001b[37m\u001b[0m \u001b[1m0s\u001b[0m 29ms/step"
                ]
              },
              {
                "name": "stdout",
                "output_type": "stream",
                "text": [
                  "\b\b\b\b\b\b\b\b\b\b\b\b\b\b\b\b\b\b\b\b\b\b\b\b\b\b\b\b\b\b\b\b\b\b\b\b\b\r\u001b[1m1/1\u001b[0m \u001b[32m━━━━━━━━━━━━━━━━━━━━\u001b[0m\u001b[37m\u001b[0m \u001b[1m0s\u001b[0m 31ms/step\n"
                ]
              },
              {
                "name": "stdout",
                "output_type": "stream",
                "text": [
                  "\r\u001b[1m1/1\u001b[0m \u001b[32m━━━━━━━━━━━━━━━━━━━━\u001b[0m\u001b[37m\u001b[0m \u001b[1m0s\u001b[0m 23ms/step"
                ]
              },
              {
                "name": "stdout",
                "output_type": "stream",
                "text": [
                  "\b\b\b\b\b\b\b\b\b\b\b\b\b\b\b\b\b\b\b\b\b\b\b\b\b\b\b\b\b\b\b\b\b\b\b\b\b\r\u001b[1m1/1\u001b[0m \u001b[32m━━━━━━━━━━━━━━━━━━━━\u001b[0m\u001b[37m\u001b[0m \u001b[1m0s\u001b[0m 26ms/step\n"
                ]
              },
              {
                "name": "stdout",
                "output_type": "stream",
                "text": [
                  "\r\u001b[1m1/1\u001b[0m \u001b[32m━━━━━━━━━━━━━━━━━━━━\u001b[0m\u001b[37m\u001b[0m \u001b[1m0s\u001b[0m 26ms/step"
                ]
              },
              {
                "name": "stdout",
                "output_type": "stream",
                "text": [
                  "\b\b\b\b\b\b\b\b\b\b\b\b\b\b\b\b\b\b\b\b\b\b\b\b\b\b\b\b\b\b\b\b\b\b\b\b\b\r\u001b[1m1/1\u001b[0m \u001b[32m━━━━━━━━━━━━━━━━━━━━\u001b[0m\u001b[37m\u001b[0m \u001b[1m0s\u001b[0m 27ms/step\n"
                ]
              },
              {
                "name": "stdout",
                "output_type": "stream",
                "text": [
                  "\r\u001b[1m1/1\u001b[0m \u001b[32m━━━━━━━━━━━━━━━━━━━━\u001b[0m\u001b[37m\u001b[0m \u001b[1m0s\u001b[0m 23ms/step"
                ]
              },
              {
                "name": "stdout",
                "output_type": "stream",
                "text": [
                  "\b\b\b\b\b\b\b\b\b\b\b\b\b\b\b\b\b\b\b\b\b\b\b\b\b\b\b\b\b\b\b\b\b\b\b\b\b\r\u001b[1m1/1\u001b[0m \u001b[32m━━━━━━━━━━━━━━━━━━━━\u001b[0m\u001b[37m\u001b[0m \u001b[1m0s\u001b[0m 26ms/step\n"
                ]
              },
              {
                "name": "stdout",
                "output_type": "stream",
                "text": [
                  "\r\u001b[1m1/1\u001b[0m \u001b[32m━━━━━━━━━━━━━━━━━━━━\u001b[0m\u001b[37m\u001b[0m \u001b[1m0s\u001b[0m 23ms/step"
                ]
              },
              {
                "name": "stdout",
                "output_type": "stream",
                "text": [
                  "\b\b\b\b\b\b\b\b\b\b\b\b\b\b\b\b\b\b\b\b\b\b\b\b\b\b\b\b\b\b\b\b\b\b\b\b\b\r\u001b[1m1/1\u001b[0m \u001b[32m━━━━━━━━━━━━━━━━━━━━\u001b[0m\u001b[37m\u001b[0m \u001b[1m0s\u001b[0m 25ms/step\n"
                ]
              },
              {
                "name": "stdout",
                "output_type": "stream",
                "text": [
                  "\r\u001b[1m1/1\u001b[0m \u001b[32m━━━━━━━━━━━━━━━━━━━━\u001b[0m\u001b[37m\u001b[0m \u001b[1m0s\u001b[0m 30ms/step"
                ]
              },
              {
                "name": "stdout",
                "output_type": "stream",
                "text": [
                  "\b\b\b\b\b\b\b\b\b\b\b\b\b\b\b\b\b\b\b\b\b\b\b\b\b\b\b\b\b\b\b\b\b\b\b\b\b\r\u001b[1m1/1\u001b[0m \u001b[32m━━━━━━━━━━━━━━━━━━━━\u001b[0m\u001b[37m\u001b[0m \u001b[1m0s\u001b[0m 33ms/step\n"
                ]
              },
              {
                "name": "stdout",
                "output_type": "stream",
                "text": [
                  "\r\u001b[1m1/1\u001b[0m \u001b[32m━━━━━━━━━━━━━━━━━━━━\u001b[0m\u001b[37m\u001b[0m \u001b[1m0s\u001b[0m 28ms/step"
                ]
              },
              {
                "name": "stdout",
                "output_type": "stream",
                "text": [
                  "\b\b\b\b\b\b\b\b\b\b\b\b\b\b\b\b\b\b\b\b\b\b\b\b\b\b\b\b\b\b\b\b\b\b\b\b\b\r\u001b[1m1/1\u001b[0m \u001b[32m━━━━━━━━━━━━━━━━━━━━\u001b[0m\u001b[37m\u001b[0m \u001b[1m0s\u001b[0m 32ms/step\n"
                ]
              },
              {
                "name": "stdout",
                "output_type": "stream",
                "text": [
                  "\r\u001b[1m1/1\u001b[0m \u001b[32m━━━━━━━━━━━━━━━━━━━━\u001b[0m\u001b[37m\u001b[0m \u001b[1m0s\u001b[0m 27ms/step"
                ]
              },
              {
                "name": "stdout",
                "output_type": "stream",
                "text": [
                  "\b\b\b\b\b\b\b\b\b\b\b\b\b\b\b\b\b\b\b\b\b\b\b\b\b\b\b\b\b\b\b\b\b\b\b\b\b\r\u001b[1m1/1\u001b[0m \u001b[32m━━━━━━━━━━━━━━━━━━━━\u001b[0m\u001b[37m\u001b[0m \u001b[1m0s\u001b[0m 29ms/step\n"
                ]
              },
              {
                "name": "stdout",
                "output_type": "stream",
                "text": [
                  "\r\u001b[1m1/1\u001b[0m \u001b[32m━━━━━━━━━━━━━━━━━━━━\u001b[0m\u001b[37m\u001b[0m \u001b[1m0s\u001b[0m 23ms/step"
                ]
              },
              {
                "name": "stdout",
                "output_type": "stream",
                "text": [
                  "\b\b\b\b\b\b\b\b\b\b\b\b\b\b\b\b\b\b\b\b\b\b\b\b\b\b\b\b\b\b\b\b\b\b\b\b\b\r\u001b[1m1/1\u001b[0m \u001b[32m━━━━━━━━━━━━━━━━━━━━\u001b[0m\u001b[37m\u001b[0m \u001b[1m0s\u001b[0m 26ms/step\n"
                ]
              },
              {
                "name": "stdout",
                "output_type": "stream",
                "text": [
                  "\r\u001b[1m1/1\u001b[0m \u001b[32m━━━━━━━━━━━━━━━━━━━━\u001b[0m\u001b[37m\u001b[0m \u001b[1m0s\u001b[0m 23ms/step"
                ]
              },
              {
                "name": "stdout",
                "output_type": "stream",
                "text": [
                  "\b\b\b\b\b\b\b\b\b\b\b\b\b\b\b\b\b\b\b\b\b\b\b\b\b\b\b\b\b\b\b\b\b\b\b\b\b\r\u001b[1m1/1\u001b[0m \u001b[32m━━━━━━━━━━━━━━━━━━━━\u001b[0m\u001b[37m\u001b[0m \u001b[1m0s\u001b[0m 25ms/step\n"
                ]
              },
              {
                "name": "stdout",
                "output_type": "stream",
                "text": [
                  "\r\u001b[1m1/1\u001b[0m \u001b[32m━━━━━━━━━━━━━━━━━━━━\u001b[0m\u001b[37m\u001b[0m \u001b[1m0s\u001b[0m 24ms/step"
                ]
              },
              {
                "name": "stdout",
                "output_type": "stream",
                "text": [
                  "\b\b\b\b\b\b\b\b\b\b\b\b\b\b\b\b\b\b\b\b\b\b\b\b\b\b\b\b\b\b\b\b\b\b\b\b\b\r\u001b[1m1/1\u001b[0m \u001b[32m━━━━━━━━━━━━━━━━━━━━\u001b[0m\u001b[37m\u001b[0m \u001b[1m0s\u001b[0m 27ms/step\n"
                ]
              },
              {
                "name": "stdout",
                "output_type": "stream",
                "text": [
                  "\r\u001b[1m1/1\u001b[0m \u001b[32m━━━━━━━━━━━━━━━━━━━━\u001b[0m\u001b[37m\u001b[0m \u001b[1m0s\u001b[0m 28ms/step"
                ]
              },
              {
                "name": "stdout",
                "output_type": "stream",
                "text": [
                  "\b\b\b\b\b\b\b\b\b\b\b\b\b\b\b\b\b\b\b\b\b\b\b\b\b\b\b\b\b\b\b\b\b\b\b\b\b\r\u001b[1m1/1\u001b[0m \u001b[32m━━━━━━━━━━━━━━━━━━━━\u001b[0m\u001b[37m\u001b[0m \u001b[1m0s\u001b[0m 30ms/step\n"
                ]
              },
              {
                "name": "stdout",
                "output_type": "stream",
                "text": [
                  "\r\u001b[1m1/1\u001b[0m \u001b[32m━━━━━━━━━━━━━━━━━━━━\u001b[0m\u001b[37m\u001b[0m \u001b[1m0s\u001b[0m 24ms/step"
                ]
              },
              {
                "name": "stdout",
                "output_type": "stream",
                "text": [
                  "\b\b\b\b\b\b\b\b\b\b\b\b\b\b\b\b\b\b\b\b\b\b\b\b\b\b\b\b\b\b\b\b\b\b\b\b\b\r\u001b[1m1/1\u001b[0m \u001b[32m━━━━━━━━━━━━━━━━━━━━\u001b[0m\u001b[37m\u001b[0m \u001b[1m0s\u001b[0m 26ms/step\n"
                ]
              },
              {
                "name": "stdout",
                "output_type": "stream",
                "text": [
                  "\r\u001b[1m1/1\u001b[0m \u001b[32m━━━━━━━━━━━━━━━━━━━━\u001b[0m\u001b[37m\u001b[0m \u001b[1m0s\u001b[0m 25ms/step"
                ]
              },
              {
                "name": "stdout",
                "output_type": "stream",
                "text": [
                  "\b\b\b\b\b\b\b\b\b\b\b\b\b\b\b\b\b\b\b\b\b\b\b\b\b\b\b\b\b\b\b\b\b\b\b\b\b\r\u001b[1m1/1\u001b[0m \u001b[32m━━━━━━━━━━━━━━━━━━━━\u001b[0m\u001b[37m\u001b[0m \u001b[1m0s\u001b[0m 26ms/step\n"
                ]
              },
              {
                "name": "stdout",
                "output_type": "stream",
                "text": [
                  "\r\u001b[1m1/1\u001b[0m \u001b[32m━━━━━━━━━━━━━━━━━━━━\u001b[0m\u001b[37m\u001b[0m \u001b[1m0s\u001b[0m 30ms/step"
                ]
              },
              {
                "name": "stdout",
                "output_type": "stream",
                "text": [
                  "\b\b\b\b\b\b\b\b\b\b\b\b\b\b\b\b\b\b\b\b\b\b\b\b\b\b\b\b\b\b\b\b\b\b\b\b\b\r\u001b[1m1/1\u001b[0m \u001b[32m━━━━━━━━━━━━━━━━━━━━\u001b[0m\u001b[37m\u001b[0m \u001b[1m0s\u001b[0m 32ms/step\n"
                ]
              },
              {
                "name": "stdout",
                "output_type": "stream",
                "text": [
                  "\r\u001b[1m1/1\u001b[0m \u001b[32m━━━━━━━━━━━━━━━━━━━━\u001b[0m\u001b[37m\u001b[0m \u001b[1m0s\u001b[0m 27ms/step"
                ]
              },
              {
                "name": "stdout",
                "output_type": "stream",
                "text": [
                  "\b\b\b\b\b\b\b\b\b\b\b\b\b\b\b\b\b\b\b\b\b\b\b\b\b\b\b\b\b\b\b\b\b\b\b\b\b\r\u001b[1m1/1\u001b[0m \u001b[32m━━━━━━━━━━━━━━━━━━━━\u001b[0m\u001b[37m\u001b[0m \u001b[1m0s\u001b[0m 28ms/step\n"
                ]
              },
              {
                "name": "stdout",
                "output_type": "stream",
                "text": [
                  "\r\u001b[1m1/1\u001b[0m \u001b[32m━━━━━━━━━━━━━━━━━━━━\u001b[0m\u001b[37m\u001b[0m \u001b[1m0s\u001b[0m 34ms/step"
                ]
              },
              {
                "name": "stdout",
                "output_type": "stream",
                "text": [
                  "\b\b\b\b\b\b\b\b\b\b\b\b\b\b\b\b\b\b\b\b\b\b\b\b\b\b\b\b\b\b\b\b\b\b\b\b\b\r\u001b[1m1/1\u001b[0m \u001b[32m━━━━━━━━━━━━━━━━━━━━\u001b[0m\u001b[37m\u001b[0m \u001b[1m0s\u001b[0m 37ms/step\n"
                ]
              },
              {
                "data": {
                  "application/vnd.jupyter.widget-view+json": {
                    "model_id": "10ab201bf96f4ef89bd079eadf9781a8",
                    "version_major": 2,
                    "version_minor": 0
                  },
                  "text/plain": "HTML(value='<b>Mean Squared Error (MSE): 5198.34</b>')"
                },
                "metadata": {},
                "output_type": "display_data"
              },
              {
                "data": {
                  "application/vnd.jupyter.widget-view+json": {
                    "model_id": "793fc605e34d426daff92fae0f6ea7f6",
                    "version_major": 2,
                    "version_minor": 0
                  },
                  "text/plain": "HTML(value='<b>Mean Absolute Error (MAE): 68.57</b>')"
                },
                "metadata": {},
                "output_type": "display_data"
              },
              {
                "data": {
                  "image/png": "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\n",
                  "text/plain": "<Figure size 1200x600 with 1 Axes>"
                },
                "metadata": {},
                "output_type": "display_data"
              }
            ]
          }
        },
        "b8463db73e2646a8b9150261a099ef23": {
          "model_module": "@jupyter-widgets/controls",
          "model_module_version": "1.5.0",
          "model_name": "DatePickerModel",
          "state": {
            "_dom_classes": [],
            "_model_module": "@jupyter-widgets/controls",
            "_model_module_version": "1.5.0",
            "_model_name": "DatePickerModel",
            "_view_count": null,
            "_view_module": "@jupyter-widgets/controls",
            "_view_module_version": "1.5.0",
            "_view_name": "DatePickerView",
            "description": "Start Date:",
            "description_tooltip": null,
            "disabled": false,
            "layout": "IPY_MODEL_9f00736366b34115a95316e8fdba43f8",
            "style": "IPY_MODEL_24882038b85840029c74e7fe4768eb8d",
            "value": {
              "date": 1,
              "month": 0,
              "year": 2015
            }
          }
        },
        "b8d426e01db84a5e842b6fbc0af591b7": {
          "model_module": "@jupyter-widgets/controls",
          "model_module_version": "1.5.0",
          "model_name": "DescriptionStyleModel",
          "state": {
            "_model_module": "@jupyter-widgets/controls",
            "_model_module_version": "1.5.0",
            "_model_name": "DescriptionStyleModel",
            "_view_count": null,
            "_view_module": "@jupyter-widgets/base",
            "_view_module_version": "1.2.0",
            "_view_name": "StyleView",
            "description_width": ""
          }
        },
        "bca190cb6ff6420c8501fe302e51687e": {
          "model_module": "@jupyter-widgets/controls",
          "model_module_version": "1.5.0",
          "model_name": "DropdownModel",
          "state": {
            "_dom_classes": [],
            "_model_module": "@jupyter-widgets/controls",
            "_model_module_version": "1.5.0",
            "_model_name": "DropdownModel",
            "_options_labels": [
              "AAPL",
              "MSFT",
              "GOOG",
              "NVDA",
              "META"
            ],
            "_view_count": null,
            "_view_module": "@jupyter-widgets/controls",
            "_view_module_version": "1.5.0",
            "_view_name": "DropdownView",
            "description": "Stock:",
            "description_tooltip": null,
            "disabled": false,
            "index": 2,
            "layout": "IPY_MODEL_82aeb45a46e74d8b8354fbcbc51aa4bb",
            "style": "IPY_MODEL_04660921b2594be8a1b80855236b7341"
          }
        },
        "bde9b83f11f94535848582de9200e991": {
          "model_module": "@jupyter-widgets/controls",
          "model_module_version": "1.5.0",
          "model_name": "DescriptionStyleModel",
          "state": {
            "_model_module": "@jupyter-widgets/controls",
            "_model_module_version": "1.5.0",
            "_model_name": "DescriptionStyleModel",
            "_view_count": null,
            "_view_module": "@jupyter-widgets/base",
            "_view_module_version": "1.2.0",
            "_view_name": "StyleView",
            "description_width": "initial"
          }
        },
        "be32088eae7f457da4bbed0104c63d13": {
          "model_module": "@jupyter-widgets/base",
          "model_module_version": "1.2.0",
          "model_name": "LayoutModel",
          "state": {
            "_model_module": "@jupyter-widgets/base",
            "_model_module_version": "1.2.0",
            "_model_name": "LayoutModel",
            "_view_count": null,
            "_view_module": "@jupyter-widgets/base",
            "_view_module_version": "1.2.0",
            "_view_name": "LayoutView",
            "align_content": null,
            "align_items": null,
            "align_self": null,
            "border": null,
            "bottom": null,
            "display": null,
            "flex": null,
            "flex_flow": null,
            "grid_area": null,
            "grid_auto_columns": null,
            "grid_auto_flow": null,
            "grid_auto_rows": null,
            "grid_column": null,
            "grid_gap": null,
            "grid_row": null,
            "grid_template_areas": null,
            "grid_template_columns": null,
            "grid_template_rows": null,
            "height": null,
            "justify_content": null,
            "justify_items": null,
            "left": null,
            "margin": null,
            "max_height": null,
            "max_width": null,
            "min_height": null,
            "min_width": null,
            "object_fit": null,
            "object_position": null,
            "order": null,
            "overflow": null,
            "overflow_x": null,
            "overflow_y": null,
            "padding": null,
            "right": null,
            "top": null,
            "visibility": null,
            "width": null
          }
        },
        "bedbf6c3602d48179681bfc1e3c0768a": {
          "model_module": "@jupyter-widgets/controls",
          "model_module_version": "1.5.0",
          "model_name": "IntSliderModel",
          "state": {
            "_dom_classes": [],
            "_model_module": "@jupyter-widgets/controls",
            "_model_module_version": "1.5.0",
            "_model_name": "IntSliderModel",
            "_view_count": null,
            "_view_module": "@jupyter-widgets/controls",
            "_view_module_version": "1.5.0",
            "_view_name": "IntSliderView",
            "continuous_update": true,
            "description": "Forecast Days:",
            "description_tooltip": null,
            "disabled": false,
            "layout": "IPY_MODEL_9003c1811ec44578b9bbf469de60a12d",
            "max": 365,
            "min": 1,
            "orientation": "horizontal",
            "readout": true,
            "readout_format": "d",
            "step": 1,
            "style": "IPY_MODEL_a994d635b38a4f05b645fad5a46779ff",
            "value": 328
          }
        },
        "c3e636b40cd9458a89db77b315154336": {
          "model_module": "@jupyter-widgets/controls",
          "model_module_version": "1.5.0",
          "model_name": "HBoxModel",
          "state": {
            "_dom_classes": [],
            "_model_module": "@jupyter-widgets/controls",
            "_model_module_version": "1.5.0",
            "_model_name": "HBoxModel",
            "_view_count": null,
            "_view_module": "@jupyter-widgets/controls",
            "_view_module_version": "1.5.0",
            "_view_name": "HBoxView",
            "box_style": "",
            "children": [
              "IPY_MODEL_b8463db73e2646a8b9150261a099ef23",
              "IPY_MODEL_343f9e85349644d78aaf36701a597d84"
            ],
            "layout": "IPY_MODEL_75093dee665146419382155f407a063e"
          }
        },
        "c769307ca4814b7c8afbf04192c2b46e": {
          "model_module": "@jupyter-widgets/controls",
          "model_module_version": "1.5.0",
          "model_name": "DescriptionStyleModel",
          "state": {
            "_model_module": "@jupyter-widgets/controls",
            "_model_module_version": "1.5.0",
            "_model_name": "DescriptionStyleModel",
            "_view_count": null,
            "_view_module": "@jupyter-widgets/base",
            "_view_module_version": "1.2.0",
            "_view_name": "StyleView",
            "description_width": "initial"
          }
        },
        "c9206b77d69842d485472e6a0a3a5421": {
          "model_module": "@jupyter-widgets/controls",
          "model_module_version": "1.5.0",
          "model_name": "ButtonStyleModel",
          "state": {
            "_model_module": "@jupyter-widgets/controls",
            "_model_module_version": "1.5.0",
            "_model_name": "ButtonStyleModel",
            "_view_count": null,
            "_view_module": "@jupyter-widgets/base",
            "_view_module_version": "1.2.0",
            "_view_name": "StyleView",
            "button_color": null,
            "font_weight": ""
          }
        },
        "c96bfec5546e444683489c8373cc3182": {
          "model_module": "@jupyter-widgets/base",
          "model_module_version": "1.2.0",
          "model_name": "LayoutModel",
          "state": {
            "_model_module": "@jupyter-widgets/base",
            "_model_module_version": "1.2.0",
            "_model_name": "LayoutModel",
            "_view_count": null,
            "_view_module": "@jupyter-widgets/base",
            "_view_module_version": "1.2.0",
            "_view_name": "LayoutView",
            "align_content": null,
            "align_items": null,
            "align_self": null,
            "border": null,
            "bottom": null,
            "display": null,
            "flex": null,
            "flex_flow": null,
            "grid_area": null,
            "grid_auto_columns": null,
            "grid_auto_flow": null,
            "grid_auto_rows": null,
            "grid_column": null,
            "grid_gap": null,
            "grid_row": null,
            "grid_template_areas": null,
            "grid_template_columns": null,
            "grid_template_rows": null,
            "height": null,
            "justify_content": null,
            "justify_items": null,
            "left": null,
            "margin": null,
            "max_height": null,
            "max_width": null,
            "min_height": null,
            "min_width": null,
            "object_fit": null,
            "object_position": null,
            "order": null,
            "overflow": null,
            "overflow_x": null,
            "overflow_y": null,
            "padding": null,
            "right": null,
            "top": null,
            "visibility": null,
            "width": null
          }
        },
        "d013c6b99f1c42fda9e2a6281c2eaeb9": {
          "model_module": "@jupyter-widgets/base",
          "model_module_version": "1.2.0",
          "model_name": "LayoutModel",
          "state": {
            "_model_module": "@jupyter-widgets/base",
            "_model_module_version": "1.2.0",
            "_model_name": "LayoutModel",
            "_view_count": null,
            "_view_module": "@jupyter-widgets/base",
            "_view_module_version": "1.2.0",
            "_view_name": "LayoutView",
            "align_content": null,
            "align_items": null,
            "align_self": null,
            "border": null,
            "bottom": null,
            "display": null,
            "flex": null,
            "flex_flow": null,
            "grid_area": null,
            "grid_auto_columns": null,
            "grid_auto_flow": null,
            "grid_auto_rows": null,
            "grid_column": null,
            "grid_gap": null,
            "grid_row": null,
            "grid_template_areas": null,
            "grid_template_columns": null,
            "grid_template_rows": null,
            "height": null,
            "justify_content": null,
            "justify_items": null,
            "left": null,
            "margin": null,
            "max_height": null,
            "max_width": null,
            "min_height": null,
            "min_width": null,
            "object_fit": null,
            "object_position": null,
            "order": null,
            "overflow": null,
            "overflow_x": null,
            "overflow_y": null,
            "padding": null,
            "right": null,
            "top": null,
            "visibility": null,
            "width": null
          }
        },
        "d2a9cef4b3f64be1a210ec2a50bec73d": {
          "model_module": "@jupyter-widgets/base",
          "model_module_version": "1.2.0",
          "model_name": "LayoutModel",
          "state": {
            "_model_module": "@jupyter-widgets/base",
            "_model_module_version": "1.2.0",
            "_model_name": "LayoutModel",
            "_view_count": null,
            "_view_module": "@jupyter-widgets/base",
            "_view_module_version": "1.2.0",
            "_view_name": "LayoutView",
            "align_content": null,
            "align_items": null,
            "align_self": null,
            "border": null,
            "bottom": null,
            "display": null,
            "flex": null,
            "flex_flow": null,
            "grid_area": null,
            "grid_auto_columns": null,
            "grid_auto_flow": null,
            "grid_auto_rows": null,
            "grid_column": null,
            "grid_gap": null,
            "grid_row": null,
            "grid_template_areas": null,
            "grid_template_columns": null,
            "grid_template_rows": null,
            "height": null,
            "justify_content": null,
            "justify_items": null,
            "left": null,
            "margin": null,
            "max_height": null,
            "max_width": null,
            "min_height": null,
            "min_width": null,
            "object_fit": null,
            "object_position": null,
            "order": null,
            "overflow": null,
            "overflow_x": null,
            "overflow_y": null,
            "padding": null,
            "right": null,
            "top": null,
            "visibility": null,
            "width": null
          }
        },
        "d99f06f8cdc441e2bf337d054bf188ee": {
          "model_module": "@jupyter-widgets/controls",
          "model_module_version": "1.5.0",
          "model_name": "DescriptionStyleModel",
          "state": {
            "_model_module": "@jupyter-widgets/controls",
            "_model_module_version": "1.5.0",
            "_model_name": "DescriptionStyleModel",
            "_view_count": null,
            "_view_module": "@jupyter-widgets/base",
            "_view_module_version": "1.2.0",
            "_view_name": "StyleView",
            "description_width": ""
          }
        },
        "da4187f6838b471e9ca5d5bfd8e53926": {
          "model_module": "@jupyter-widgets/base",
          "model_module_version": "1.2.0",
          "model_name": "LayoutModel",
          "state": {
            "_model_module": "@jupyter-widgets/base",
            "_model_module_version": "1.2.0",
            "_model_name": "LayoutModel",
            "_view_count": null,
            "_view_module": "@jupyter-widgets/base",
            "_view_module_version": "1.2.0",
            "_view_name": "LayoutView",
            "align_content": null,
            "align_items": null,
            "align_self": null,
            "border": null,
            "bottom": null,
            "display": null,
            "flex": null,
            "flex_flow": null,
            "grid_area": null,
            "grid_auto_columns": null,
            "grid_auto_flow": null,
            "grid_auto_rows": null,
            "grid_column": null,
            "grid_gap": null,
            "grid_row": null,
            "grid_template_areas": null,
            "grid_template_columns": null,
            "grid_template_rows": null,
            "height": null,
            "justify_content": null,
            "justify_items": null,
            "left": null,
            "margin": null,
            "max_height": null,
            "max_width": null,
            "min_height": null,
            "min_width": null,
            "object_fit": null,
            "object_position": null,
            "order": null,
            "overflow": null,
            "overflow_x": null,
            "overflow_y": null,
            "padding": null,
            "right": null,
            "top": null,
            "visibility": null,
            "width": null
          }
        },
        "db02e23cc6844479abe281cb002014e8": {
          "model_module": "@jupyter-widgets/controls",
          "model_module_version": "1.5.0",
          "model_name": "VBoxModel",
          "state": {
            "_dom_classes": [],
            "_model_module": "@jupyter-widgets/controls",
            "_model_module_version": "1.5.0",
            "_model_name": "VBoxModel",
            "_view_count": null,
            "_view_module": "@jupyter-widgets/controls",
            "_view_module_version": "1.5.0",
            "_view_name": "VBoxView",
            "box_style": "",
            "children": [
              "IPY_MODEL_59bb22b1522d495897f351fd1a1e742c",
              "IPY_MODEL_bca190cb6ff6420c8501fe302e51687e",
              "IPY_MODEL_c3e636b40cd9458a89db77b315154336",
              "IPY_MODEL_bedbf6c3602d48179681bfc1e3c0768a",
              "IPY_MODEL_eefb41a7f4744afc88dafacc8289b954",
              "IPY_MODEL_2c89361397e6481084e57e1cb2175b47"
            ],
            "layout": "IPY_MODEL_53502c2e19884f6a8d017ba10cc3085f"
          }
        },
        "e32b8735c9894d199109ec24b22ecf77": {
          "model_module": "@jupyter-widgets/base",
          "model_module_version": "1.2.0",
          "model_name": "LayoutModel",
          "state": {
            "_model_module": "@jupyter-widgets/base",
            "_model_module_version": "1.2.0",
            "_model_name": "LayoutModel",
            "_view_count": null,
            "_view_module": "@jupyter-widgets/base",
            "_view_module_version": "1.2.0",
            "_view_name": "LayoutView",
            "align_content": null,
            "align_items": null,
            "align_self": null,
            "border": null,
            "bottom": null,
            "display": null,
            "flex": null,
            "flex_flow": null,
            "grid_area": null,
            "grid_auto_columns": null,
            "grid_auto_flow": null,
            "grid_auto_rows": null,
            "grid_column": null,
            "grid_gap": null,
            "grid_row": null,
            "grid_template_areas": null,
            "grid_template_columns": null,
            "grid_template_rows": null,
            "height": null,
            "justify_content": null,
            "justify_items": null,
            "left": null,
            "margin": null,
            "max_height": null,
            "max_width": null,
            "min_height": null,
            "min_width": null,
            "object_fit": null,
            "object_position": null,
            "order": null,
            "overflow": null,
            "overflow_x": null,
            "overflow_y": null,
            "padding": null,
            "right": null,
            "top": null,
            "visibility": null,
            "width": null
          }
        },
        "e76e74770d1740f6bed2be28176625ef": {
          "model_module": "@jupyter-widgets/base",
          "model_module_version": "1.2.0",
          "model_name": "LayoutModel",
          "state": {
            "_model_module": "@jupyter-widgets/base",
            "_model_module_version": "1.2.0",
            "_model_name": "LayoutModel",
            "_view_count": null,
            "_view_module": "@jupyter-widgets/base",
            "_view_module_version": "1.2.0",
            "_view_name": "LayoutView",
            "align_content": null,
            "align_items": null,
            "align_self": null,
            "border": null,
            "bottom": null,
            "display": null,
            "flex": null,
            "flex_flow": null,
            "grid_area": null,
            "grid_auto_columns": null,
            "grid_auto_flow": null,
            "grid_auto_rows": null,
            "grid_column": null,
            "grid_gap": null,
            "grid_row": null,
            "grid_template_areas": null,
            "grid_template_columns": null,
            "grid_template_rows": null,
            "height": null,
            "justify_content": null,
            "justify_items": null,
            "left": null,
            "margin": null,
            "max_height": null,
            "max_width": null,
            "min_height": null,
            "min_width": null,
            "object_fit": null,
            "object_position": null,
            "order": null,
            "overflow": null,
            "overflow_x": null,
            "overflow_y": null,
            "padding": null,
            "right": null,
            "top": null,
            "visibility": null,
            "width": null
          }
        },
        "e7beec9e052f4189a4700a8ccc41c14f": {
          "model_module": "@jupyter-widgets/controls",
          "model_module_version": "1.5.0",
          "model_name": "DescriptionStyleModel",
          "state": {
            "_model_module": "@jupyter-widgets/controls",
            "_model_module_version": "1.5.0",
            "_model_name": "DescriptionStyleModel",
            "_view_count": null,
            "_view_module": "@jupyter-widgets/base",
            "_view_module_version": "1.2.0",
            "_view_name": "StyleView",
            "description_width": "initial"
          }
        },
        "ea8f37d2adc34b27b37a140c8797d084": {
          "model_module": "@jupyter-widgets/controls",
          "model_module_version": "1.5.0",
          "model_name": "HTMLModel",
          "state": {
            "_dom_classes": [],
            "_model_module": "@jupyter-widgets/controls",
            "_model_module_version": "1.5.0",
            "_model_name": "HTMLModel",
            "_view_count": null,
            "_view_module": "@jupyter-widgets/controls",
            "_view_module_version": "1.5.0",
            "_view_name": "HTMLView",
            "description": "",
            "description_tooltip": null,
            "layout": "IPY_MODEL_81a7e351ed6946bc8c8e7c0b4bf30814",
            "placeholder": "​",
            "style": "IPY_MODEL_4554f4e7d4f24dd18d61b2e8443ba934",
            "value": "<b>Mean Absolute Error (MAE): 67.92</b>"
          }
        },
        "eb71f3a122574e46a5107b08188bfb59": {
          "model_module": "@jupyter-widgets/controls",
          "model_module_version": "1.5.0",
          "model_name": "ButtonModel",
          "state": {
            "_dom_classes": [],
            "_model_module": "@jupyter-widgets/controls",
            "_model_module_version": "1.5.0",
            "_model_name": "ButtonModel",
            "_view_count": null,
            "_view_module": "@jupyter-widgets/controls",
            "_view_module_version": "1.5.0",
            "_view_name": "ButtonView",
            "button_style": "",
            "description": "Fetch Data",
            "disabled": false,
            "icon": "",
            "layout": "IPY_MODEL_a061c788da564b758bf9735b4035a9a5",
            "style": "IPY_MODEL_48e7cb95e9494cc68b2b50ecaf50feba",
            "tooltip": ""
          }
        },
        "edc61d74f3804143b1e72556468f2446": {
          "model_module": "@jupyter-widgets/base",
          "model_module_version": "1.2.0",
          "model_name": "LayoutModel",
          "state": {
            "_model_module": "@jupyter-widgets/base",
            "_model_module_version": "1.2.0",
            "_model_name": "LayoutModel",
            "_view_count": null,
            "_view_module": "@jupyter-widgets/base",
            "_view_module_version": "1.2.0",
            "_view_name": "LayoutView",
            "align_content": null,
            "align_items": null,
            "align_self": null,
            "border": null,
            "bottom": null,
            "display": null,
            "flex": null,
            "flex_flow": null,
            "grid_area": null,
            "grid_auto_columns": null,
            "grid_auto_flow": null,
            "grid_auto_rows": null,
            "grid_column": null,
            "grid_gap": null,
            "grid_row": null,
            "grid_template_areas": null,
            "grid_template_columns": null,
            "grid_template_rows": null,
            "height": null,
            "justify_content": null,
            "justify_items": null,
            "left": null,
            "margin": null,
            "max_height": null,
            "max_width": null,
            "min_height": null,
            "min_width": null,
            "object_fit": null,
            "object_position": null,
            "order": null,
            "overflow": null,
            "overflow_x": null,
            "overflow_y": null,
            "padding": null,
            "right": null,
            "top": null,
            "visibility": null,
            "width": null
          }
        },
        "ee0317628e7943feae2bd5927f11b506": {
          "model_module": "@jupyter-widgets/controls",
          "model_module_version": "1.5.0",
          "model_name": "VBoxModel",
          "state": {
            "_dom_classes": [],
            "_model_module": "@jupyter-widgets/controls",
            "_model_module_version": "1.5.0",
            "_model_name": "VBoxModel",
            "_view_count": null,
            "_view_module": "@jupyter-widgets/controls",
            "_view_module_version": "1.5.0",
            "_view_name": "VBoxView",
            "box_style": "",
            "children": [
              "IPY_MODEL_5bb90b3f662642f4bfba06635c3287d9",
              "IPY_MODEL_123734f2af344b99b34042cd817ad4af",
              "IPY_MODEL_677888b6ac71462f9edf084fcadae4de",
              "IPY_MODEL_b82c4b06390a4ae1b50dee205796cf9b"
            ],
            "layout": "IPY_MODEL_d2a9cef4b3f64be1a210ec2a50bec73d"
          }
        },
        "eefb41a7f4744afc88dafacc8289b954": {
          "model_module": "@jupyter-widgets/controls",
          "model_module_version": "1.5.0",
          "model_name": "ButtonModel",
          "state": {
            "_dom_classes": [],
            "_model_module": "@jupyter-widgets/controls",
            "_model_module_version": "1.5.0",
            "_model_name": "ButtonModel",
            "_view_count": null,
            "_view_module": "@jupyter-widgets/controls",
            "_view_module_version": "1.5.0",
            "_view_name": "ButtonView",
            "button_style": "",
            "description": "Fetch & Forecast",
            "disabled": false,
            "icon": "",
            "layout": "IPY_MODEL_da4187f6838b471e9ca5d5bfd8e53926",
            "style": "IPY_MODEL_90d37ea0682b42ccab57bd76c721b1a2",
            "tooltip": ""
          }
        },
        "f1fd622597cc45c392d60213082ea879": {
          "model_module": "@jupyter-widgets/base",
          "model_module_version": "1.2.0",
          "model_name": "LayoutModel",
          "state": {
            "_model_module": "@jupyter-widgets/base",
            "_model_module_version": "1.2.0",
            "_model_name": "LayoutModel",
            "_view_count": null,
            "_view_module": "@jupyter-widgets/base",
            "_view_module_version": "1.2.0",
            "_view_name": "LayoutView",
            "align_content": null,
            "align_items": null,
            "align_self": null,
            "border": null,
            "bottom": null,
            "display": null,
            "flex": null,
            "flex_flow": null,
            "grid_area": null,
            "grid_auto_columns": null,
            "grid_auto_flow": null,
            "grid_auto_rows": null,
            "grid_column": null,
            "grid_gap": null,
            "grid_row": null,
            "grid_template_areas": null,
            "grid_template_columns": null,
            "grid_template_rows": null,
            "height": null,
            "justify_content": null,
            "justify_items": null,
            "left": null,
            "margin": null,
            "max_height": null,
            "max_width": null,
            "min_height": null,
            "min_width": null,
            "object_fit": null,
            "object_position": null,
            "order": null,
            "overflow": null,
            "overflow_x": null,
            "overflow_y": null,
            "padding": null,
            "right": null,
            "top": null,
            "visibility": null,
            "width": null
          }
        },
        "ff6df8877a554da2ba2451dae47f0475": {
          "model_module": "@jupyter-widgets/base",
          "model_module_version": "1.2.0",
          "model_name": "LayoutModel",
          "state": {
            "_model_module": "@jupyter-widgets/base",
            "_model_module_version": "1.2.0",
            "_model_name": "LayoutModel",
            "_view_count": null,
            "_view_module": "@jupyter-widgets/base",
            "_view_module_version": "1.2.0",
            "_view_name": "LayoutView",
            "align_content": null,
            "align_items": null,
            "align_self": null,
            "border": null,
            "bottom": null,
            "display": null,
            "flex": null,
            "flex_flow": null,
            "grid_area": null,
            "grid_auto_columns": null,
            "grid_auto_flow": null,
            "grid_auto_rows": null,
            "grid_column": null,
            "grid_gap": null,
            "grid_row": null,
            "grid_template_areas": null,
            "grid_template_columns": null,
            "grid_template_rows": null,
            "height": null,
            "justify_content": null,
            "justify_items": null,
            "left": null,
            "margin": null,
            "max_height": null,
            "max_width": null,
            "min_height": null,
            "min_width": null,
            "object_fit": null,
            "object_position": null,
            "order": null,
            "overflow": null,
            "overflow_x": null,
            "overflow_y": null,
            "padding": null,
            "right": null,
            "top": null,
            "visibility": null,
            "width": null
          }
        },
        "8324fd057e294d64ad733a1da063e18c": {
          "model_module": "@jupyter-widgets/controls",
          "model_name": "VBoxModel",
          "model_module_version": "1.5.0",
          "state": {
            "_dom_classes": [],
            "_model_module": "@jupyter-widgets/controls",
            "_model_module_version": "1.5.0",
            "_model_name": "VBoxModel",
            "_view_count": null,
            "_view_module": "@jupyter-widgets/controls",
            "_view_module_version": "1.5.0",
            "_view_name": "VBoxView",
            "box_style": "",
            "children": [
              "IPY_MODEL_86c716c0e1854868820e56ce6d2bf815",
              "IPY_MODEL_56d928382cba404c9126e5be99ed44b6",
              "IPY_MODEL_ce5d510ea4ff475cbc16c513ff8e1937",
              "IPY_MODEL_93f4f71baffe425683a0f69d65c0e7e9",
              "IPY_MODEL_739e9b099a8d47e2bb9d3e8574a83dc5",
              "IPY_MODEL_d753ccb2606c45bbb7acc939d74c53c3"
            ],
            "layout": "IPY_MODEL_7b3ac507b2f64566a15a4d4e5783b0f7"
          }
        },
        "86c716c0e1854868820e56ce6d2bf815": {
          "model_module": "@jupyter-widgets/controls",
          "model_name": "DropdownModel",
          "model_module_version": "1.5.0",
          "state": {
            "_dom_classes": [],
            "_model_module": "@jupyter-widgets/controls",
            "_model_module_version": "1.5.0",
            "_model_name": "DropdownModel",
            "_options_labels": [
              "Tech",
              "Automobile",
              "Retail",
              "Healthcare",
              "Energy"
            ],
            "_view_count": null,
            "_view_module": "@jupyter-widgets/controls",
            "_view_module_version": "1.5.0",
            "_view_name": "DropdownView",
            "description": "Industry:",
            "description_tooltip": null,
            "disabled": false,
            "index": 0,
            "layout": "IPY_MODEL_b4f86a5ef14d48fe8a937d809f67cfd5",
            "style": "IPY_MODEL_1303165568af42448e83b0f47f10271d"
          }
        },
        "56d928382cba404c9126e5be99ed44b6": {
          "model_module": "@jupyter-widgets/controls",
          "model_name": "DropdownModel",
          "model_module_version": "1.5.0",
          "state": {
            "_dom_classes": [],
            "_model_module": "@jupyter-widgets/controls",
            "_model_module_version": "1.5.0",
            "_model_name": "DropdownModel",
            "_options_labels": [
              "AAPL",
              "MSFT",
              "GOOG",
              "NVDA",
              "META"
            ],
            "_view_count": null,
            "_view_module": "@jupyter-widgets/controls",
            "_view_module_version": "1.5.0",
            "_view_name": "DropdownView",
            "description": "Stock:",
            "description_tooltip": null,
            "disabled": false,
            "index": 0,
            "layout": "IPY_MODEL_a5758fcb92e34fe5a2afb0581d8032df",
            "style": "IPY_MODEL_fb599f4793ed473aaabbbf492feb0690"
          }
        },
        "ce5d510ea4ff475cbc16c513ff8e1937": {
          "model_module": "@jupyter-widgets/controls",
          "model_name": "HBoxModel",
          "model_module_version": "1.5.0",
          "state": {
            "_dom_classes": [],
            "_model_module": "@jupyter-widgets/controls",
            "_model_module_version": "1.5.0",
            "_model_name": "HBoxModel",
            "_view_count": null,
            "_view_module": "@jupyter-widgets/controls",
            "_view_module_version": "1.5.0",
            "_view_name": "HBoxView",
            "box_style": "",
            "children": [
              "IPY_MODEL_52dde60f80344c76b1e3d88113f2f807",
              "IPY_MODEL_45401764615844719947db1a7c8dd07c"
            ],
            "layout": "IPY_MODEL_200960febea94338af9aa82da6e08b74"
          }
        },
        "93f4f71baffe425683a0f69d65c0e7e9": {
          "model_module": "@jupyter-widgets/controls",
          "model_name": "IntSliderModel",
          "model_module_version": "1.5.0",
          "state": {
            "_dom_classes": [],
            "_model_module": "@jupyter-widgets/controls",
            "_model_module_version": "1.5.0",
            "_model_name": "IntSliderModel",
            "_view_count": null,
            "_view_module": "@jupyter-widgets/controls",
            "_view_module_version": "1.5.0",
            "_view_name": "IntSliderView",
            "continuous_update": true,
            "description": "Forecast Days:",
            "description_tooltip": null,
            "disabled": false,
            "layout": "IPY_MODEL_fc1831eaee4b47038e9e1a8c53964e75",
            "max": 365,
            "min": 1,
            "orientation": "horizontal",
            "readout": true,
            "readout_format": "d",
            "step": 1,
            "style": "IPY_MODEL_798dedca5a86446f81b94ba2489c9f66",
            "value": 347
          }
        },
        "739e9b099a8d47e2bb9d3e8574a83dc5": {
          "model_module": "@jupyter-widgets/controls",
          "model_name": "ButtonModel",
          "model_module_version": "1.5.0",
          "state": {
            "_dom_classes": [],
            "_model_module": "@jupyter-widgets/controls",
            "_model_module_version": "1.5.0",
            "_model_name": "ButtonModel",
            "_view_count": null,
            "_view_module": "@jupyter-widgets/controls",
            "_view_module_version": "1.5.0",
            "_view_name": "ButtonView",
            "button_style": "",
            "description": "Fetch & Forecast",
            "disabled": false,
            "icon": "",
            "layout": "IPY_MODEL_60c31a49d4b844b284ccc9c4c18b1aea",
            "style": "IPY_MODEL_deb05666221d409ea038000fc38e082a",
            "tooltip": ""
          }
        },
        "d753ccb2606c45bbb7acc939d74c53c3": {
          "model_module": "@jupyter-widgets/output",
          "model_name": "OutputModel",
          "model_module_version": "1.0.0",
          "state": {
            "_dom_classes": [],
            "_model_module": "@jupyter-widgets/output",
            "_model_module_version": "1.0.0",
            "_model_name": "OutputModel",
            "_view_count": null,
            "_view_module": "@jupyter-widgets/output",
            "_view_module_version": "1.0.0",
            "_view_name": "OutputView",
            "layout": "IPY_MODEL_b5f87560b884474f87751cf3d0f70907",
            "msg_id": "",
            "outputs": [
              {
                "output_type": "stream",
                "name": "stderr",
                "text": [
                  "\r[*********************100%***********************]  1 of 1 completed"
                ]
              },
              {
                "output_type": "stream",
                "name": "stdout",
                "text": [
                  "Fetching data for: AAPL\n",
                  "Performing stepwise search to minimize aic\n"
                ]
              },
              {
                "output_type": "stream",
                "name": "stderr",
                "text": [
                  "\n"
                ]
              },
              {
                "output_type": "stream",
                "name": "stdout",
                "text": [
                  " ARIMA(1,1,1)(0,0,0)[0] intercept   : AIC=-13003.974, Time=1.21 sec\n"
                ]
              },
              {
                "output_type": "stream",
                "name": "stdout",
                "text": [
                  " ARIMA(0,1,0)(0,0,0)[0] intercept   : AIC=-12996.412, Time=0.26 sec\n"
                ]
              },
              {
                "output_type": "stream",
                "name": "stdout",
                "text": [
                  " ARIMA(1,1,0)(0,0,0)[0] intercept   : AIC=-13005.458, Time=0.41 sec\n"
                ]
              },
              {
                "output_type": "stream",
                "name": "stdout",
                "text": [
                  " ARIMA(0,1,1)(0,0,0)[0] intercept   : AIC=-13005.673, Time=0.67 sec\n",
                  " ARIMA(0,1,0)(0,0,0)[0]             : AIC=-12992.422, Time=0.18 sec\n"
                ]
              },
              {
                "output_type": "stream",
                "name": "stdout",
                "text": [
                  " ARIMA(0,1,2)(0,0,0)[0] intercept   : AIC=-13003.835, Time=1.07 sec\n"
                ]
              },
              {
                "output_type": "stream",
                "name": "stdout",
                "text": [
                  " ARIMA(1,1,2)(0,0,0)[0] intercept   : AIC=-13001.914, Time=0.61 sec\n"
                ]
              },
              {
                "output_type": "stream",
                "name": "stdout",
                "text": [
                  " ARIMA(0,1,1)(0,0,0)[0]             : AIC=-13000.768, Time=0.45 sec\n",
                  "\n",
                  "Best model:  ARIMA(0,1,1)(0,0,0)[0] intercept\n",
                  "Total fit time: 4.896 seconds\n"
                ]
              },
              {
                "output_type": "stream",
                "name": "stdout",
                "text": [
                  "Mean Squared Error (MSE): 0.004695\n",
                  "Root Mean Squared Error (RMSE): 0.068517\n",
                  "Mean Absolute Percentage Error (MAPE): nan%\n"
                ]
              },
              {
                "output_type": "stream",
                "name": "stderr",
                "text": [
                  "/usr/local/lib/python3.10/dist-packages/statsmodels/tsa/base/tsa_model.py:837: ValueWarning: No supported index is available. Prediction results will be given with an integer index beginning at `start`.\n",
                  "  return get_prediction_index(\n",
                  "/usr/local/lib/python3.10/dist-packages/statsmodels/tsa/base/tsa_model.py:837: FutureWarning: No supported index is available. In the next version, calling this method in a model without a supported index will result in an exception.\n",
                  "  return get_prediction_index(\n"
                ]
              },
              {
                "output_type": "display_data",
                "data": {
                  "text/plain": "<Figure size 1200x600 with 1 Axes>",
                  "image/png": "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\n"
                },
                "metadata": {}
              },
              {
                "output_type": "stream",
                "name": "stdout",
                "text": [
                  "                               SARIMAX Results                                \n",
                  "==============================================================================\n",
                  "Dep. Variable:                      y   No. Observations:                 2501\n",
                  "Model:               SARIMAX(0, 1, 1)   Log Likelihood                6505.837\n",
                  "Date:                Tue, 10 Dec 2024   AIC                         -13005.673\n",
                  "Time:                        21:09:54   BIC                         -12988.201\n",
                  "Sample:                             0   HQIC                        -12999.330\n",
                  "                               - 2501                                         \n",
                  "Covariance Type:                  opg                                         \n",
                  "==============================================================================\n",
                  "                 coef    std err          z      P>|z|      [0.025      0.975]\n",
                  "------------------------------------------------------------------------------\n",
                  "intercept      0.0009      0.000      2.592      0.010       0.000       0.002\n",
                  "ma.L1         -0.0673      0.013     -5.202      0.000      -0.093      -0.042\n",
                  "sigma2         0.0003   5.15e-06     62.377      0.000       0.000       0.000\n",
                  "===================================================================================\n",
                  "Ljung-Box (L1) (Q):                   0.00   Jarque-Bera (JB):              2661.37\n",
                  "Prob(Q):                              1.00   Prob(JB):                         0.00\n",
                  "Heteroskedasticity (H):               1.32   Skew:                            -0.22\n",
                  "Prob(H) (two-sided):                  0.00   Kurtosis:                         8.03\n",
                  "===================================================================================\n",
                  "\n",
                  "Warnings:\n",
                  "[1] Covariance matrix calculated using the outer product of gradients (complex-step).\n"
                ]
              },
              {
                "output_type": "display_data",
                "data": {
                  "text/plain": "<Figure size 1200x1200 with 3 Axes>",
                  "image/png": "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\n"
                },
                "metadata": {}
              }
            ]
          }
        },
        "7b3ac507b2f64566a15a4d4e5783b0f7": {
          "model_module": "@jupyter-widgets/base",
          "model_name": "LayoutModel",
          "model_module_version": "1.2.0",
          "state": {
            "_model_module": "@jupyter-widgets/base",
            "_model_module_version": "1.2.0",
            "_model_name": "LayoutModel",
            "_view_count": null,
            "_view_module": "@jupyter-widgets/base",
            "_view_module_version": "1.2.0",
            "_view_name": "LayoutView",
            "align_content": null,
            "align_items": null,
            "align_self": null,
            "border": null,
            "bottom": null,
            "display": null,
            "flex": null,
            "flex_flow": null,
            "grid_area": null,
            "grid_auto_columns": null,
            "grid_auto_flow": null,
            "grid_auto_rows": null,
            "grid_column": null,
            "grid_gap": null,
            "grid_row": null,
            "grid_template_areas": null,
            "grid_template_columns": null,
            "grid_template_rows": null,
            "height": null,
            "justify_content": null,
            "justify_items": null,
            "left": null,
            "margin": null,
            "max_height": null,
            "max_width": null,
            "min_height": null,
            "min_width": null,
            "object_fit": null,
            "object_position": null,
            "order": null,
            "overflow": null,
            "overflow_x": null,
            "overflow_y": null,
            "padding": null,
            "right": null,
            "top": null,
            "visibility": null,
            "width": null
          }
        },
        "b4f86a5ef14d48fe8a937d809f67cfd5": {
          "model_module": "@jupyter-widgets/base",
          "model_name": "LayoutModel",
          "model_module_version": "1.2.0",
          "state": {
            "_model_module": "@jupyter-widgets/base",
            "_model_module_version": "1.2.0",
            "_model_name": "LayoutModel",
            "_view_count": null,
            "_view_module": "@jupyter-widgets/base",
            "_view_module_version": "1.2.0",
            "_view_name": "LayoutView",
            "align_content": null,
            "align_items": null,
            "align_self": null,
            "border": null,
            "bottom": null,
            "display": null,
            "flex": null,
            "flex_flow": null,
            "grid_area": null,
            "grid_auto_columns": null,
            "grid_auto_flow": null,
            "grid_auto_rows": null,
            "grid_column": null,
            "grid_gap": null,
            "grid_row": null,
            "grid_template_areas": null,
            "grid_template_columns": null,
            "grid_template_rows": null,
            "height": null,
            "justify_content": null,
            "justify_items": null,
            "left": null,
            "margin": null,
            "max_height": null,
            "max_width": null,
            "min_height": null,
            "min_width": null,
            "object_fit": null,
            "object_position": null,
            "order": null,
            "overflow": null,
            "overflow_x": null,
            "overflow_y": null,
            "padding": null,
            "right": null,
            "top": null,
            "visibility": null,
            "width": null
          }
        },
        "1303165568af42448e83b0f47f10271d": {
          "model_module": "@jupyter-widgets/controls",
          "model_name": "DescriptionStyleModel",
          "model_module_version": "1.5.0",
          "state": {
            "_model_module": "@jupyter-widgets/controls",
            "_model_module_version": "1.5.0",
            "_model_name": "DescriptionStyleModel",
            "_view_count": null,
            "_view_module": "@jupyter-widgets/base",
            "_view_module_version": "1.2.0",
            "_view_name": "StyleView",
            "description_width": ""
          }
        },
        "a5758fcb92e34fe5a2afb0581d8032df": {
          "model_module": "@jupyter-widgets/base",
          "model_name": "LayoutModel",
          "model_module_version": "1.2.0",
          "state": {
            "_model_module": "@jupyter-widgets/base",
            "_model_module_version": "1.2.0",
            "_model_name": "LayoutModel",
            "_view_count": null,
            "_view_module": "@jupyter-widgets/base",
            "_view_module_version": "1.2.0",
            "_view_name": "LayoutView",
            "align_content": null,
            "align_items": null,
            "align_self": null,
            "border": null,
            "bottom": null,
            "display": null,
            "flex": null,
            "flex_flow": null,
            "grid_area": null,
            "grid_auto_columns": null,
            "grid_auto_flow": null,
            "grid_auto_rows": null,
            "grid_column": null,
            "grid_gap": null,
            "grid_row": null,
            "grid_template_areas": null,
            "grid_template_columns": null,
            "grid_template_rows": null,
            "height": null,
            "justify_content": null,
            "justify_items": null,
            "left": null,
            "margin": null,
            "max_height": null,
            "max_width": null,
            "min_height": null,
            "min_width": null,
            "object_fit": null,
            "object_position": null,
            "order": null,
            "overflow": null,
            "overflow_x": null,
            "overflow_y": null,
            "padding": null,
            "right": null,
            "top": null,
            "visibility": null,
            "width": null
          }
        },
        "fb599f4793ed473aaabbbf492feb0690": {
          "model_module": "@jupyter-widgets/controls",
          "model_name": "DescriptionStyleModel",
          "model_module_version": "1.5.0",
          "state": {
            "_model_module": "@jupyter-widgets/controls",
            "_model_module_version": "1.5.0",
            "_model_name": "DescriptionStyleModel",
            "_view_count": null,
            "_view_module": "@jupyter-widgets/base",
            "_view_module_version": "1.2.0",
            "_view_name": "StyleView",
            "description_width": ""
          }
        },
        "52dde60f80344c76b1e3d88113f2f807": {
          "model_module": "@jupyter-widgets/controls",
          "model_name": "DatePickerModel",
          "model_module_version": "1.5.0",
          "state": {
            "_dom_classes": [],
            "_model_module": "@jupyter-widgets/controls",
            "_model_module_version": "1.5.0",
            "_model_name": "DatePickerModel",
            "_view_count": null,
            "_view_module": "@jupyter-widgets/controls",
            "_view_module_version": "1.5.0",
            "_view_name": "DatePickerView",
            "description": "Start Date:",
            "description_tooltip": null,
            "disabled": false,
            "layout": "IPY_MODEL_3dae33e71d4049b9b7e11a63b8569d8c",
            "style": "IPY_MODEL_f75791f44fcd495aa9fcfaed14141a46",
            "value": {
              "year": 2015,
              "month": 0,
              "date": 1
            }
          }
        },
        "45401764615844719947db1a7c8dd07c": {
          "model_module": "@jupyter-widgets/controls",
          "model_name": "DatePickerModel",
          "model_module_version": "1.5.0",
          "state": {
            "_dom_classes": [],
            "_model_module": "@jupyter-widgets/controls",
            "_model_module_version": "1.5.0",
            "_model_name": "DatePickerModel",
            "_view_count": null,
            "_view_module": "@jupyter-widgets/controls",
            "_view_module_version": "1.5.0",
            "_view_name": "DatePickerView",
            "description": "End Date:",
            "description_tooltip": null,
            "disabled": false,
            "layout": "IPY_MODEL_4dff10568b3745bcba01bf13358e0605",
            "style": "IPY_MODEL_b71666b5d3ed496fb6e0f4597fc59499",
            "value": {
              "year": 2024,
              "month": 11,
              "date": 10
            }
          }
        },
        "200960febea94338af9aa82da6e08b74": {
          "model_module": "@jupyter-widgets/base",
          "model_name": "LayoutModel",
          "model_module_version": "1.2.0",
          "state": {
            "_model_module": "@jupyter-widgets/base",
            "_model_module_version": "1.2.0",
            "_model_name": "LayoutModel",
            "_view_count": null,
            "_view_module": "@jupyter-widgets/base",
            "_view_module_version": "1.2.0",
            "_view_name": "LayoutView",
            "align_content": null,
            "align_items": null,
            "align_self": null,
            "border": null,
            "bottom": null,
            "display": null,
            "flex": null,
            "flex_flow": null,
            "grid_area": null,
            "grid_auto_columns": null,
            "grid_auto_flow": null,
            "grid_auto_rows": null,
            "grid_column": null,
            "grid_gap": null,
            "grid_row": null,
            "grid_template_areas": null,
            "grid_template_columns": null,
            "grid_template_rows": null,
            "height": null,
            "justify_content": null,
            "justify_items": null,
            "left": null,
            "margin": null,
            "max_height": null,
            "max_width": null,
            "min_height": null,
            "min_width": null,
            "object_fit": null,
            "object_position": null,
            "order": null,
            "overflow": null,
            "overflow_x": null,
            "overflow_y": null,
            "padding": null,
            "right": null,
            "top": null,
            "visibility": null,
            "width": null
          }
        },
        "fc1831eaee4b47038e9e1a8c53964e75": {
          "model_module": "@jupyter-widgets/base",
          "model_name": "LayoutModel",
          "model_module_version": "1.2.0",
          "state": {
            "_model_module": "@jupyter-widgets/base",
            "_model_module_version": "1.2.0",
            "_model_name": "LayoutModel",
            "_view_count": null,
            "_view_module": "@jupyter-widgets/base",
            "_view_module_version": "1.2.0",
            "_view_name": "LayoutView",
            "align_content": null,
            "align_items": null,
            "align_self": null,
            "border": null,
            "bottom": null,
            "display": null,
            "flex": null,
            "flex_flow": null,
            "grid_area": null,
            "grid_auto_columns": null,
            "grid_auto_flow": null,
            "grid_auto_rows": null,
            "grid_column": null,
            "grid_gap": null,
            "grid_row": null,
            "grid_template_areas": null,
            "grid_template_columns": null,
            "grid_template_rows": null,
            "height": null,
            "justify_content": null,
            "justify_items": null,
            "left": null,
            "margin": null,
            "max_height": null,
            "max_width": null,
            "min_height": null,
            "min_width": null,
            "object_fit": null,
            "object_position": null,
            "order": null,
            "overflow": null,
            "overflow_x": null,
            "overflow_y": null,
            "padding": null,
            "right": null,
            "top": null,
            "visibility": null,
            "width": null
          }
        },
        "798dedca5a86446f81b94ba2489c9f66": {
          "model_module": "@jupyter-widgets/controls",
          "model_name": "SliderStyleModel",
          "model_module_version": "1.5.0",
          "state": {
            "_model_module": "@jupyter-widgets/controls",
            "_model_module_version": "1.5.0",
            "_model_name": "SliderStyleModel",
            "_view_count": null,
            "_view_module": "@jupyter-widgets/base",
            "_view_module_version": "1.2.0",
            "_view_name": "StyleView",
            "description_width": "",
            "handle_color": null
          }
        },
        "60c31a49d4b844b284ccc9c4c18b1aea": {
          "model_module": "@jupyter-widgets/base",
          "model_name": "LayoutModel",
          "model_module_version": "1.2.0",
          "state": {
            "_model_module": "@jupyter-widgets/base",
            "_model_module_version": "1.2.0",
            "_model_name": "LayoutModel",
            "_view_count": null,
            "_view_module": "@jupyter-widgets/base",
            "_view_module_version": "1.2.0",
            "_view_name": "LayoutView",
            "align_content": null,
            "align_items": null,
            "align_self": null,
            "border": null,
            "bottom": null,
            "display": null,
            "flex": null,
            "flex_flow": null,
            "grid_area": null,
            "grid_auto_columns": null,
            "grid_auto_flow": null,
            "grid_auto_rows": null,
            "grid_column": null,
            "grid_gap": null,
            "grid_row": null,
            "grid_template_areas": null,
            "grid_template_columns": null,
            "grid_template_rows": null,
            "height": null,
            "justify_content": null,
            "justify_items": null,
            "left": null,
            "margin": null,
            "max_height": null,
            "max_width": null,
            "min_height": null,
            "min_width": null,
            "object_fit": null,
            "object_position": null,
            "order": null,
            "overflow": null,
            "overflow_x": null,
            "overflow_y": null,
            "padding": null,
            "right": null,
            "top": null,
            "visibility": null,
            "width": null
          }
        },
        "deb05666221d409ea038000fc38e082a": {
          "model_module": "@jupyter-widgets/controls",
          "model_name": "ButtonStyleModel",
          "model_module_version": "1.5.0",
          "state": {
            "_model_module": "@jupyter-widgets/controls",
            "_model_module_version": "1.5.0",
            "_model_name": "ButtonStyleModel",
            "_view_count": null,
            "_view_module": "@jupyter-widgets/base",
            "_view_module_version": "1.2.0",
            "_view_name": "StyleView",
            "button_color": null,
            "font_weight": ""
          }
        },
        "3dae33e71d4049b9b7e11a63b8569d8c": {
          "model_module": "@jupyter-widgets/base",
          "model_name": "LayoutModel",
          "model_module_version": "1.2.0",
          "state": {
            "_model_module": "@jupyter-widgets/base",
            "_model_module_version": "1.2.0",
            "_model_name": "LayoutModel",
            "_view_count": null,
            "_view_module": "@jupyter-widgets/base",
            "_view_module_version": "1.2.0",
            "_view_name": "LayoutView",
            "align_content": null,
            "align_items": null,
            "align_self": null,
            "border": null,
            "bottom": null,
            "display": null,
            "flex": null,
            "flex_flow": null,
            "grid_area": null,
            "grid_auto_columns": null,
            "grid_auto_flow": null,
            "grid_auto_rows": null,
            "grid_column": null,
            "grid_gap": null,
            "grid_row": null,
            "grid_template_areas": null,
            "grid_template_columns": null,
            "grid_template_rows": null,
            "height": null,
            "justify_content": null,
            "justify_items": null,
            "left": null,
            "margin": null,
            "max_height": null,
            "max_width": null,
            "min_height": null,
            "min_width": null,
            "object_fit": null,
            "object_position": null,
            "order": null,
            "overflow": null,
            "overflow_x": null,
            "overflow_y": null,
            "padding": null,
            "right": null,
            "top": null,
            "visibility": null,
            "width": null
          }
        },
        "f75791f44fcd495aa9fcfaed14141a46": {
          "model_module": "@jupyter-widgets/controls",
          "model_name": "DescriptionStyleModel",
          "model_module_version": "1.5.0",
          "state": {
            "_model_module": "@jupyter-widgets/controls",
            "_model_module_version": "1.5.0",
            "_model_name": "DescriptionStyleModel",
            "_view_count": null,
            "_view_module": "@jupyter-widgets/base",
            "_view_module_version": "1.2.0",
            "_view_name": "StyleView",
            "description_width": ""
          }
        },
        "4dff10568b3745bcba01bf13358e0605": {
          "model_module": "@jupyter-widgets/base",
          "model_name": "LayoutModel",
          "model_module_version": "1.2.0",
          "state": {
            "_model_module": "@jupyter-widgets/base",
            "_model_module_version": "1.2.0",
            "_model_name": "LayoutModel",
            "_view_count": null,
            "_view_module": "@jupyter-widgets/base",
            "_view_module_version": "1.2.0",
            "_view_name": "LayoutView",
            "align_content": null,
            "align_items": null,
            "align_self": null,
            "border": null,
            "bottom": null,
            "display": null,
            "flex": null,
            "flex_flow": null,
            "grid_area": null,
            "grid_auto_columns": null,
            "grid_auto_flow": null,
            "grid_auto_rows": null,
            "grid_column": null,
            "grid_gap": null,
            "grid_row": null,
            "grid_template_areas": null,
            "grid_template_columns": null,
            "grid_template_rows": null,
            "height": null,
            "justify_content": null,
            "justify_items": null,
            "left": null,
            "margin": null,
            "max_height": null,
            "max_width": null,
            "min_height": null,
            "min_width": null,
            "object_fit": null,
            "object_position": null,
            "order": null,
            "overflow": null,
            "overflow_x": null,
            "overflow_y": null,
            "padding": null,
            "right": null,
            "top": null,
            "visibility": null,
            "width": null
          }
        },
        "b71666b5d3ed496fb6e0f4597fc59499": {
          "model_module": "@jupyter-widgets/controls",
          "model_name": "DescriptionStyleModel",
          "model_module_version": "1.5.0",
          "state": {
            "_model_module": "@jupyter-widgets/controls",
            "_model_module_version": "1.5.0",
            "_model_name": "DescriptionStyleModel",
            "_view_count": null,
            "_view_module": "@jupyter-widgets/base",
            "_view_module_version": "1.2.0",
            "_view_name": "StyleView",
            "description_width": ""
          }
        },
        "b5f87560b884474f87751cf3d0f70907": {
          "model_module": "@jupyter-widgets/base",
          "model_name": "LayoutModel",
          "model_module_version": "1.2.0",
          "state": {
            "_model_module": "@jupyter-widgets/base",
            "_model_module_version": "1.2.0",
            "_model_name": "LayoutModel",
            "_view_count": null,
            "_view_module": "@jupyter-widgets/base",
            "_view_module_version": "1.2.0",
            "_view_name": "LayoutView",
            "align_content": null,
            "align_items": null,
            "align_self": null,
            "border": null,
            "bottom": null,
            "display": null,
            "flex": null,
            "flex_flow": null,
            "grid_area": null,
            "grid_auto_columns": null,
            "grid_auto_flow": null,
            "grid_auto_rows": null,
            "grid_column": null,
            "grid_gap": null,
            "grid_row": null,
            "grid_template_areas": null,
            "grid_template_columns": null,
            "grid_template_rows": null,
            "height": null,
            "justify_content": null,
            "justify_items": null,
            "left": null,
            "margin": null,
            "max_height": null,
            "max_width": null,
            "min_height": null,
            "min_width": null,
            "object_fit": null,
            "object_position": null,
            "order": null,
            "overflow": null,
            "overflow_x": null,
            "overflow_y": null,
            "padding": null,
            "right": null,
            "top": null,
            "visibility": null,
            "width": null
          }
        },
        "9fcd14d858db4cc6b1181e2421bc0abe": {
          "model_module": "@jupyter-widgets/controls",
          "model_name": "VBoxModel",
          "model_module_version": "1.5.0",
          "state": {
            "_dom_classes": [],
            "_model_module": "@jupyter-widgets/controls",
            "_model_module_version": "1.5.0",
            "_model_name": "VBoxModel",
            "_view_count": null,
            "_view_module": "@jupyter-widgets/controls",
            "_view_module_version": "1.5.0",
            "_view_name": "VBoxView",
            "box_style": "",
            "children": [
              "IPY_MODEL_325972ebe06c42748d26522c35049136",
              "IPY_MODEL_01e8052c002640e8b3fe3ad3d94adbd2",
              "IPY_MODEL_eec0588265b3420d860727a7fb0ae681",
              "IPY_MODEL_0cc7550fc2294bb49ee6e87bce847c22",
              "IPY_MODEL_eae37e27d833445ebf60882c91ef44b6",
              "IPY_MODEL_85b3fcec8a2942a29c6cc4b4a8c648f8"
            ],
            "layout": "IPY_MODEL_40780906ef9949c4acea92dd0246d4e8"
          }
        },
        "325972ebe06c42748d26522c35049136": {
          "model_module": "@jupyter-widgets/controls",
          "model_name": "DropdownModel",
          "model_module_version": "1.5.0",
          "state": {
            "_dom_classes": [],
            "_model_module": "@jupyter-widgets/controls",
            "_model_module_version": "1.5.0",
            "_model_name": "DropdownModel",
            "_options_labels": [
              "Tech",
              "Automobile",
              "Retail",
              "Healthcare",
              "Energy"
            ],
            "_view_count": null,
            "_view_module": "@jupyter-widgets/controls",
            "_view_module_version": "1.5.0",
            "_view_name": "DropdownView",
            "description": "Industry:",
            "description_tooltip": null,
            "disabled": false,
            "index": 3,
            "layout": "IPY_MODEL_916bc37337b14ec2adbfae5510a5161f",
            "style": "IPY_MODEL_e8c08f838a3e4be29d645834d86d8b30"
          }
        },
        "01e8052c002640e8b3fe3ad3d94adbd2": {
          "model_module": "@jupyter-widgets/controls",
          "model_name": "DropdownModel",
          "model_module_version": "1.5.0",
          "state": {
            "_dom_classes": [],
            "_model_module": "@jupyter-widgets/controls",
            "_model_module_version": "1.5.0",
            "_model_name": "DropdownModel",
            "_options_labels": [
              "JNJ",
              "PFE",
              "MRK",
              "ABBV",
              "UNH"
            ],
            "_view_count": null,
            "_view_module": "@jupyter-widgets/controls",
            "_view_module_version": "1.5.0",
            "_view_name": "DropdownView",
            "description": "Stock:",
            "description_tooltip": null,
            "disabled": false,
            "index": 0,
            "layout": "IPY_MODEL_aefd1d0a58374e70b646f4d358426a19",
            "style": "IPY_MODEL_aa3bfb6db06f4090b81920bfd122dde8"
          }
        },
        "eec0588265b3420d860727a7fb0ae681": {
          "model_module": "@jupyter-widgets/controls",
          "model_name": "HBoxModel",
          "model_module_version": "1.5.0",
          "state": {
            "_dom_classes": [],
            "_model_module": "@jupyter-widgets/controls",
            "_model_module_version": "1.5.0",
            "_model_name": "HBoxModel",
            "_view_count": null,
            "_view_module": "@jupyter-widgets/controls",
            "_view_module_version": "1.5.0",
            "_view_name": "HBoxView",
            "box_style": "",
            "children": [
              "IPY_MODEL_7df097d31deb446c8ed0fcbc16aeee4b",
              "IPY_MODEL_6f6d7e8bb8e8445c8740a0bfd102b623"
            ],
            "layout": "IPY_MODEL_a10a85c06dd840a39a5d3c1c25a62ebd"
          }
        },
        "0cc7550fc2294bb49ee6e87bce847c22": {
          "model_module": "@jupyter-widgets/controls",
          "model_name": "IntSliderModel",
          "model_module_version": "1.5.0",
          "state": {
            "_dom_classes": [],
            "_model_module": "@jupyter-widgets/controls",
            "_model_module_version": "1.5.0",
            "_model_name": "IntSliderModel",
            "_view_count": null,
            "_view_module": "@jupyter-widgets/controls",
            "_view_module_version": "1.5.0",
            "_view_name": "IntSliderView",
            "continuous_update": true,
            "description": "Forecast Days:",
            "description_tooltip": null,
            "disabled": false,
            "layout": "IPY_MODEL_39eb4213b0a24692aa30cf8342b2890e",
            "max": 365,
            "min": 1,
            "orientation": "horizontal",
            "readout": true,
            "readout_format": "d",
            "step": 1,
            "style": "IPY_MODEL_6dfe49375d0443fbb29b08021b1a0dc7",
            "value": 365
          }
        },
        "eae37e27d833445ebf60882c91ef44b6": {
          "model_module": "@jupyter-widgets/controls",
          "model_name": "ButtonModel",
          "model_module_version": "1.5.0",
          "state": {
            "_dom_classes": [],
            "_model_module": "@jupyter-widgets/controls",
            "_model_module_version": "1.5.0",
            "_model_name": "ButtonModel",
            "_view_count": null,
            "_view_module": "@jupyter-widgets/controls",
            "_view_module_version": "1.5.0",
            "_view_name": "ButtonView",
            "button_style": "success",
            "description": "Run XGBoost",
            "disabled": false,
            "icon": "",
            "layout": "IPY_MODEL_a038809b66fc4076b0a3f603fa12b57d",
            "style": "IPY_MODEL_f87a5930b1454d509f65c9c394f11092",
            "tooltip": ""
          }
        },
        "85b3fcec8a2942a29c6cc4b4a8c648f8": {
          "model_module": "@jupyter-widgets/output",
          "model_name": "OutputModel",
          "model_module_version": "1.0.0",
          "state": {
            "_dom_classes": [],
            "_model_module": "@jupyter-widgets/output",
            "_model_module_version": "1.0.0",
            "_model_name": "OutputModel",
            "_view_count": null,
            "_view_module": "@jupyter-widgets/output",
            "_view_module_version": "1.0.0",
            "_view_name": "OutputView",
            "layout": "IPY_MODEL_bbe1d4bb15ad4cf6a918f174bd02f30b",
            "msg_id": "",
            "outputs": []
          }
        },
        "40780906ef9949c4acea92dd0246d4e8": {
          "model_module": "@jupyter-widgets/base",
          "model_name": "LayoutModel",
          "model_module_version": "1.2.0",
          "state": {
            "_model_module": "@jupyter-widgets/base",
            "_model_module_version": "1.2.0",
            "_model_name": "LayoutModel",
            "_view_count": null,
            "_view_module": "@jupyter-widgets/base",
            "_view_module_version": "1.2.0",
            "_view_name": "LayoutView",
            "align_content": null,
            "align_items": null,
            "align_self": null,
            "border": null,
            "bottom": null,
            "display": null,
            "flex": null,
            "flex_flow": null,
            "grid_area": null,
            "grid_auto_columns": null,
            "grid_auto_flow": null,
            "grid_auto_rows": null,
            "grid_column": null,
            "grid_gap": null,
            "grid_row": null,
            "grid_template_areas": null,
            "grid_template_columns": null,
            "grid_template_rows": null,
            "height": null,
            "justify_content": null,
            "justify_items": null,
            "left": null,
            "margin": null,
            "max_height": null,
            "max_width": null,
            "min_height": null,
            "min_width": null,
            "object_fit": null,
            "object_position": null,
            "order": null,
            "overflow": null,
            "overflow_x": null,
            "overflow_y": null,
            "padding": null,
            "right": null,
            "top": null,
            "visibility": null,
            "width": null
          }
        },
        "916bc37337b14ec2adbfae5510a5161f": {
          "model_module": "@jupyter-widgets/base",
          "model_name": "LayoutModel",
          "model_module_version": "1.2.0",
          "state": {
            "_model_module": "@jupyter-widgets/base",
            "_model_module_version": "1.2.0",
            "_model_name": "LayoutModel",
            "_view_count": null,
            "_view_module": "@jupyter-widgets/base",
            "_view_module_version": "1.2.0",
            "_view_name": "LayoutView",
            "align_content": null,
            "align_items": null,
            "align_self": null,
            "border": null,
            "bottom": null,
            "display": null,
            "flex": null,
            "flex_flow": null,
            "grid_area": null,
            "grid_auto_columns": null,
            "grid_auto_flow": null,
            "grid_auto_rows": null,
            "grid_column": null,
            "grid_gap": null,
            "grid_row": null,
            "grid_template_areas": null,
            "grid_template_columns": null,
            "grid_template_rows": null,
            "height": null,
            "justify_content": null,
            "justify_items": null,
            "left": null,
            "margin": null,
            "max_height": null,
            "max_width": null,
            "min_height": null,
            "min_width": null,
            "object_fit": null,
            "object_position": null,
            "order": null,
            "overflow": null,
            "overflow_x": null,
            "overflow_y": null,
            "padding": null,
            "right": null,
            "top": null,
            "visibility": null,
            "width": null
          }
        },
        "e8c08f838a3e4be29d645834d86d8b30": {
          "model_module": "@jupyter-widgets/controls",
          "model_name": "DescriptionStyleModel",
          "model_module_version": "1.5.0",
          "state": {
            "_model_module": "@jupyter-widgets/controls",
            "_model_module_version": "1.5.0",
            "_model_name": "DescriptionStyleModel",
            "_view_count": null,
            "_view_module": "@jupyter-widgets/base",
            "_view_module_version": "1.2.0",
            "_view_name": "StyleView",
            "description_width": "initial"
          }
        },
        "aefd1d0a58374e70b646f4d358426a19": {
          "model_module": "@jupyter-widgets/base",
          "model_name": "LayoutModel",
          "model_module_version": "1.2.0",
          "state": {
            "_model_module": "@jupyter-widgets/base",
            "_model_module_version": "1.2.0",
            "_model_name": "LayoutModel",
            "_view_count": null,
            "_view_module": "@jupyter-widgets/base",
            "_view_module_version": "1.2.0",
            "_view_name": "LayoutView",
            "align_content": null,
            "align_items": null,
            "align_self": null,
            "border": null,
            "bottom": null,
            "display": null,
            "flex": null,
            "flex_flow": null,
            "grid_area": null,
            "grid_auto_columns": null,
            "grid_auto_flow": null,
            "grid_auto_rows": null,
            "grid_column": null,
            "grid_gap": null,
            "grid_row": null,
            "grid_template_areas": null,
            "grid_template_columns": null,
            "grid_template_rows": null,
            "height": null,
            "justify_content": null,
            "justify_items": null,
            "left": null,
            "margin": null,
            "max_height": null,
            "max_width": null,
            "min_height": null,
            "min_width": null,
            "object_fit": null,
            "object_position": null,
            "order": null,
            "overflow": null,
            "overflow_x": null,
            "overflow_y": null,
            "padding": null,
            "right": null,
            "top": null,
            "visibility": null,
            "width": null
          }
        },
        "aa3bfb6db06f4090b81920bfd122dde8": {
          "model_module": "@jupyter-widgets/controls",
          "model_name": "DescriptionStyleModel",
          "model_module_version": "1.5.0",
          "state": {
            "_model_module": "@jupyter-widgets/controls",
            "_model_module_version": "1.5.0",
            "_model_name": "DescriptionStyleModel",
            "_view_count": null,
            "_view_module": "@jupyter-widgets/base",
            "_view_module_version": "1.2.0",
            "_view_name": "StyleView",
            "description_width": "initial"
          }
        },
        "7df097d31deb446c8ed0fcbc16aeee4b": {
          "model_module": "@jupyter-widgets/controls",
          "model_name": "DatePickerModel",
          "model_module_version": "1.5.0",
          "state": {
            "_dom_classes": [],
            "_model_module": "@jupyter-widgets/controls",
            "_model_module_version": "1.5.0",
            "_model_name": "DatePickerModel",
            "_view_count": null,
            "_view_module": "@jupyter-widgets/controls",
            "_view_module_version": "1.5.0",
            "_view_name": "DatePickerView",
            "description": "Start Date:",
            "description_tooltip": null,
            "disabled": false,
            "layout": "IPY_MODEL_d8c93a0e8df14ce78077f5088b871493",
            "style": "IPY_MODEL_fcbcadeb5138477fa04a0cf56dea4ad3",
            "value": {
              "year": 2015,
              "month": 0,
              "date": 1
            }
          }
        },
        "6f6d7e8bb8e8445c8740a0bfd102b623": {
          "model_module": "@jupyter-widgets/controls",
          "model_name": "DatePickerModel",
          "model_module_version": "1.5.0",
          "state": {
            "_dom_classes": [],
            "_model_module": "@jupyter-widgets/controls",
            "_model_module_version": "1.5.0",
            "_model_name": "DatePickerModel",
            "_view_count": null,
            "_view_module": "@jupyter-widgets/controls",
            "_view_module_version": "1.5.0",
            "_view_name": "DatePickerView",
            "description": "End Date:",
            "description_tooltip": null,
            "disabled": false,
            "layout": "IPY_MODEL_4f3fadcdf5784e3abce70a7a1747f648",
            "style": "IPY_MODEL_e932ed7b93864a79869ad918ba939fab",
            "value": {
              "year": 2024,
              "month": 11,
              "date": 11
            }
          }
        },
        "a10a85c06dd840a39a5d3c1c25a62ebd": {
          "model_module": "@jupyter-widgets/base",
          "model_name": "LayoutModel",
          "model_module_version": "1.2.0",
          "state": {
            "_model_module": "@jupyter-widgets/base",
            "_model_module_version": "1.2.0",
            "_model_name": "LayoutModel",
            "_view_count": null,
            "_view_module": "@jupyter-widgets/base",
            "_view_module_version": "1.2.0",
            "_view_name": "LayoutView",
            "align_content": null,
            "align_items": null,
            "align_self": null,
            "border": null,
            "bottom": null,
            "display": null,
            "flex": null,
            "flex_flow": null,
            "grid_area": null,
            "grid_auto_columns": null,
            "grid_auto_flow": null,
            "grid_auto_rows": null,
            "grid_column": null,
            "grid_gap": null,
            "grid_row": null,
            "grid_template_areas": null,
            "grid_template_columns": null,
            "grid_template_rows": null,
            "height": null,
            "justify_content": null,
            "justify_items": null,
            "left": null,
            "margin": null,
            "max_height": null,
            "max_width": null,
            "min_height": null,
            "min_width": null,
            "object_fit": null,
            "object_position": null,
            "order": null,
            "overflow": null,
            "overflow_x": null,
            "overflow_y": null,
            "padding": null,
            "right": null,
            "top": null,
            "visibility": null,
            "width": null
          }
        },
        "39eb4213b0a24692aa30cf8342b2890e": {
          "model_module": "@jupyter-widgets/base",
          "model_name": "LayoutModel",
          "model_module_version": "1.2.0",
          "state": {
            "_model_module": "@jupyter-widgets/base",
            "_model_module_version": "1.2.0",
            "_model_name": "LayoutModel",
            "_view_count": null,
            "_view_module": "@jupyter-widgets/base",
            "_view_module_version": "1.2.0",
            "_view_name": "LayoutView",
            "align_content": null,
            "align_items": null,
            "align_self": null,
            "border": null,
            "bottom": null,
            "display": null,
            "flex": null,
            "flex_flow": null,
            "grid_area": null,
            "grid_auto_columns": null,
            "grid_auto_flow": null,
            "grid_auto_rows": null,
            "grid_column": null,
            "grid_gap": null,
            "grid_row": null,
            "grid_template_areas": null,
            "grid_template_columns": null,
            "grid_template_rows": null,
            "height": null,
            "justify_content": null,
            "justify_items": null,
            "left": null,
            "margin": null,
            "max_height": null,
            "max_width": null,
            "min_height": null,
            "min_width": null,
            "object_fit": null,
            "object_position": null,
            "order": null,
            "overflow": null,
            "overflow_x": null,
            "overflow_y": null,
            "padding": null,
            "right": null,
            "top": null,
            "visibility": null,
            "width": null
          }
        },
        "6dfe49375d0443fbb29b08021b1a0dc7": {
          "model_module": "@jupyter-widgets/controls",
          "model_name": "SliderStyleModel",
          "model_module_version": "1.5.0",
          "state": {
            "_model_module": "@jupyter-widgets/controls",
            "_model_module_version": "1.5.0",
            "_model_name": "SliderStyleModel",
            "_view_count": null,
            "_view_module": "@jupyter-widgets/base",
            "_view_module_version": "1.2.0",
            "_view_name": "StyleView",
            "description_width": "initial",
            "handle_color": null
          }
        },
        "a038809b66fc4076b0a3f603fa12b57d": {
          "model_module": "@jupyter-widgets/base",
          "model_name": "LayoutModel",
          "model_module_version": "1.2.0",
          "state": {
            "_model_module": "@jupyter-widgets/base",
            "_model_module_version": "1.2.0",
            "_model_name": "LayoutModel",
            "_view_count": null,
            "_view_module": "@jupyter-widgets/base",
            "_view_module_version": "1.2.0",
            "_view_name": "LayoutView",
            "align_content": null,
            "align_items": null,
            "align_self": null,
            "border": null,
            "bottom": null,
            "display": null,
            "flex": null,
            "flex_flow": null,
            "grid_area": null,
            "grid_auto_columns": null,
            "grid_auto_flow": null,
            "grid_auto_rows": null,
            "grid_column": null,
            "grid_gap": null,
            "grid_row": null,
            "grid_template_areas": null,
            "grid_template_columns": null,
            "grid_template_rows": null,
            "height": null,
            "justify_content": null,
            "justify_items": null,
            "left": null,
            "margin": null,
            "max_height": null,
            "max_width": null,
            "min_height": null,
            "min_width": null,
            "object_fit": null,
            "object_position": null,
            "order": null,
            "overflow": null,
            "overflow_x": null,
            "overflow_y": null,
            "padding": null,
            "right": null,
            "top": null,
            "visibility": null,
            "width": null
          }
        },
        "f87a5930b1454d509f65c9c394f11092": {
          "model_module": "@jupyter-widgets/controls",
          "model_name": "ButtonStyleModel",
          "model_module_version": "1.5.0",
          "state": {
            "_model_module": "@jupyter-widgets/controls",
            "_model_module_version": "1.5.0",
            "_model_name": "ButtonStyleModel",
            "_view_count": null,
            "_view_module": "@jupyter-widgets/base",
            "_view_module_version": "1.2.0",
            "_view_name": "StyleView",
            "button_color": null,
            "font_weight": ""
          }
        },
        "d8c93a0e8df14ce78077f5088b871493": {
          "model_module": "@jupyter-widgets/base",
          "model_name": "LayoutModel",
          "model_module_version": "1.2.0",
          "state": {
            "_model_module": "@jupyter-widgets/base",
            "_model_module_version": "1.2.0",
            "_model_name": "LayoutModel",
            "_view_count": null,
            "_view_module": "@jupyter-widgets/base",
            "_view_module_version": "1.2.0",
            "_view_name": "LayoutView",
            "align_content": null,
            "align_items": null,
            "align_self": null,
            "border": null,
            "bottom": null,
            "display": null,
            "flex": null,
            "flex_flow": null,
            "grid_area": null,
            "grid_auto_columns": null,
            "grid_auto_flow": null,
            "grid_auto_rows": null,
            "grid_column": null,
            "grid_gap": null,
            "grid_row": null,
            "grid_template_areas": null,
            "grid_template_columns": null,
            "grid_template_rows": null,
            "height": null,
            "justify_content": null,
            "justify_items": null,
            "left": null,
            "margin": null,
            "max_height": null,
            "max_width": null,
            "min_height": null,
            "min_width": null,
            "object_fit": null,
            "object_position": null,
            "order": null,
            "overflow": null,
            "overflow_x": null,
            "overflow_y": null,
            "padding": null,
            "right": null,
            "top": null,
            "visibility": null,
            "width": null
          }
        },
        "fcbcadeb5138477fa04a0cf56dea4ad3": {
          "model_module": "@jupyter-widgets/controls",
          "model_name": "DescriptionStyleModel",
          "model_module_version": "1.5.0",
          "state": {
            "_model_module": "@jupyter-widgets/controls",
            "_model_module_version": "1.5.0",
            "_model_name": "DescriptionStyleModel",
            "_view_count": null,
            "_view_module": "@jupyter-widgets/base",
            "_view_module_version": "1.2.0",
            "_view_name": "StyleView",
            "description_width": "initial"
          }
        },
        "4f3fadcdf5784e3abce70a7a1747f648": {
          "model_module": "@jupyter-widgets/base",
          "model_name": "LayoutModel",
          "model_module_version": "1.2.0",
          "state": {
            "_model_module": "@jupyter-widgets/base",
            "_model_module_version": "1.2.0",
            "_model_name": "LayoutModel",
            "_view_count": null,
            "_view_module": "@jupyter-widgets/base",
            "_view_module_version": "1.2.0",
            "_view_name": "LayoutView",
            "align_content": null,
            "align_items": null,
            "align_self": null,
            "border": null,
            "bottom": null,
            "display": null,
            "flex": null,
            "flex_flow": null,
            "grid_area": null,
            "grid_auto_columns": null,
            "grid_auto_flow": null,
            "grid_auto_rows": null,
            "grid_column": null,
            "grid_gap": null,
            "grid_row": null,
            "grid_template_areas": null,
            "grid_template_columns": null,
            "grid_template_rows": null,
            "height": null,
            "justify_content": null,
            "justify_items": null,
            "left": null,
            "margin": null,
            "max_height": null,
            "max_width": null,
            "min_height": null,
            "min_width": null,
            "object_fit": null,
            "object_position": null,
            "order": null,
            "overflow": null,
            "overflow_x": null,
            "overflow_y": null,
            "padding": null,
            "right": null,
            "top": null,
            "visibility": null,
            "width": null
          }
        },
        "e932ed7b93864a79869ad918ba939fab": {
          "model_module": "@jupyter-widgets/controls",
          "model_name": "DescriptionStyleModel",
          "model_module_version": "1.5.0",
          "state": {
            "_model_module": "@jupyter-widgets/controls",
            "_model_module_version": "1.5.0",
            "_model_name": "DescriptionStyleModel",
            "_view_count": null,
            "_view_module": "@jupyter-widgets/base",
            "_view_module_version": "1.2.0",
            "_view_name": "StyleView",
            "description_width": "initial"
          }
        },
        "bbe1d4bb15ad4cf6a918f174bd02f30b": {
          "model_module": "@jupyter-widgets/base",
          "model_name": "LayoutModel",
          "model_module_version": "1.2.0",
          "state": {
            "_model_module": "@jupyter-widgets/base",
            "_model_module_version": "1.2.0",
            "_model_name": "LayoutModel",
            "_view_count": null,
            "_view_module": "@jupyter-widgets/base",
            "_view_module_version": "1.2.0",
            "_view_name": "LayoutView",
            "align_content": null,
            "align_items": null,
            "align_self": null,
            "border": null,
            "bottom": null,
            "display": null,
            "flex": null,
            "flex_flow": null,
            "grid_area": null,
            "grid_auto_columns": null,
            "grid_auto_flow": null,
            "grid_auto_rows": null,
            "grid_column": null,
            "grid_gap": null,
            "grid_row": null,
            "grid_template_areas": null,
            "grid_template_columns": null,
            "grid_template_rows": null,
            "height": null,
            "justify_content": null,
            "justify_items": null,
            "left": null,
            "margin": null,
            "max_height": null,
            "max_width": null,
            "min_height": null,
            "min_width": null,
            "object_fit": null,
            "object_position": null,
            "order": null,
            "overflow": null,
            "overflow_x": null,
            "overflow_y": null,
            "padding": null,
            "right": null,
            "top": null,
            "visibility": null,
            "width": null
          }
        }
      }
    }
  },
  "nbformat": 4,
  "nbformat_minor": 0
}